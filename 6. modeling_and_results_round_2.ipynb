{
 "cells": [
  {
   "cell_type": "code",
   "execution_count": 2,
   "metadata": {},
   "outputs": [],
   "source": [
    "import numpy as np\n",
    "import pandas as pd\n",
    "import matplotlib.pyplot as plt\n",
    "import seaborn as sns\n",
    "\n",
    "\n",
    "from sklearn.model_selection import train_test_split    \n",
    "from sklearn.metrics import accuracy_score,classification_report\n",
    "from sklearn.preprocessing import LabelEncoder\n",
    "from sklearn.ensemble import RandomForestClassifier\n",
    "import statsmodels.api as sm\n",
    "\n",
    "\n",
    "%matplotlib inline"
   ]
  },
  {
   "cell_type": "code",
   "execution_count": 3,
   "metadata": {},
   "outputs": [],
   "source": [
    "data = pd.read_csv('data_to_model.csv')\n"
   ]
  },
  {
   "cell_type": "code",
   "execution_count": 4,
   "metadata": {},
   "outputs": [],
   "source": [
    "data = data.set_index('Accident_Index')\n"
   ]
  },
  {
   "cell_type": "code",
   "execution_count": 5,
   "metadata": {},
   "outputs": [],
   "source": [
    "data = data.drop(['Location_Easting_OSGR','Location_Northing_OSGR', '2nd_Road_Class',\n",
    "                  'Latitude', 'Longitude'], axis = 1)"
   ]
  },
  {
   "cell_type": "code",
   "execution_count": 6,
   "metadata": {},
   "outputs": [],
   "source": [
    "#considering all vars\n",
    "\n",
    "\n",
    "discrete_columns = ['Age_Band_of_Driver', 'include_pedestrian',   'Day_of_Week',\n",
    "                    '1st_Road_Class', 'Road_Type', 'Speed_limit',\n",
    "                     'Urban_or_Rural_Area',\n",
    "                     'weekdays', \n",
    "                    'Casualty_IMD_Group', 'Driver_IMD_Group', 'Vehicle_Age_Group',\n",
    "                    'Number_Vehicles_Group', 'Number_Casualties_Group', 'Junction_Group',\n",
    "                    'Pedestrian_Control', 'Pedestrian_PhisFac', 'Active_Light', 'Weather',\n",
    "                    'Road_Surf_Cond', 'Special_Conds', 'Carriageway_Haz', 'Commute_hours']\n",
    "\n",
    "continuous_columns = []#['Longitude', 'Latitude']#, '1st_Road_Number', '2nd_Road_Number']\n",
    "\n",
    "\n",
    "\n",
    "\n",
    "\n",
    "\n",
    "\n",
    "#get_dummies for cat_vars\n",
    "\n",
    "dummy_Casualty_IMD_Group = pd.get_dummies(data['Casualty_IMD_Group'], prefix='Casualty_IMD_Group')\n",
    "dummy_Age_Band_of_Driver = pd.get_dummies(data['Age_Band_of_Driver'], prefix='Age_Band_of_Driver')\n",
    "dummy_Driver_IMD_Group = pd.get_dummies(data['Driver_IMD_Group'], prefix='Driver_IMD_Group')\n",
    "dummy_include_pedestrian = pd.get_dummies(data['include_pedestrian'], prefix='include_pedestrian')\n",
    "dummy_Day_of_Week = pd.get_dummies(data['Day_of_Week'], prefix='Day_of_Week')\n",
    "\n",
    "dummy_1st_Road_Class = pd.get_dummies(data['1st_Road_Class'], prefix='1st_Road_Class')\n",
    "dummy_Road_Type = pd.get_dummies(data['Road_Type'], prefix='Road_Type')\n",
    "dummy_Speed_limit = pd.get_dummies(data['Speed_limit'], prefix='Speed_limit')\n",
    "dummy_Urban_or_Rural_Area = pd.get_dummies(data['Urban_or_Rural_Area'], prefix='Urban_or_Rural_Area')\n",
    "dummy_weekdays = pd.get_dummies(data['weekdays'], prefix='weekdays')\n",
    "\n",
    "dummy_Vehicle_Age_Group = pd.get_dummies(data['Vehicle_Age_Group'], prefix='Vehicle_Age_Group')\n",
    "dummy_Number_Vehicles_Group = pd.get_dummies(data['Number_Vehicles_Group'], prefix='Number_Vehicles_Group')\n",
    "dummy_Number_Casualties_Group = pd.get_dummies(data['Number_Casualties_Group'], prefix='Number_Casualties_Group')\n",
    "dummy_Junction_Group = pd.get_dummies(data['Junction_Group'], prefix='Junction_Group')\n",
    "dummy_Pedestrian_Control = pd.get_dummies(data['Pedestrian_Control'], prefix='Pedestrian_Control')\n",
    "dummy_Pedestrian_PhisFac = pd.get_dummies(data['Pedestrian_PhisFac'], prefix='Pedestrian_PhisFac')\n",
    "\n",
    "dummy_Active_Light = pd.get_dummies(data['Active_Light'], prefix='Active_Light')\n",
    "dummy_Weather = pd.get_dummies(data['Weather'], prefix='Weather')\n",
    "dummy_Road_Surf_Cond = pd.get_dummies(data['Road_Surf_Cond'], prefix='Road_Surf_Cond')\n",
    "dummy_Special_Conds = pd.get_dummies(data['Special_Conds'], prefix='Special_Conds')\n",
    "dummy_Carriageway_Haz = pd.get_dummies(data['Carriageway_Haz'], prefix='Carriageway_Haz')\n",
    "dummy_Commute_hours = pd.get_dummies(data['Commute_hours'], prefix='Commute_hours')\n",
    "\n",
    "\n",
    "\n",
    "\n",
    "\n",
    "continuous = data[continuous_columns]\n",
    "data_new = pd.concat([dummy_Casualty_IMD_Group,dummy_Age_Band_of_Driver,dummy_Driver_IMD_Group,\n",
    "                    dummy_include_pedestrian,  dummy_Day_of_Week,\n",
    "                    dummy_1st_Road_Class, dummy_Road_Type, dummy_Speed_limit, dummy_Urban_or_Rural_Area,\n",
    "                      dummy_weekdays, dummy_Vehicle_Age_Group,\n",
    "                    dummy_Number_Vehicles_Group, dummy_Number_Casualties_Group, dummy_Junction_Group,\n",
    "                    dummy_Pedestrian_Control, dummy_Pedestrian_PhisFac, dummy_Active_Light, dummy_Weather,\n",
    "                    dummy_Road_Surf_Cond, dummy_Special_Conds, dummy_Carriageway_Haz,\n",
    "                      dummy_Commute_hours,continuous,data['Class']],axis=1)\n",
    "\n",
    "x_train,x_test,y_train,y_test = train_test_split(data_new.drop(['Class'],axis=1),data_new['Class'],\n",
    "                                                 train_size = 0.7,test_size = 0.3, \n",
    "                                                 random_state=42)\n",
    "\n",
    "y_train = pd.DataFrame(y_train)\n",
    "y_test = pd.DataFrame(y_test)\n"
   ]
  },
  {
   "cell_type": "code",
   "execution_count": 7,
   "metadata": {},
   "outputs": [
    {
     "data": {
      "text/plain": [
       "0.16519310708724244"
      ]
     },
     "execution_count": 7,
     "metadata": {},
     "output_type": "execute_result"
    }
   ],
   "source": [
    "#0.82858 is proportion betwwen bad and good accidents at the beginning \n",
    "proportion_bad = data[data.Class == 1].shape[0]/data.shape[0]\n",
    "proportion_good = 1 - proportion_bad\n",
    "proportion_bad"
   ]
  },
  {
   "cell_type": "code",
   "execution_count": 8,
   "metadata": {},
   "outputs": [
    {
     "data": {
      "text/plain": [
       "0.16898326898326899"
      ]
     },
     "execution_count": 8,
     "metadata": {},
     "output_type": "execute_result"
    }
   ],
   "source": [
    "data_new_sample = data_new.sample(frac = 0.1, replace=False)\n",
    "proportion_bad = data_new_sample[data_new_sample.Class == 1].shape[0]/data_new_sample.shape[0]\n",
    "proportion_bad"
   ]
  },
  {
   "cell_type": "markdown",
   "metadata": {},
   "source": [
    "# resampling training set to 50/50"
   ]
  },
  {
   "cell_type": "code",
   "execution_count": 18,
   "metadata": {},
   "outputs": [],
   "source": [
    "data_new_sample_train_bad = data_new[data_new['Class'] == 1].sample(frac = 2.5*0.085, replace = False)\n",
    "data_new_sample_train_good = data_new[data_new['Class'] == 0].sample(frac = 2.5*0.015, replace = False)\n",
    "data_train = pd.concat([data_new_sample_train_bad, data_new_sample_train_good])\n",
    "data_train = data_train.sample(frac=1).reset_index(drop=True)"
   ]
  },
  {
   "cell_type": "code",
   "execution_count": 19,
   "metadata": {},
   "outputs": [
    {
     "name": "stdout",
     "output_type": "stream",
     "text": [
      "(3273, 81)\n",
      "(1946, 81)\n",
      "(5219, 81)\n"
     ]
    }
   ],
   "source": [
    "print(data_new_sample_train_bad.shape)\n",
    "print(data_new_sample_train_good.shape)\n",
    "print(data_train.shape)"
   ]
  },
  {
   "cell_type": "code",
   "execution_count": 20,
   "metadata": {},
   "outputs": [],
   "source": [
    "\n",
    "data_test = data_new.sample(frac=0.05, replace = True)\n",
    "x_train = data_train.drop('Class', axis =1)\n",
    "y_train = data_train['Class']\n",
    "x_test = data_test.drop('Class', axis =1)\n",
    "y_test = data_test['Class']"
   ]
  },
  {
   "cell_type": "code",
   "execution_count": 21,
   "metadata": {},
   "outputs": [],
   "source": [
    "#data_new = data_new_sample"
   ]
  },
  {
   "cell_type": "code",
   "execution_count": 22,
   "metadata": {},
   "outputs": [
    {
     "name": "stdout",
     "output_type": "stream",
     "text": [
      "\n",
      "Random Forest - Train Confusion Matrix\n",
      "\n",
      " Predicted     0     1\n",
      "Actual               \n",
      "0          1512   434\n",
      "1            50  3223\n",
      "\n",
      "Random Forest - Train accuracy 0.907\n",
      "\n",
      "\n",
      "Random Forest - Test Confusion Matrix\n",
      "\n",
      " Predicted     0     1\n",
      "Actual               \n",
      "0          1056  2167\n",
      "1            59   603\n",
      "\n",
      "Random Forest - Test accuracy 0.427\n"
     ]
    }
   ],
   "source": [
    "#x_train,x_test,y_train,y_test = train_test_split(data_new.drop(['Class'],axis=1),data_new['Class'],train_size = 0.7,test_size = 0.3, random_state=42)\n",
    "           \n",
    "\n",
    "rf_fit = RandomForestClassifier(n_estimators=1000,criterion=\"gini\",max_depth=100,min_samples_split=3,\n",
    "                                min_samples_leaf=2)\n",
    "rf_fit.fit(x_train,y_train)           \n",
    "\n",
    "print (\"\\nRandom Forest - Train Confusion Matrix\\n\\n\",pd.crosstab(y_train,rf_fit.predict(x_train),\n",
    "                                                                  rownames = [\"Actual\"],colnames = [\"Predicted\"]))      \n",
    "print (\"\\nRandom Forest - Train accuracy\",round(accuracy_score(y_train,rf_fit.predict(x_train)),3))\n",
    "\n",
    "print (\"\\n\\nRandom Forest - Test Confusion Matrix\\n\\n\",pd.crosstab(y_test,rf_fit.predict(x_test),\n",
    "                                                                   rownames = [\"Actual\"],colnames = [\"Predicted\"]))      \n",
    "print (\"\\nRandom Forest - Test accuracy\",round(accuracy_score(y_test,rf_fit.predict(x_test)),3))"
   ]
  },
  {
   "cell_type": "code",
   "execution_count": 23,
   "metadata": {},
   "outputs": [
    {
     "name": "stdout",
     "output_type": "stream",
     "text": [
      "Fitting 5 folds for each of 36 candidates, totalling 180 fits\n"
     ]
    },
    {
     "name": "stderr",
     "output_type": "stream",
     "text": [
      "[Parallel(n_jobs=-1)]: Using backend LokyBackend with 4 concurrent workers.\n",
      "[Parallel(n_jobs=-1)]: Done  42 tasks      | elapsed: 11.2min\n",
      "[Parallel(n_jobs=-1)]: Done 180 out of 180 | elapsed: 44.9min finished\n"
     ]
    },
    {
     "name": "stdout",
     "output_type": "stream",
     "text": [
      "Best Training score: 0.646\n",
      "Best parameters set:\n",
      "\tclf__max_depth: 50\n",
      "\tclf__min_samples_leaf: 2\n",
      "\tclf__min_samples_split: 2\n",
      "\tclf__n_estimators: 2000\n",
      "Testing accuracy: 0.426\n",
      "\n",
      "Complete report of Testing data\n",
      "               precision    recall  f1-score   support\n",
      "\n",
      "           0       0.95      0.33      0.49      3223\n",
      "           1       0.22      0.91      0.35       662\n",
      "\n",
      "   micro avg       0.43      0.43      0.43      3885\n",
      "   macro avg       0.58      0.62      0.42      3885\n",
      "weighted avg       0.82      0.43      0.46      3885\n",
      "\n",
      "\n",
      "\n",
      "Random Forest Grid Search- Test Confusion Matrix\n",
      "\n",
      " Predicted     0     1\n",
      "Actual               \n",
      "0          1054  2169\n",
      "1            61   601\n"
     ]
    }
   ],
   "source": [
    "# Grid Search\n",
    "from sklearn.pipeline import Pipeline\n",
    "from sklearn.model_selection import train_test_split,GridSearchCV\n",
    "\n",
    "pipeline = Pipeline([\n",
    "        ('clf',RandomForestClassifier(criterion='gini'))  ])\n",
    "\n",
    "parameters = {\n",
    "        'clf__n_estimators':(1000,2000,3000),\n",
    "        'clf__max_depth':(50,100,200),\n",
    "        'clf__min_samples_split':(2,3),\n",
    "        'clf__min_samples_leaf':(1,2)  }\n",
    "\n",
    "grid_search = GridSearchCV(pipeline,parameters,n_jobs=-1,cv=5,verbose=1,scoring='accuracy')\n",
    "grid_search.fit(x_train,y_train)\n",
    "\n",
    "\n",
    "print ('Best Training score: %0.3f' % grid_search.best_score_)\n",
    "print ('Best parameters set:')\n",
    "best_parameters = grid_search.best_estimator_.get_params()\n",
    "for param_name in sorted(parameters.keys()):\n",
    "    print ('\\t%s: %r' % (param_name, best_parameters[param_name]))\n",
    "\n",
    "predictions = grid_search.predict(x_test)\n",
    "\n",
    "print (\"Testing accuracy:\",round(accuracy_score(y_test, predictions),4))\n",
    "print (\"\\nComplete report of Testing data\\n\",classification_report(y_test, predictions))\n",
    "\n",
    "print (\"\\n\\nRandom Forest Grid Search- Test Confusion Matrix\\n\\n\",\n",
    "       pd.crosstab(y_test, predictions,rownames = [\"Actual\"],colnames = [\"Predicted\"]))      \n",
    "\n"
   ]
  },
  {
   "cell_type": "code",
   "execution_count": 26,
   "metadata": {},
   "outputs": [
    {
     "name": "stdout",
     "output_type": "stream",
     "text": [
      "\n",
      "Feature ranking:\n",
      "\n",
      "Feature 53 , Number_Vehicles_Group_1 0.0269\n",
      "Feature 40 , Speed_limit_30.0 0.0238\n",
      "Feature 52 , Vehicle_Age_Group_5-10 0.0233\n",
      "Feature 29 , 1st_Road_Class_3 0.0233\n",
      "Feature 8 , Age_Band_of_Driver_6.0 0.0231\n",
      "Feature 51 , Vehicle_Age_Group_10-15 0.0224\n",
      "Feature 54 , Number_Vehicles_Group_2 0.0223\n",
      "Feature 50 , Vehicle_Age_Group_0-5 0.0218\n",
      "Feature 57 , Number_Casualties_Group_1 0.0213\n",
      "Feature 61 , Junction_Group_1 0.0204\n",
      "Feature 32 , 1st_Road_Class_6 0.0203\n",
      "Feature 17 , Driver_IMD_Group_med_low 0.0193\n",
      "Feature 10 , Age_Band_of_Driver_8.0 0.0193\n",
      "Feature 3 , Casualty_IMD_Group_med_low 0.019\n",
      "Feature 78 , Commute_hours_0 0.0183\n",
      "Feature 79 , Commute_hours_1 0.0182\n",
      "Feature 9 , Age_Band_of_Driver_7.0 0.018\n",
      "Feature 25 , Day_of_Week_6 0.0178\n",
      "Feature 63 , Junction_Group_3 0.0175\n",
      "Feature 15 , Driver_IMD_Group_low 0.0175\n",
      "Feature 1 , Casualty_IMD_Group_low 0.0173\n",
      "Feature 24 , Day_of_Week_5 0.017\n",
      "Feature 73 , Road_Surf_Cond_1 0.0169\n",
      "Feature 72 , Road_Surf_Cond_0 0.0169\n",
      "Feature 23 , Day_of_Week_4 0.0167\n",
      "Feature 7 , Age_Band_of_Driver_5.0 0.0165\n",
      "Feature 46 , Urban_or_Rural_Area_2 0.0165\n",
      "Feature 22 , Day_of_Week_3 0.0162\n",
      "Feature 45 , Urban_or_Rural_Area_1 0.0159\n",
      "Feature 36 , Road_Type_6.0 0.0155\n",
      "Feature 49 , Vehicle_Age_Group_+15 0.0155\n",
      "Feature 43 , Speed_limit_60.0 0.0153\n",
      "Feature 16 , Driver_IMD_Group_med_high 0.0151\n",
      "Feature 21 , Day_of_Week_2 0.015\n",
      "Feature 19 , include_pedestrian_1 0.015\n",
      "Feature 58 , Number_Casualties_Group_2 0.0149\n",
      "Feature 2 , Casualty_IMD_Group_med_high 0.0146\n",
      "Feature 18 , include_pedestrian_0 0.0145\n",
      "Feature 30 , 1st_Road_Class_4 0.0135\n",
      "Feature 48 , weekdays_weekend 0.013\n",
      "Feature 47 , weekdays_weekday 0.0128\n",
      "Feature 70 , Weather_0 0.0128\n",
      "Feature 71 , Weather_1 0.0127\n",
      "Feature 6 , Age_Band_of_Driver_4.0 0.0125\n",
      "Feature 62 , Junction_Group_2 0.0119\n",
      "Feature 11 , Age_Band_of_Driver_9.0 0.0119\n",
      "Feature 14 , Driver_IMD_Group_high 0.0119\n",
      "Feature 66 , Pedestrian_PhisFac_1 0.0116\n",
      "Feature 0 , Casualty_IMD_Group_high 0.0114\n",
      "Feature 67 , Pedestrian_PhisFac_2 0.0113\n",
      "Feature 35 , Road_Type_3.0 0.0112\n",
      "Feature 20 , Day_of_Week_1 0.0106\n",
      "Feature 26 , Day_of_Week_7 0.0102\n",
      "Feature 55 , Number_Vehicles_Group_3 0.0097\n",
      "Feature 41 , Speed_limit_40.0 0.0095\n",
      "Feature 31 , 1st_Road_Class_5 0.0089\n",
      "Feature 69 , Active_Light_1 0.0083\n",
      "Feature 68 , Active_Light_0 0.0082\n",
      "Feature 12 , Age_Band_of_Driver_10.0 0.0079\n",
      "Feature 59 , Number_Casualties_Group_3 0.0074\n",
      "Feature 60 , Number_Casualties_Group_4 0.0072\n",
      "Feature 42 , Speed_limit_50.0 0.0065\n",
      "Feature 33 , Road_Type_1.0 0.0062\n",
      "Feature 44 , Speed_limit_70.0 0.0058\n",
      "Feature 13 , Age_Band_of_Driver_11.0 0.0052\n",
      "Feature 27 , 1st_Road_Class_1 0.0041\n",
      "Feature 39 , Speed_limit_20.0 0.004\n",
      "Feature 56 , Number_Vehicles_Group_4 0.0038\n",
      "Feature 34 , Road_Type_2.0 0.0033\n",
      "Feature 75 , Special_Conds_1 0.0029\n",
      "Feature 74 , Special_Conds_0 0.0029\n",
      "Feature 77 , Carriageway_Haz_1 0.0022\n",
      "Feature 76 , Carriageway_Haz_0 0.0021\n",
      "Feature 38 , Road_Type_9.0 0.0017\n",
      "Feature 37 , Road_Type_7.0 0.0011\n",
      "Feature 64 , Pedestrian_Control_1 0.0009\n",
      "Feature 65 , Pedestrian_Control_2 0.0009\n",
      "Feature 28 , 1st_Road_Class_2 0.0002\n",
      "Feature 5 , Age_Band_of_Driver_3.0 0.0001\n",
      "Feature 4 , Age_Band_of_Driver_2.0 0.0\n"
     ]
    }
   ],
   "source": [
    "# Variable Importance chart\n",
    "import matplotlib.pyplot as plt\n",
    "rf_fit = RandomForestClassifier(n_estimators=2000,criterion=\"gini\",\n",
    "                                max_depth=50,min_samples_split=2,min_samples_leaf=2)\n",
    "rf_fit.fit(x_train,y_train)   \n",
    "\n",
    "importances = rf_fit.feature_importances_\n",
    "std = np.std([tree.feature_importances_ for tree in rf_fit.estimators_], axis=0)\n",
    "indices = np.argsort(importances)[::-1]\n",
    "\n",
    "colnames = list(x_train.columns)\n",
    "# Print the feature ranking\n",
    "print(\"\\nFeature ranking:\\n\")\n",
    "for f in range(x_train.shape[1]):\n",
    "    print (\"Feature\",indices[f],\",\",colnames[indices[f]],round(importances[indices[f]],4))"
   ]
  },
  {
   "cell_type": "code",
   "execution_count": null,
   "metadata": {},
   "outputs": [],
   "source": []
  },
  {
   "cell_type": "code",
   "execution_count": 27,
   "metadata": {},
   "outputs": [
    {
     "name": "stdout",
     "output_type": "stream",
     "text": [
      "\n",
      "Decision Tree - Train Confusion Matrix\n",
      "\n",
      " Predicted    0     1\n",
      "Actual              \n",
      "0          892  1054\n",
      "1          743  2530\n",
      "\n",
      "Decision Tree - Train accuracy: 0.656\n",
      "\n",
      "Decision Tree - Train Classification Report\n",
      "               precision    recall  f1-score   support\n",
      "\n",
      "           0       0.55      0.46      0.50      1946\n",
      "           1       0.71      0.77      0.74      3273\n",
      "\n",
      "   micro avg       0.66      0.66      0.66      5219\n",
      "   macro avg       0.63      0.62      0.62      5219\n",
      "weighted avg       0.65      0.66      0.65      5219\n",
      "\n",
      "\n",
      "\n",
      "Decision Tree - Test Confusion Matrix\n",
      "\n",
      " Predicted     0     1\n",
      "Actual               \n",
      "0          1448  1775\n",
      "1           135   527\n",
      "\n",
      "Decision Tree - Test accuracy: 0.508\n",
      "\n",
      "Decision Tree - Test Classification Report\n",
      "               precision    recall  f1-score   support\n",
      "\n",
      "           0       0.91      0.45      0.60      3223\n",
      "           1       0.23      0.80      0.36       662\n",
      "\n",
      "   micro avg       0.51      0.51      0.51      3885\n",
      "   macro avg       0.57      0.62      0.48      3885\n",
      "weighted avg       0.80      0.51      0.56      3885\n",
      "\n"
     ]
    }
   ],
   "source": [
    "#x_train,x_test,y_train,y_test = train_test_split(data_new.drop(['Class'],axis=1),data_new['Class']\n",
    "#                                                 ,train_size = 0.7,test_size = 0.3, random_state=42)\n",
    "# Decision Tree Classifier\n",
    "from sklearn.tree import DecisionTreeClassifier\n",
    "\n",
    "\n",
    "dt_fit = DecisionTreeClassifier(criterion=\"gini\",max_depth=5,min_samples_split=2,min_samples_leaf=2,random_state=42)\n",
    "dt_fit.fit(x_train,y_train)\n",
    "\n",
    "print (\"\\nDecision Tree - Train Confusion Matrix\\n\\n\",pd.crosstab(y_train,dt_fit.predict(x_train),\n",
    "                                                                  rownames = [\"Actual\"],colnames = [\"Predicted\"]))      \n",
    "print (\"\\nDecision Tree - Train accuracy:\",round(accuracy_score(y_train,dt_fit.predict(x_train)),3))\n",
    "print (\"\\nDecision Tree - Train Classification Report\\n\",classification_report(y_train,dt_fit.predict(x_train)))\n",
    "\n",
    "print (\"\\n\\nDecision Tree - Test Confusion Matrix\\n\\n\",pd.crosstab(y_test,dt_fit.predict(x_test),\n",
    "                                                                   rownames = [\"Actual\"],colnames = [\"Predicted\"]))      \n",
    "print (\"\\nDecision Tree - Test accuracy:\",round(accuracy_score(y_test,dt_fit.predict(x_test)),3))\n",
    "print (\"\\nDecision Tree - Test Classification Report\\n\",classification_report(y_test,dt_fit.predict(x_test)))"
   ]
  },
  {
   "cell_type": "code",
   "execution_count": 28,
   "metadata": {},
   "outputs": [
    {
     "name": "stdout",
     "output_type": "stream",
     "text": [
      "\n",
      "Class Weights {0: 0.01, 1: 0.99} Train accuracy: 0.631 Test accuracy: 0.176\n",
      "Test Confusion Matrix\n",
      "\n",
      " Predicted   0     1\n",
      "Actual             \n",
      "0          22  3201\n",
      "1           0   662\n",
      "\n",
      "Class Weights {0: 0.1, 1: 0.9} Train accuracy: 0.63 Test accuracy: 0.176\n",
      "Test Confusion Matrix\n",
      "\n",
      " Predicted   0     1\n",
      "Actual             \n",
      "0          22  3201\n",
      "1           1   661\n",
      "\n",
      "Class Weights {0: 0.2, 1: 0.8} Train accuracy: 0.637 Test accuracy: 0.183\n",
      "Test Confusion Matrix\n",
      "\n",
      " Predicted   0     1\n",
      "Actual             \n",
      "0          52  3171\n",
      "1           2   660\n",
      "\n",
      "Class Weights {0: 0.3, 1: 0.7} Train accuracy: 0.638 Test accuracy: 0.186\n",
      "Test Confusion Matrix\n",
      "\n",
      " Predicted   0     1\n",
      "Actual             \n",
      "0          66  3157\n",
      "1           4   658\n",
      "\n",
      "Class Weights {0: 0.4, 1: 0.6} Train accuracy: 0.642 Test accuracy: 0.214\n",
      "Test Confusion Matrix\n",
      "\n",
      " Predicted    0     1\n",
      "Actual              \n",
      "0          178  3045\n",
      "1           10   652\n",
      "\n",
      "Class Weights {0: 0.5, 1: 0.5} Train accuracy: 0.656 Test accuracy: 0.508\n",
      "Test Confusion Matrix\n",
      "\n",
      " Predicted     0     1\n",
      "Actual               \n",
      "0          1448  1775\n",
      "1           135   527\n",
      "\n",
      "Class Weights {0: 0.6, 1: 0.4} Train accuracy: 0.636 Test accuracy: 0.605\n",
      "Test Confusion Matrix\n",
      "\n",
      " Predicted     0     1\n",
      "Actual               \n",
      "0          1890  1333\n",
      "1           202   460\n",
      "\n",
      "Class Weights {0: 0.7, 1: 0.30000000000000004} Train accuracy: 0.59 Test accuracy: 0.664\n",
      "Test Confusion Matrix\n",
      "\n",
      " Predicted     0    1\n",
      "Actual              \n",
      "0          2253  970\n",
      "1           335  327\n"
     ]
    }
   ],
   "source": [
    "# Tuning class weights to analyze accuracy, precision & recall\n",
    "dummyarray = np.empty((6,10))\n",
    "dt_wttune = pd.DataFrame(dummyarray)\n",
    "\n",
    "dt_wttune.columns = [\"zero_wght\",\"one_wght\",\"tr_accuracy\",\"tst_accuracy\",\"prec_zero\",\"prec_one\",\n",
    "                     \"prec_ovll\",\"recl_zero\",\"recl_one\",\"recl_ovll\"]\n",
    "\n",
    "zero_clwghts = [0.01,0.1,0.2,0.3,0.4,0.5,0.6,0.7]\n",
    "\n",
    "#for each combo of weight-class\n",
    "for i in range(len(zero_clwghts)):\n",
    "    #dictionary considering class-weights zero or one\n",
    "    clwght = {0:zero_clwghts[i],1:1.0-zero_clwghts[i]}\n",
    "    dt_fit = DecisionTreeClassifier(criterion=\"gini\",max_depth=5,min_samples_split=2,\n",
    "                                    min_samples_leaf=2,random_state=42,class_weight = clwght)\n",
    "    dt_fit.fit(x_train,y_train)\n",
    "    dt_wttune.loc[i, 'zero_wght'] = clwght[0]       \n",
    "    dt_wttune.loc[i, 'one_wght'] = clwght[1]     \n",
    "    dt_wttune.loc[i, 'tr_accuracy'] = round(accuracy_score(y_train,dt_fit.predict(x_train)),3)    \n",
    "    dt_wttune.loc[i, 'tst_accuracy'] = round(accuracy_score(y_test,dt_fit.predict(x_test)),3)    \n",
    "        \n",
    "    clf_sp = classification_report(y_test,dt_fit.predict(x_test)).split()\n",
    "    dt_wttune.loc[i, 'prec_zero'] = float(clf_sp[5])   \n",
    "    dt_wttune.loc[i, 'prec_one'] = float(clf_sp[10])   \n",
    "    dt_wttune.loc[i, 'prec_ovll'] = float(clf_sp[17])   \n",
    "    \n",
    "    dt_wttune.loc[i, 'recl_zero'] = float(clf_sp[6])   \n",
    "    dt_wttune.loc[i, 'recl_one'] = float(clf_sp[11])   \n",
    "    dt_wttune.loc[i, 'recl_ovll'] = float(clf_sp[18])\n",
    "    print (\"\\nClass Weights\",clwght,\"Train accuracy:\",round(accuracy_score(y_train,dt_fit.predict(x_train)),3),\n",
    "           \"Test accuracy:\",round(accuracy_score(y_test,dt_fit.predict(x_test)),3))\n",
    "    print (\"Test Confusion Matrix\\n\\n\",pd.crosstab(y_test,dt_fit.predict(x_test),rownames = [\"Actual\"],\n",
    "                                                   colnames = [\"Predicted\"])) "
   ]
  },
  {
   "cell_type": "code",
   "execution_count": 29,
   "metadata": {},
   "outputs": [
    {
     "name": "stdout",
     "output_type": "stream",
     "text": [
      "\n",
      "Bagging - Train Confusion Matrix\n",
      "\n",
      " Predicted    0     1\n",
      "Actual              \n",
      "0          668  1278\n",
      "1          418  2855\n",
      "\n",
      "Bagging- Train accuracy 0.675\n",
      "\n",
      "Bagging  - Train Classification Report\n",
      "               precision    recall  f1-score   support\n",
      "\n",
      "           0       0.62      0.34      0.44      1946\n",
      "           1       0.69      0.87      0.77      3273\n",
      "\n",
      "   micro avg       0.68      0.68      0.68      5219\n",
      "   macro avg       0.65      0.61      0.61      5219\n",
      "weighted avg       0.66      0.68      0.65      5219\n",
      "\n",
      "\n",
      "\n",
      "Bagging - Test Confusion Matrix\n",
      "\n",
      " Predicted     0     1\n",
      "Actual               \n",
      "0          1015  2208\n",
      "1            64   598\n",
      "\n",
      "Bagging - Test accuracy 0.415\n",
      "\n",
      "Bagging - Test Classification Report\n",
      "               precision    recall  f1-score   support\n",
      "\n",
      "           0       0.94      0.31      0.47      3223\n",
      "           1       0.21      0.90      0.34       662\n",
      "\n",
      "   micro avg       0.42      0.42      0.42      3885\n",
      "   macro avg       0.58      0.61      0.41      3885\n",
      "weighted avg       0.82      0.42      0.45      3885\n",
      "\n"
     ]
    }
   ],
   "source": [
    "# Bagging Classifier\n",
    "from sklearn.tree import DecisionTreeClassifier\n",
    "from sklearn.ensemble import BaggingClassifier\n",
    "\n",
    "#define the object\n",
    "dt_fit = DecisionTreeClassifier(criterion=\"gini\",max_depth=5,min_samples_split=2,min_samples_leaf=2,random_state=42,\n",
    "                                class_weight = {0:0.5,1:0.5})\n",
    "\n",
    "#definr the ensemble method for using with the object\n",
    "bag_fit = BaggingClassifier(base_estimator= dt_fit,n_estimators=5000,max_samples=0.67,max_features=1.0,\n",
    "                            bootstrap=True,bootstrap_features=True,n_jobs=-1,random_state=42)\n",
    "\n",
    "bag_fit.fit(x_train, y_train)\n",
    "\n",
    "print (\"\\nBagging - Train Confusion Matrix\\n\\n\",pd.crosstab(y_train,bag_fit.predict(x_train),\n",
    "                                                            rownames = [\"Actual\"],colnames = [\"Predicted\"]))      \n",
    "print (\"\\nBagging- Train accuracy\",round(accuracy_score(y_train,bag_fit.predict(x_train)),3))\n",
    "print (\"\\nBagging  - Train Classification Report\\n\",classification_report(y_train,bag_fit.predict(x_train)))\n",
    "\n",
    "print (\"\\n\\nBagging - Test Confusion Matrix\\n\\n\",pd.crosstab(y_test,bag_fit.predict(x_test),\n",
    "                                                             rownames = [\"Actual\"],colnames = [\"Predicted\"]))      \n",
    "print (\"\\nBagging - Test accuracy\",round(accuracy_score(y_test,bag_fit.predict(x_test)),3))\n",
    "print (\"\\nBagging - Test Classification Report\\n\",classification_report(y_test,bag_fit.predict(x_test)))\n"
   ]
  },
  {
   "cell_type": "code",
   "execution_count": 30,
   "metadata": {},
   "outputs": [
    {
     "name": "stdout",
     "output_type": "stream",
     "text": [
      "\n",
      "Random Forest - Train Confusion Matrix\n",
      "\n",
      " Predicted    0     1\n",
      "Actual              \n",
      "0          204  1742\n",
      "1           77  3196\n",
      "\n",
      "Random Forest - Train accuracy 0.651\n",
      "\n",
      "Random Forest  - Train Classification Report\n",
      "               precision    recall  f1-score   support\n",
      "\n",
      "           0       0.73      0.10      0.18      1946\n",
      "           1       0.65      0.98      0.78      3273\n",
      "\n",
      "   micro avg       0.65      0.65      0.65      5219\n",
      "   macro avg       0.69      0.54      0.48      5219\n",
      "weighted avg       0.68      0.65      0.56      5219\n",
      "\n",
      "\n",
      "\n",
      "Random Forest - Test Confusion Matrix\n",
      "\n",
      " Predicted    0     1\n",
      "Actual              \n",
      "0          294  2929\n",
      "1           14   648\n",
      "\n",
      "Random Forest - Test accuracy 0.242\n",
      "\n",
      "Random Forest - Test Classification Report\n",
      "               precision    recall  f1-score   support\n",
      "\n",
      "           0       0.95      0.09      0.17      3223\n",
      "           1       0.18      0.98      0.31       662\n",
      "\n",
      "   micro avg       0.24      0.24      0.24      3885\n",
      "   macro avg       0.57      0.54      0.24      3885\n",
      "weighted avg       0.82      0.24      0.19      3885\n",
      "\n"
     ]
    }
   ],
   "source": [
    "# Random Forest Classifier\n",
    "from sklearn.ensemble import RandomForestClassifier\n",
    "\n",
    "rf_fit = RandomForestClassifier(n_estimators=5000,criterion=\"gini\",max_depth=5,min_samples_split=2,bootstrap=True,\n",
    "                                max_features='auto',random_state=42,min_samples_leaf=1,class_weight = {0:0.5,1:0.5})\n",
    "rf_fit.fit(x_train,y_train)       \n",
    "\n",
    "print (\"\\nRandom Forest - Train Confusion Matrix\\n\\n\",pd.crosstab(y_train,rf_fit.predict(x_train),\n",
    "                                                                  rownames = [\"Actual\"],colnames = [\"Predicted\"]))      \n",
    "print (\"\\nRandom Forest - Train accuracy\",round(accuracy_score(y_train,rf_fit.predict(x_train)),3))\n",
    "print (\"\\nRandom Forest  - Train Classification Report\\n\",classification_report(y_train,rf_fit.predict(x_train)))\n",
    "\n",
    "print (\"\\n\\nRandom Forest - Test Confusion Matrix\\n\\n\",pd.crosstab(y_test,rf_fit.predict(x_test),\n",
    "                                                                   rownames = [\"Actual\"],colnames = [\"Predicted\"]))      \n",
    "print (\"\\nRandom Forest - Test accuracy\",round(accuracy_score(y_test,rf_fit.predict(x_test)),3))\n",
    "print (\"\\nRandom Forest - Test Classification Report\\n\",classification_report(y_test,rf_fit.predict(x_test)))"
   ]
  },
  {
   "cell_type": "code",
   "execution_count": 102,
   "metadata": {},
   "outputs": [
    {
     "data": {
      "image/png": "[encoded data removed]",
      "text/plain": [
       "<Figure size 1440x1080 with 1 Axes>"
      ]
     },
     "metadata": {},
     "output_type": "display_data"
    },
    {
     "data": {
      "text/plain": [
       "<Figure size 432x288 with 0 Axes>"
      ]
     },
     "metadata": {},
     "output_type": "display_data"
    }
   ],
   "source": [
    "# Plot of Variable importance by mean decrease in gini\n",
    "model_ranks = pd.Series(rf_fit.feature_importances_,\n",
    "                        index=x_train.columns, name='Importance').sort_values(ascending=False, inplace=False)\n",
    "model_ranks.index.name = 'Variables'\n",
    "top_features = model_ranks.iloc[:31].sort_values(ascending=True,inplace=False)\n",
    "plt.figure(figsize=(20,15))\n",
    "ax = top_features.plot(kind='barh')\n",
    "_ = ax.set_title(\"Variable Importance Plot\")\n",
    "_ = ax.set_xlabel('Mean decrease in Variance')\n",
    "_ = ax.set_yticklabels(top_features.index, fontsize=13)\n",
    "plt.show()\n",
    "plt.savefig('variable_importance_plot_round_2')"
   ]
  },
  {
   "cell_type": "raw",
   "metadata": {},
   "source": [
    "Considering these results, I would recommend building more physical facilities for pedestrians (Pedestrian_PhisFac), better road maintenance, fixing light availability (Active_Light) as urgent actions in order to decrease the number and severity of accidents in the County of York. Finally, other variables that may affect the number of accidents, but that are also more difficult to fix, are: the age of vehicles and drivers (driver’s age group 9 and 10 shows up) and IMD have no solution at all."
   ]
  },
  {
   "cell_type": "code",
   "execution_count": null,
   "metadata": {},
   "outputs": [],
   "source": []
  },
  {
   "cell_type": "code",
   "execution_count": null,
   "metadata": {},
   "outputs": [],
   "source": [
    "\n"
   ]
  },
  {
   "cell_type": "code",
   "execution_count": null,
   "metadata": {},
   "outputs": [],
   "source": []
  }
 ],
 "metadata": {
  "kernelspec": {
   "display_name": "Python 3",
   "language": "python",
   "name": "python3"
  },
  "language_info": {
   "codemirror_mode": {
    "name": "ipython",
    "version": 3
   },
   "file_extension": ".py",
   "mimetype": "text/x-python",
   "name": "python",
   "nbconvert_exporter": "python",
   "pygments_lexer": "ipython3",
   "version": "3.6.6"
  }
 },
 "nbformat": 4,
 "nbformat_minor": 2
}
