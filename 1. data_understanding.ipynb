{
 "cells": [
  {
   "cell_type": "code",
   "execution_count": 10,
   "metadata": {},
   "outputs": [],
   "source": [
    "import numpy as np\n",
    "import pandas as pd\n",
    "import matplotlib.pyplot as plt\n",
    "from datetime import datetime\n",
    "import seaborn as sns\n",
    "\n",
    "\n",
    "# Definitions\n",
    "pd.set_option('display.float_format', lambda x: '%.3f' % x)\n",
    "\n",
    "njobs = -1\n",
    "randomState = 0\n",
    "\n",
    "\n",
    "%matplotlib inline"
   ]
  },
  {
   "cell_type": "code",
   "execution_count": 11,
   "metadata": {},
   "outputs": [
    {
     "data": {
      "text/html": [
       "<div>\n",
       "<style scoped>\n",
       "    .dataframe tbody tr th:only-of-type {\n",
       "        vertical-align: middle;\n",
       "    }\n",
       "\n",
       "    .dataframe tbody tr th {\n",
       "        vertical-align: top;\n",
       "    }\n",
       "\n",
       "    .dataframe thead th {\n",
       "        text-align: right;\n",
       "    }\n",
       "</style>\n",
       "<table border=\"1\" class=\"dataframe\">\n",
       "  <thead>\n",
       "    <tr style=\"text-align: right;\">\n",
       "      <th></th>\n",
       "      <th>Location_Easting_OSGR</th>\n",
       "      <th>Location_Northing_OSGR</th>\n",
       "      <th>Longitude</th>\n",
       "      <th>Latitude</th>\n",
       "      <th>Police_Force</th>\n",
       "      <th>Accident_Severity</th>\n",
       "      <th>Number_of_Vehicles</th>\n",
       "      <th>Number_of_Casualties</th>\n",
       "      <th>Date</th>\n",
       "      <th>Day_of_Week</th>\n",
       "      <th>...</th>\n",
       "      <th>Pedestrian_Crossing-Human_Control</th>\n",
       "      <th>Pedestrian_Crossing-Physical_Facilities</th>\n",
       "      <th>Light_Conditions</th>\n",
       "      <th>Weather_Conditions</th>\n",
       "      <th>Road_Surface_Conditions</th>\n",
       "      <th>Special_Conditions_at_Site</th>\n",
       "      <th>Carriageway_Hazards</th>\n",
       "      <th>Urban_or_Rural_Area</th>\n",
       "      <th>Did_Police_Officer_Attend_Scene_of_Accident</th>\n",
       "      <th>LSOA_of_Accident_Location</th>\n",
       "    </tr>\n",
       "    <tr>\n",
       "      <th>Accident_Index</th>\n",
       "      <th></th>\n",
       "      <th></th>\n",
       "      <th></th>\n",
       "      <th></th>\n",
       "      <th></th>\n",
       "      <th></th>\n",
       "      <th></th>\n",
       "      <th></th>\n",
       "      <th></th>\n",
       "      <th></th>\n",
       "      <th></th>\n",
       "      <th></th>\n",
       "      <th></th>\n",
       "      <th></th>\n",
       "      <th></th>\n",
       "      <th></th>\n",
       "      <th></th>\n",
       "      <th></th>\n",
       "      <th></th>\n",
       "      <th></th>\n",
       "      <th></th>\n",
       "    </tr>\n",
       "  </thead>\n",
       "  <tbody>\n",
       "    <tr>\n",
       "      <th>2016010000005</th>\n",
       "      <td>519310.000</td>\n",
       "      <td>188730.000</td>\n",
       "      <td>-0.279</td>\n",
       "      <td>51.585</td>\n",
       "      <td>1</td>\n",
       "      <td>3</td>\n",
       "      <td>2</td>\n",
       "      <td>1</td>\n",
       "      <td>01/11/2016</td>\n",
       "      <td>3</td>\n",
       "      <td>...</td>\n",
       "      <td>0</td>\n",
       "      <td>0</td>\n",
       "      <td>5</td>\n",
       "      <td>1</td>\n",
       "      <td>1</td>\n",
       "      <td>0</td>\n",
       "      <td>0</td>\n",
       "      <td>1</td>\n",
       "      <td>1</td>\n",
       "      <td>E01000543</td>\n",
       "    </tr>\n",
       "    <tr>\n",
       "      <th>2016010000006</th>\n",
       "      <td>551920.000</td>\n",
       "      <td>174560.000</td>\n",
       "      <td>0.185</td>\n",
       "      <td>51.450</td>\n",
       "      <td>1</td>\n",
       "      <td>3</td>\n",
       "      <td>1</td>\n",
       "      <td>1</td>\n",
       "      <td>01/11/2016</td>\n",
       "      <td>3</td>\n",
       "      <td>...</td>\n",
       "      <td>0</td>\n",
       "      <td>0</td>\n",
       "      <td>4</td>\n",
       "      <td>1</td>\n",
       "      <td>1</td>\n",
       "      <td>0</td>\n",
       "      <td>0</td>\n",
       "      <td>1</td>\n",
       "      <td>1</td>\n",
       "      <td>E01000375</td>\n",
       "    </tr>\n",
       "    <tr>\n",
       "      <th>2016010000008</th>\n",
       "      <td>505930.000</td>\n",
       "      <td>183850.000</td>\n",
       "      <td>-0.474</td>\n",
       "      <td>51.544</td>\n",
       "      <td>1</td>\n",
       "      <td>3</td>\n",
       "      <td>1</td>\n",
       "      <td>1</td>\n",
       "      <td>01/11/2016</td>\n",
       "      <td>3</td>\n",
       "      <td>...</td>\n",
       "      <td>0</td>\n",
       "      <td>0</td>\n",
       "      <td>4</td>\n",
       "      <td>1</td>\n",
       "      <td>1</td>\n",
       "      <td>0</td>\n",
       "      <td>0</td>\n",
       "      <td>1</td>\n",
       "      <td>1</td>\n",
       "      <td>E01033725</td>\n",
       "    </tr>\n",
       "    <tr>\n",
       "      <th>2016010000016</th>\n",
       "      <td>527770.000</td>\n",
       "      <td>168930.000</td>\n",
       "      <td>-0.164</td>\n",
       "      <td>51.405</td>\n",
       "      <td>1</td>\n",
       "      <td>3</td>\n",
       "      <td>1</td>\n",
       "      <td>1</td>\n",
       "      <td>01/11/2016</td>\n",
       "      <td>3</td>\n",
       "      <td>...</td>\n",
       "      <td>0</td>\n",
       "      <td>0</td>\n",
       "      <td>1</td>\n",
       "      <td>1</td>\n",
       "      <td>1</td>\n",
       "      <td>0</td>\n",
       "      <td>0</td>\n",
       "      <td>1</td>\n",
       "      <td>1</td>\n",
       "      <td>E01003379</td>\n",
       "    </tr>\n",
       "    <tr>\n",
       "      <th>2016010000018</th>\n",
       "      <td>510740.000</td>\n",
       "      <td>177230.000</td>\n",
       "      <td>-0.407</td>\n",
       "      <td>51.483</td>\n",
       "      <td>1</td>\n",
       "      <td>3</td>\n",
       "      <td>2</td>\n",
       "      <td>1</td>\n",
       "      <td>01/11/2016</td>\n",
       "      <td>3</td>\n",
       "      <td>...</td>\n",
       "      <td>0</td>\n",
       "      <td>0</td>\n",
       "      <td>1</td>\n",
       "      <td>1</td>\n",
       "      <td>1</td>\n",
       "      <td>0</td>\n",
       "      <td>0</td>\n",
       "      <td>1</td>\n",
       "      <td>1</td>\n",
       "      <td>E01002583</td>\n",
       "    </tr>\n",
       "  </tbody>\n",
       "</table>\n",
       "<p>5 rows × 31 columns</p>\n",
       "</div>"
      ],
      "text/plain": [
       "                Location_Easting_OSGR  Location_Northing_OSGR  Longitude  \\\n",
       "Accident_Index                                                             \n",
       "2016010000005              519310.000              188730.000     -0.279   \n",
       "2016010000006              551920.000              174560.000      0.185   \n",
       "2016010000008              505930.000              183850.000     -0.474   \n",
       "2016010000016              527770.000              168930.000     -0.164   \n",
       "2016010000018              510740.000              177230.000     -0.407   \n",
       "\n",
       "                Latitude  Police_Force  Accident_Severity  Number_of_Vehicles  \\\n",
       "Accident_Index                                                                  \n",
       "2016010000005     51.585             1                  3                   2   \n",
       "2016010000006     51.450             1                  3                   1   \n",
       "2016010000008     51.544             1                  3                   1   \n",
       "2016010000016     51.405             1                  3                   1   \n",
       "2016010000018     51.483             1                  3                   2   \n",
       "\n",
       "                Number_of_Casualties        Date  Day_of_Week  \\\n",
       "Accident_Index                                                  \n",
       "2016010000005                      1  01/11/2016            3   \n",
       "2016010000006                      1  01/11/2016            3   \n",
       "2016010000008                      1  01/11/2016            3   \n",
       "2016010000016                      1  01/11/2016            3   \n",
       "2016010000018                      1  01/11/2016            3   \n",
       "\n",
       "                          ...             Pedestrian_Crossing-Human_Control  \\\n",
       "Accident_Index            ...                                                 \n",
       "2016010000005             ...                                             0   \n",
       "2016010000006             ...                                             0   \n",
       "2016010000008             ...                                             0   \n",
       "2016010000016             ...                                             0   \n",
       "2016010000018             ...                                             0   \n",
       "\n",
       "                Pedestrian_Crossing-Physical_Facilities Light_Conditions  \\\n",
       "Accident_Index                                                             \n",
       "2016010000005                                         0                5   \n",
       "2016010000006                                         0                4   \n",
       "2016010000008                                         0                4   \n",
       "2016010000016                                         0                1   \n",
       "2016010000018                                         0                1   \n",
       "\n",
       "                Weather_Conditions  Road_Surface_Conditions  \\\n",
       "Accident_Index                                                \n",
       "2016010000005                    1                        1   \n",
       "2016010000006                    1                        1   \n",
       "2016010000008                    1                        1   \n",
       "2016010000016                    1                        1   \n",
       "2016010000018                    1                        1   \n",
       "\n",
       "                Special_Conditions_at_Site  Carriageway_Hazards  \\\n",
       "Accident_Index                                                    \n",
       "2016010000005                            0                    0   \n",
       "2016010000006                            0                    0   \n",
       "2016010000008                            0                    0   \n",
       "2016010000016                            0                    0   \n",
       "2016010000018                            0                    0   \n",
       "\n",
       "                Urban_or_Rural_Area  \\\n",
       "Accident_Index                        \n",
       "2016010000005                     1   \n",
       "2016010000006                     1   \n",
       "2016010000008                     1   \n",
       "2016010000016                     1   \n",
       "2016010000018                     1   \n",
       "\n",
       "                Did_Police_Officer_Attend_Scene_of_Accident  \\\n",
       "Accident_Index                                                \n",
       "2016010000005                                             1   \n",
       "2016010000006                                             1   \n",
       "2016010000008                                             1   \n",
       "2016010000016                                             1   \n",
       "2016010000018                                             1   \n",
       "\n",
       "                LSOA_of_Accident_Location  \n",
       "Accident_Index                             \n",
       "2016010000005                   E01000543  \n",
       "2016010000006                   E01000375  \n",
       "2016010000008                   E01033725  \n",
       "2016010000016                   E01003379  \n",
       "2016010000018                   E01002583  \n",
       "\n",
       "[5 rows x 31 columns]"
      ]
     },
     "execution_count": 11,
     "metadata": {},
     "output_type": "execute_result"
    }
   ],
   "source": [
    "acc_data = pd.read_csv('data/Accidents2016.csv', index_col=0, dtype={'LSOA_of_Accident_Location': str})\n",
    "acc_data.head()"
   ]
  },
  {
   "cell_type": "code",
   "execution_count": 12,
   "metadata": {},
   "outputs": [
    {
     "data": {
      "text/plain": [
       "(136621, 31)"
      ]
     },
     "execution_count": 12,
     "metadata": {},
     "output_type": "execute_result"
    }
   ],
   "source": [
    "# #rows and #columns\n",
    "acc_data.shape"
   ]
  },
  {
   "cell_type": "code",
   "execution_count": 13,
   "metadata": {},
   "outputs": [
    {
     "name": "stdout",
     "output_type": "stream",
     "text": [
      "<class 'pandas.core.frame.DataFrame'>\n",
      "Index: 136621 entries, 2016010000005 to 2016984133416\n",
      "Data columns (total 31 columns):\n",
      "Location_Easting_OSGR                          136614 non-null float64\n",
      "Location_Northing_OSGR                         136614 non-null float64\n",
      "Longitude                                      136614 non-null float64\n",
      "Latitude                                       136614 non-null float64\n",
      "Police_Force                                   136621 non-null int64\n",
      "Accident_Severity                              136621 non-null int64\n",
      "Number_of_Vehicles                             136621 non-null int64\n",
      "Number_of_Casualties                           136621 non-null int64\n",
      "Date                                           136621 non-null object\n",
      "Day_of_Week                                    136621 non-null int64\n",
      "Time                                           136619 non-null object\n",
      "Local_Authority_(District)                     136621 non-null int64\n",
      "Local_Authority_(Highway)                      136621 non-null object\n",
      "1st_Road_Class                                 136621 non-null int64\n",
      "1st_Road_Number                                136621 non-null int64\n",
      "Road_Type                                      136621 non-null int64\n",
      "Speed_limit                                    136584 non-null float64\n",
      "Junction_Detail                                136621 non-null int64\n",
      "Junction_Control                               136621 non-null int64\n",
      "2nd_Road_Class                                 136621 non-null int64\n",
      "2nd_Road_Number                                136621 non-null int64\n",
      "Pedestrian_Crossing-Human_Control              136621 non-null int64\n",
      "Pedestrian_Crossing-Physical_Facilities        136621 non-null int64\n",
      "Light_Conditions                               136621 non-null int64\n",
      "Weather_Conditions                             136621 non-null int64\n",
      "Road_Surface_Conditions                        136621 non-null int64\n",
      "Special_Conditions_at_Site                     136621 non-null int64\n",
      "Carriageway_Hazards                            136621 non-null int64\n",
      "Urban_or_Rural_Area                            136621 non-null int64\n",
      "Did_Police_Officer_Attend_Scene_of_Accident    136621 non-null int64\n",
      "LSOA_of_Accident_Location                      128270 non-null object\n",
      "dtypes: float64(5), int64(22), object(4)\n",
      "memory usage: 33.4+ MB\n"
     ]
    }
   ],
   "source": [
    "#information about datatypes\n",
    "acc_data.info()"
   ]
  },
  {
   "cell_type": "code",
   "execution_count": 14,
   "metadata": {},
   "outputs": [
    {
     "data": {
      "text/html": [
       "<div>\n",
       "<style scoped>\n",
       "    .dataframe tbody tr th:only-of-type {\n",
       "        vertical-align: middle;\n",
       "    }\n",
       "\n",
       "    .dataframe tbody tr th {\n",
       "        vertical-align: top;\n",
       "    }\n",
       "\n",
       "    .dataframe thead th {\n",
       "        text-align: right;\n",
       "    }\n",
       "</style>\n",
       "<table border=\"1\" class=\"dataframe\">\n",
       "  <thead>\n",
       "    <tr style=\"text-align: right;\">\n",
       "      <th></th>\n",
       "      <th>Location_Easting_OSGR</th>\n",
       "      <th>Location_Northing_OSGR</th>\n",
       "      <th>Longitude</th>\n",
       "      <th>Latitude</th>\n",
       "      <th>Police_Force</th>\n",
       "      <th>Accident_Severity</th>\n",
       "      <th>Number_of_Vehicles</th>\n",
       "      <th>Number_of_Casualties</th>\n",
       "      <th>Day_of_Week</th>\n",
       "      <th>Local_Authority_(District)</th>\n",
       "      <th>...</th>\n",
       "      <th>2nd_Road_Number</th>\n",
       "      <th>Pedestrian_Crossing-Human_Control</th>\n",
       "      <th>Pedestrian_Crossing-Physical_Facilities</th>\n",
       "      <th>Light_Conditions</th>\n",
       "      <th>Weather_Conditions</th>\n",
       "      <th>Road_Surface_Conditions</th>\n",
       "      <th>Special_Conditions_at_Site</th>\n",
       "      <th>Carriageway_Hazards</th>\n",
       "      <th>Urban_or_Rural_Area</th>\n",
       "      <th>Did_Police_Officer_Attend_Scene_of_Accident</th>\n",
       "    </tr>\n",
       "  </thead>\n",
       "  <tbody>\n",
       "    <tr>\n",
       "      <th>count</th>\n",
       "      <td>136614.000</td>\n",
       "      <td>136614.000</td>\n",
       "      <td>136614.000</td>\n",
       "      <td>136614.000</td>\n",
       "      <td>136621.000</td>\n",
       "      <td>136621.000</td>\n",
       "      <td>136621.000</td>\n",
       "      <td>136621.000</td>\n",
       "      <td>136621.000</td>\n",
       "      <td>136621.000</td>\n",
       "      <td>...</td>\n",
       "      <td>136621.000</td>\n",
       "      <td>136621.000</td>\n",
       "      <td>136621.000</td>\n",
       "      <td>136621.000</td>\n",
       "      <td>136621.000</td>\n",
       "      <td>136621.000</td>\n",
       "      <td>136621.000</td>\n",
       "      <td>136621.000</td>\n",
       "      <td>136621.000</td>\n",
       "      <td>136621.000</td>\n",
       "    </tr>\n",
       "    <tr>\n",
       "      <th>mean</th>\n",
       "      <td>448699.363</td>\n",
       "      <td>288335.427</td>\n",
       "      <td>-1.305</td>\n",
       "      <td>52.482</td>\n",
       "      <td>29.860</td>\n",
       "      <td>2.816</td>\n",
       "      <td>1.848</td>\n",
       "      <td>1.328</td>\n",
       "      <td>4.116</td>\n",
       "      <td>342.787</td>\n",
       "      <td>...</td>\n",
       "      <td>321.591</td>\n",
       "      <td>0.011</td>\n",
       "      <td>0.824</td>\n",
       "      <td>1.984</td>\n",
       "      <td>1.553</td>\n",
       "      <td>1.292</td>\n",
       "      <td>0.085</td>\n",
       "      <td>0.055</td>\n",
       "      <td>1.353</td>\n",
       "      <td>1.254</td>\n",
       "    </tr>\n",
       "    <tr>\n",
       "      <th>std</th>\n",
       "      <td>95230.253</td>\n",
       "      <td>157058.832</td>\n",
       "      <td>1.399</td>\n",
       "      <td>1.414</td>\n",
       "      <td>25.252</td>\n",
       "      <td>0.418</td>\n",
       "      <td>0.710</td>\n",
       "      <td>0.789</td>\n",
       "      <td>1.917</td>\n",
       "      <td>258.404</td>\n",
       "      <td>...</td>\n",
       "      <td>1202.759</td>\n",
       "      <td>0.155</td>\n",
       "      <td>1.927</td>\n",
       "      <td>1.677</td>\n",
       "      <td>1.691</td>\n",
       "      <td>0.588</td>\n",
       "      <td>0.655</td>\n",
       "      <td>0.557</td>\n",
       "      <td>0.478</td>\n",
       "      <td>0.465</td>\n",
       "    </tr>\n",
       "    <tr>\n",
       "      <th>min</th>\n",
       "      <td>76702.000</td>\n",
       "      <td>11075.000</td>\n",
       "      <td>-7.390</td>\n",
       "      <td>49.920</td>\n",
       "      <td>1.000</td>\n",
       "      <td>1.000</td>\n",
       "      <td>1.000</td>\n",
       "      <td>1.000</td>\n",
       "      <td>1.000</td>\n",
       "      <td>1.000</td>\n",
       "      <td>...</td>\n",
       "      <td>-1.000</td>\n",
       "      <td>-1.000</td>\n",
       "      <td>-1.000</td>\n",
       "      <td>-1.000</td>\n",
       "      <td>-1.000</td>\n",
       "      <td>-1.000</td>\n",
       "      <td>-1.000</td>\n",
       "      <td>-1.000</td>\n",
       "      <td>1.000</td>\n",
       "      <td>1.000</td>\n",
       "    </tr>\n",
       "    <tr>\n",
       "      <th>25%</th>\n",
       "      <td>386355.750</td>\n",
       "      <td>176424.750</td>\n",
       "      <td>-2.204</td>\n",
       "      <td>51.474</td>\n",
       "      <td>6.000</td>\n",
       "      <td>3.000</td>\n",
       "      <td>1.000</td>\n",
       "      <td>1.000</td>\n",
       "      <td>2.000</td>\n",
       "      <td>102.000</td>\n",
       "      <td>...</td>\n",
       "      <td>0.000</td>\n",
       "      <td>0.000</td>\n",
       "      <td>0.000</td>\n",
       "      <td>1.000</td>\n",
       "      <td>1.000</td>\n",
       "      <td>1.000</td>\n",
       "      <td>0.000</td>\n",
       "      <td>0.000</td>\n",
       "      <td>1.000</td>\n",
       "      <td>1.000</td>\n",
       "    </tr>\n",
       "    <tr>\n",
       "      <th>50%</th>\n",
       "      <td>454126.000</td>\n",
       "      <td>237485.500</td>\n",
       "      <td>-1.201</td>\n",
       "      <td>52.025</td>\n",
       "      <td>30.000</td>\n",
       "      <td>3.000</td>\n",
       "      <td>2.000</td>\n",
       "      <td>1.000</td>\n",
       "      <td>4.000</td>\n",
       "      <td>323.000</td>\n",
       "      <td>...</td>\n",
       "      <td>0.000</td>\n",
       "      <td>0.000</td>\n",
       "      <td>0.000</td>\n",
       "      <td>1.000</td>\n",
       "      <td>1.000</td>\n",
       "      <td>1.000</td>\n",
       "      <td>0.000</td>\n",
       "      <td>0.000</td>\n",
       "      <td>1.000</td>\n",
       "      <td>1.000</td>\n",
       "    </tr>\n",
       "    <tr>\n",
       "      <th>75%</th>\n",
       "      <td>527660.000</td>\n",
       "      <td>389743.750</td>\n",
       "      <td>-0.160</td>\n",
       "      <td>53.402</td>\n",
       "      <td>45.000</td>\n",
       "      <td>3.000</td>\n",
       "      <td>2.000</td>\n",
       "      <td>1.000</td>\n",
       "      <td>6.000</td>\n",
       "      <td>516.000</td>\n",
       "      <td>...</td>\n",
       "      <td>0.000</td>\n",
       "      <td>0.000</td>\n",
       "      <td>0.000</td>\n",
       "      <td>4.000</td>\n",
       "      <td>1.000</td>\n",
       "      <td>2.000</td>\n",
       "      <td>0.000</td>\n",
       "      <td>0.000</td>\n",
       "      <td>2.000</td>\n",
       "      <td>1.000</td>\n",
       "    </tr>\n",
       "    <tr>\n",
       "      <th>max</th>\n",
       "      <td>655256.000</td>\n",
       "      <td>1178623.000</td>\n",
       "      <td>1.758</td>\n",
       "      <td>60.490</td>\n",
       "      <td>98.000</td>\n",
       "      <td>3.000</td>\n",
       "      <td>16.000</td>\n",
       "      <td>58.000</td>\n",
       "      <td>7.000</td>\n",
       "      <td>941.000</td>\n",
       "      <td>...</td>\n",
       "      <td>9999.000</td>\n",
       "      <td>2.000</td>\n",
       "      <td>8.000</td>\n",
       "      <td>7.000</td>\n",
       "      <td>9.000</td>\n",
       "      <td>5.000</td>\n",
       "      <td>7.000</td>\n",
       "      <td>7.000</td>\n",
       "      <td>3.000</td>\n",
       "      <td>3.000</td>\n",
       "    </tr>\n",
       "  </tbody>\n",
       "</table>\n",
       "<p>8 rows × 27 columns</p>\n",
       "</div>"
      ],
      "text/plain": [
       "       Location_Easting_OSGR  Location_Northing_OSGR  Longitude   Latitude  \\\n",
       "count             136614.000              136614.000 136614.000 136614.000   \n",
       "mean              448699.363              288335.427     -1.305     52.482   \n",
       "std                95230.253              157058.832      1.399      1.414   \n",
       "min                76702.000               11075.000     -7.390     49.920   \n",
       "25%               386355.750              176424.750     -2.204     51.474   \n",
       "50%               454126.000              237485.500     -1.201     52.025   \n",
       "75%               527660.000              389743.750     -0.160     53.402   \n",
       "max               655256.000             1178623.000      1.758     60.490   \n",
       "\n",
       "       Police_Force  Accident_Severity  Number_of_Vehicles  \\\n",
       "count    136621.000         136621.000          136621.000   \n",
       "mean         29.860              2.816               1.848   \n",
       "std          25.252              0.418               0.710   \n",
       "min           1.000              1.000               1.000   \n",
       "25%           6.000              3.000               1.000   \n",
       "50%          30.000              3.000               2.000   \n",
       "75%          45.000              3.000               2.000   \n",
       "max          98.000              3.000              16.000   \n",
       "\n",
       "       Number_of_Casualties  Day_of_Week  Local_Authority_(District)  \\\n",
       "count            136621.000   136621.000                  136621.000   \n",
       "mean                  1.328        4.116                     342.787   \n",
       "std                   0.789        1.917                     258.404   \n",
       "min                   1.000        1.000                       1.000   \n",
       "25%                   1.000        2.000                     102.000   \n",
       "50%                   1.000        4.000                     323.000   \n",
       "75%                   1.000        6.000                     516.000   \n",
       "max                  58.000        7.000                     941.000   \n",
       "\n",
       "                          ...                       2nd_Road_Number  \\\n",
       "count                     ...                            136621.000   \n",
       "mean                      ...                               321.591   \n",
       "std                       ...                              1202.759   \n",
       "min                       ...                                -1.000   \n",
       "25%                       ...                                 0.000   \n",
       "50%                       ...                                 0.000   \n",
       "75%                       ...                                 0.000   \n",
       "max                       ...                              9999.000   \n",
       "\n",
       "       Pedestrian_Crossing-Human_Control  \\\n",
       "count                         136621.000   \n",
       "mean                               0.011   \n",
       "std                                0.155   \n",
       "min                               -1.000   \n",
       "25%                                0.000   \n",
       "50%                                0.000   \n",
       "75%                                0.000   \n",
       "max                                2.000   \n",
       "\n",
       "       Pedestrian_Crossing-Physical_Facilities  Light_Conditions  \\\n",
       "count                               136621.000        136621.000   \n",
       "mean                                     0.824             1.984   \n",
       "std                                      1.927             1.677   \n",
       "min                                     -1.000            -1.000   \n",
       "25%                                      0.000             1.000   \n",
       "50%                                      0.000             1.000   \n",
       "75%                                      0.000             4.000   \n",
       "max                                      8.000             7.000   \n",
       "\n",
       "       Weather_Conditions  Road_Surface_Conditions  \\\n",
       "count          136621.000               136621.000   \n",
       "mean                1.553                    1.292   \n",
       "std                 1.691                    0.588   \n",
       "min                -1.000                   -1.000   \n",
       "25%                 1.000                    1.000   \n",
       "50%                 1.000                    1.000   \n",
       "75%                 1.000                    2.000   \n",
       "max                 9.000                    5.000   \n",
       "\n",
       "       Special_Conditions_at_Site  Carriageway_Hazards  Urban_or_Rural_Area  \\\n",
       "count                  136621.000           136621.000           136621.000   \n",
       "mean                        0.085                0.055                1.353   \n",
       "std                         0.655                0.557                0.478   \n",
       "min                        -1.000               -1.000                1.000   \n",
       "25%                         0.000                0.000                1.000   \n",
       "50%                         0.000                0.000                1.000   \n",
       "75%                         0.000                0.000                2.000   \n",
       "max                         7.000                7.000                3.000   \n",
       "\n",
       "       Did_Police_Officer_Attend_Scene_of_Accident  \n",
       "count                                   136621.000  \n",
       "mean                                         1.254  \n",
       "std                                          0.465  \n",
       "min                                          1.000  \n",
       "25%                                          1.000  \n",
       "50%                                          1.000  \n",
       "75%                                          1.000  \n",
       "max                                          3.000  \n",
       "\n",
       "[8 rows x 27 columns]"
      ]
     },
     "execution_count": 14,
     "metadata": {},
     "output_type": "execute_result"
    }
   ],
   "source": [
    "#some statistics from the data\n",
    "acc_data.describe()"
   ]
  },
  {
   "cell_type": "raw",
   "metadata": {},
   "source": [
    "1. first four vars are about location, I will use longitude and latitude\n",
    "2. there are some columns that are not relevant, Police_Force is an identifier of the police department attending the incident.\n",
    "3. accident severity is a categorical variable telling about how serious the accident is, most of them are not serious, as we can see in percentiles, it is a problem with imbalanced classes \n",
    "4. number of casualties, most of the time only 1-2 casualty per incident\n",
    "5. days of the week, I will consider splitting the week in weekdays and weekends\n",
    "6. Local authorities are identifiers, both of them, not relevant (I will see)\n",
    "7. 1st_Road class is categorical and provides info about the kind of road\n",
    "8. 1st_Road number is an identifier\n",
    "9. Road type is categorical, about kind of road,seems like 1st_Road_number\n",
    "10. Speed limit\n",
    "11. junction detail and juncton controls provides info about junctions, most of accidents occurs there (categorical vars)\n",
    "12. 2nd road class and number comes from an accident in a junction\n",
    "13. Pedestrian crossing variables are categorical and are mostly 0, telling that no signals were in the place\n",
    "14. Weather, spetial conditions and carriewage hazards are categorical variables about the circunstances of the accident\n",
    "15. urban or rural area, categorical\n",
    "16. did the police officer is not relevant and last variable is about localization, I will get rid of both.\n",
    "\n",
    "Some minimum values are -1, they are converted to nans "
   ]
  },
  {
   "cell_type": "code",
   "execution_count": 15,
   "metadata": {},
   "outputs": [],
   "source": [
    "#replace -1 with nans\n",
    "#acc_data = acc_data.replace(-1, np.nan, inplace=True)\n",
    "acc_data = acc_data.replace(-1, np.nan)"
   ]
  },
  {
   "cell_type": "code",
   "execution_count": null,
   "metadata": {},
   "outputs": [],
   "source": []
  },
  {
   "cell_type": "code",
   "execution_count": 16,
   "metadata": {},
   "outputs": [
    {
     "data": {
      "text/plain": [
       "3    113201\n",
       "2     21725\n",
       "1      1695\n",
       "Name: Accident_Severity, dtype: int64"
      ]
     },
     "execution_count": 16,
     "metadata": {},
     "output_type": "execute_result"
    }
   ],
   "source": [
    "acc_data['Accident_Severity'].value_counts()"
   ]
  },
  {
   "cell_type": "code",
   "execution_count": 17,
   "metadata": {},
   "outputs": [
    {
     "data": {
      "image/png": "[encoded data removed]",
      "text/plain": [
       "<Figure size 720x504 with 1 Axes>"
      ]
     },
     "metadata": {
      "needs_background": "light"
     },
     "output_type": "display_data"
    }
   ],
   "source": [
    "#a priori: groups to detect in our model\n",
    "plt.figure(figsize = (10,7))\n",
    "acc_data['Accident_Severity'].value_counts().plot(kind='bar')\n",
    "plt.xticks( rotation = 0)\n",
    "plt.ylabel( 'Number_of_Accidents', fontsize=20)\n",
    "plt.xlabel( 'Accident_Severity', fontsize=15)\n",
    "plt.xticks(np.arange(3), ('Slight', 'Serious', 'Fatal'), rotation = 0)\n",
    "plt.tick_params(labelsize=15)\n",
    "plt.savefig('data_viz/simple_stats_00.png')"
   ]
  },
  {
   "cell_type": "code",
   "execution_count": 18,
   "metadata": {},
   "outputs": [
    {
     "data": {
      "text/plain": [
       "0.8285768659283712"
      ]
     },
     "execution_count": 18,
     "metadata": {},
     "output_type": "execute_result"
    }
   ],
   "source": [
    "#82.85% of the accidents are not serious, I will consider only two levels in the analysis\n",
    "acc_data.Accident_Severity[acc_data.Accident_Severity == 3].count()/acc_data.Accident_Severity.count()"
   ]
  },
  {
   "cell_type": "code",
   "execution_count": 19,
   "metadata": {},
   "outputs": [],
   "source": [
    "#I will consider two levels in the analysis, so include a new column\n",
    "#level 0 is for slight accidents\n",
    "acc_data['Class'] = acc_data['Accident_Severity'].map(lambda x: 0 if x==3 else 1)"
   ]
  },
  {
   "cell_type": "code",
   "execution_count": 433,
   "metadata": {},
   "outputs": [],
   "source": [
    "#let us get some plots to see patterns in the data and figure out what is going on"
   ]
  },
  {
   "cell_type": "code",
   "execution_count": 20,
   "metadata": {},
   "outputs": [
    {
     "data": {
      "image/png": "[encoded data removed]",
      "text/plain": [
       "<Figure size 1440x1080 with 2 Axes>"
      ]
     },
     "metadata": {
      "needs_background": "light"
     },
     "output_type": "display_data"
    }
   ],
   "source": [
    "plt.figure(figsize=(20,15))\n",
    "plt.subplot(221)\n",
    "sns.countplot( acc_data.Number_of_Vehicles, hue = acc_data.Class)\n",
    "plt.ylabel( 'Count', fontsize=20)\n",
    "plt.xlabel( 'Number_of_Vehicles', fontsize=20)\n",
    "\n",
    "plt.tick_params(labelsize=15)\n",
    "plt.subplot(222)\n",
    "sns.countplot(acc_data['Number_of_Casualties'], hue  = acc_data.Class)\n",
    "plt.ylabel( 'Count', fontsize=20)\n",
    "plt.xlabel( 'Number_of_Casualties', fontsize=20) \n",
    "\n",
    "plt.tick_params(labelsize=15)\n",
    "\n",
    "plt.savefig('data_viz/simple_stats_01.png')"
   ]
  },
  {
   "cell_type": "raw",
   "metadata": {},
   "source": [
    "Most of the accidents have one or two cars(89.5%),  most of them have only one or two casualties (93.2%)\n",
    "Proportion between serious accidents in road type 6 (oneway) are six times accidents in type 3 (doubleway)\n",
    "See number below:"
   ]
  },
  {
   "cell_type": "code",
   "execution_count": 21,
   "metadata": {},
   "outputs": [
    {
     "name": "stdout",
     "output_type": "stream",
     "text": [
      "proportion of accidents with one or two cars involved is: 0.896\n"
     ]
    }
   ],
   "source": [
    "number = ((acc_data.Number_of_Vehicles == 1).sum() + (acc_data.Number_of_Vehicles == 2).sum())/acc_data.Number_of_Vehicles.count()\n",
    "print('proportion of accidents with one or two cars involved is: %.3f' %number)"
   ]
  },
  {
   "cell_type": "code",
   "execution_count": 22,
   "metadata": {},
   "outputs": [
    {
     "name": "stdout",
     "output_type": "stream",
     "text": [
      "proportion of accidents with one or two casualties involved is: 0.932\n"
     ]
    }
   ],
   "source": [
    "number = ((acc_data.Number_of_Casualties == 1).sum() + (acc_data.Number_of_Casualties == 2).sum() )/acc_data.Number_of_Casualties.count()\n",
    "print('proportion of accidents with one or two casualties involved is: %.3f' %number)"
   ]
  },
  {
   "cell_type": "code",
   "execution_count": 24,
   "metadata": {},
   "outputs": [],
   "source": [
    "serious_road_3 = acc_data.Class[acc_data.Road_Type== 3].sum()/acc_data.Class.count()\n",
    "serious_road_6 = acc_data.Class[acc_data.Road_Type== 6].sum()/acc_data.Class.count()"
   ]
  },
  {
   "cell_type": "code",
   "execution_count": 25,
   "metadata": {},
   "outputs": [
    {
     "name": "stdout",
     "output_type": "stream",
     "text": [
      "proportion of accidents between one-way and dual roads is: 5.788\n"
     ]
    }
   ],
   "source": [
    "proportion = serious_road_6/serious_road_3\n",
    "proportion\n",
    "print('proportion of accidents between one-way and dual roads is: %.3f' %proportion)"
   ]
  },
  {
   "cell_type": "code",
   "execution_count": null,
   "metadata": {},
   "outputs": [],
   "source": []
  },
  {
   "cell_type": "code",
   "execution_count": null,
   "metadata": {},
   "outputs": [],
   "source": []
  },
  {
   "cell_type": "raw",
   "metadata": {},
   "source": [
    "Time needs some previous treatment so I can group by day of the week and by hour of the day"
   ]
  },
  {
   "cell_type": "code",
   "execution_count": 26,
   "metadata": {},
   "outputs": [],
   "source": [
    "# format dates to retqin month only\n",
    "def to_month(date):\n",
    "    month = datetime.strptime(date, '%d/%m/%Y')\n",
    "    return int(datetime.strftime(month, '%m'))\n",
    "\n",
    "acc_data['Date_month'] = acc_data['Date'].apply(to_month)\n",
    "\n",
    "# format time to hours only\n",
    "def to_hour(time):\n",
    "    try:\n",
    "        hour = datetime.strptime(str(time), '%H:%M')\n",
    "        return int(datetime.strftime(hour, '%H'))\n",
    "    except Exception:\n",
    "        return 0\n",
    "\n",
    "acc_data['Time_hour'] = acc_data['Time'].apply(to_hour)"
   ]
  },
  {
   "cell_type": "code",
   "execution_count": 27,
   "metadata": {},
   "outputs": [],
   "source": [
    "#weekdays and weekends\n",
    "weekday = [2,3,4,5,6]\n",
    "weekend = [1,7]\n",
    "acc_data['weekdays'] = acc_data['Day_of_Week'].map(lambda x: 'weekday' if x in weekday else 'weekend')\n"
   ]
  },
  {
   "cell_type": "markdown",
   "metadata": {},
   "source": [
    "# what about time?"
   ]
  },
  {
   "cell_type": "code",
   "execution_count": 28,
   "metadata": {},
   "outputs": [
    {
     "data": {
      "image/png": "[encoded data removed]",
      "text/plain": [
       "<Figure size 1440x1080 with 4 Axes>"
      ]
     },
     "metadata": {
      "needs_background": "light"
     },
     "output_type": "display_data"
    }
   ],
   "source": [
    "plt.figure(figsize=(20,15))\n",
    "plt.subplot(221)\n",
    "acc_data.groupby('Time_hour').Number_of_Casualties.count().plot(kind = 'bar', color = 'blue')\n",
    "plt.ylabel( 'Number_of_Casualties', fontsize=20)\n",
    "plt.xlabel( 'Time_of_Day(h)', fontsize=20)\n",
    "plt.tick_params(labelsize=15, rotation = 0)\n",
    "plt.subplot(222)\n",
    "acc_data.groupby('Date_month').Number_of_Casualties.count().plot(kind = 'bar', color = 'blue')\n",
    "plt.ylabel( 'Number_of_Casualties', fontsize=20)\n",
    "plt.xlabel( 'Month', fontsize=20)\n",
    "plt.tick_params(labelsize=15, rotation = 0)\n",
    "#some graph explanation from this,Date needs to be reagrouped\n",
    "#acc_data['Accident_Severity'].groupby(acc_data['Date'])\n",
    "plt.subplot(223)\n",
    "acc_count = acc_data.groupby(acc_data.Day_of_Week).Accident_Severity.count().plot(kind = 'bar', color = 'blue')\n",
    "plt.xticks(np.arange(7), ('Sunday', 'Monday', 'Tuesday', 'Wednesday', 'Thursday', 'Friday', 'Saturday'), rotation = 0)\n",
    "plt.ylabel( 'Number_of_Casualties', fontsize=20)\n",
    "plt.xlabel( 'Day_of_the_Week', fontsize=20)\n",
    "plt.tick_params(labelsize=15)\n",
    "plt.subplot(224)\n",
    "acc_data.groupby('weekdays').Number_of_Casualties.count().plot(kind = 'bar', color = 'blue')\n",
    "plt.ylabel( 'Number_of_Casualties', fontsize=20)\n",
    "plt.xlabel( 'Weekday', fontsize=20)\n",
    "plt.xticks(np.arange(2), ('Weekday', 'Weekend'), rotation = 0)\n",
    "plt.tick_params(labelsize=15)\n",
    "plt.savefig('data_viz/simple_stats_02.png')\n"
   ]
  },
  {
   "cell_type": "raw",
   "metadata": {},
   "source": [
    "accidents are more frequent in commute hours, Friday seems to be the worse day "
   ]
  },
  {
   "cell_type": "markdown",
   "metadata": {},
   "source": [
    "# what about roads?"
   ]
  },
  {
   "cell_type": "code",
   "execution_count": 29,
   "metadata": {},
   "outputs": [
    {
     "data": {
      "image/png": "[encoded data removed]",
      "text/plain": [
       "<Figure size 1440x1080 with 4 Axes>"
      ]
     },
     "metadata": {
      "needs_background": "light"
     },
     "output_type": "display_data"
    }
   ],
   "source": [
    "plt.figure(figsize=(20,15))\n",
    "plt.subplot(221)\n",
    "acc_data['1st_Road_Class'].value_counts().plot(kind = 'bar')\n",
    "plt.xticks(np.arange(6), ('A', 'Unclass', 'B', 'C', 'Motorway', 'A(M)'), rotation = 0)\n",
    "plt.ylabel( 'Number_of_Accidents', fontsize=20)\n",
    "plt.xlabel( '1st_Road_Class', fontsize=20)\n",
    "plt.tick_params(labelsize=15)\n",
    "plt.subplot(222)\n",
    "acc_data.Road_Type.value_counts().plot(kind = 'bar')\n",
    "plt.xticks(np.arange(6), ('Single', 'Dual', 'Roundabout', 'One_way_St', 'Slip_R', 'Unkn'), rotation = 0)\n",
    "plt.ylabel( 'Number_of_Accidents', fontsize=20)\n",
    "plt.xlabel( 'Road_Type', fontsize=20)\n",
    "plt.tick_params(labelsize=15)\n",
    "plt.subplot(223)\n",
    "acc_data.Speed_limit.value_counts().plot(kind = 'bar')\n",
    "plt.xticks(np.arange(6), ('30', '60', '40', '70', '20', '50'), rotation = 0)\n",
    "plt.ylabel( 'Number_of_Accidents', fontsize=20)\n",
    "plt.xlabel( 'Speed_Limit', fontsize=15)\n",
    "plt.tick_params(labelsize=15)\n",
    "plt.subplot(224)\n",
    "acc_data.Junction_Detail.value_counts().plot(kind = 'bar')\n",
    "plt.xticks(np.arange(9), ('No_J', 'T_Union','Crossroads', 'Roundab', 'Privat','Other','Slip_R','Mini_Round',\n",
    "                          'Mult'), rotation = 0)\n",
    "plt.ylabel( 'Number_of_Accidents', fontsize=20)\n",
    "plt.xlabel( 'Junction_Detail', fontsize=15)\n",
    "plt.tick_params(labelsize=15)\n",
    "plt.savefig('data_viz/simple_stats_03.png')"
   ]
  },
  {
   "cell_type": "raw",
   "metadata": {},
   "source": [
    "1st road class is an identifier, single way roads are more dangerous and most of them occurs at speeds around 30mph, T_Union are more dangerous than roundabouts."
   ]
  },
  {
   "cell_type": "code",
   "execution_count": 30,
   "metadata": {},
   "outputs": [
    {
     "data": {
      "image/png": "[encoded data removed]",
      "text/plain": [
       "<Figure size 1440x1080 with 2 Axes>"
      ]
     },
     "metadata": {
      "needs_background": "light"
     },
     "output_type": "display_data"
    }
   ],
   "source": [
    "\n",
    "\n",
    "plt.figure(figsize=(20,15))\n",
    "plt.subplot(221)\n",
    "plt.legend(['Road_Type_6'])\n",
    "sns.countplot( acc_data[acc_data['Road_Type'] == 6].Number_of_Casualties, hue = acc_data.Class)\n",
    "plt.xticks( rotation = 0)\n",
    "plt.ylabel( 'Number_of_Accidents', fontsize=20)\n",
    "plt.xlabel( 'Casualties_Road_Type_6', fontsize=15)\n",
    "plt.tick_params(labelsize=15)\n",
    "\n",
    "plt.subplot(222)\n",
    "plt.legend('Road_Type_3')\n",
    "sns.countplot( acc_data[acc_data['Road_Type'] == 3].Number_of_Casualties, hue = acc_data.Class)\n",
    "plt.xticks( rotation = 0)\n",
    "plt.ylabel( 'Number_of_Accidents', fontsize=20)\n",
    "plt.xlabel( 'Casualties_Road_Type_3', fontsize=15)\n",
    "plt.tick_params(labelsize=15)\n",
    "plt.savefig('data_viz/simple_stats_04.png')"
   ]
  },
  {
   "cell_type": "raw",
   "metadata": {},
   "source": [
    "Number of accidents in one-way road s are 5 times those in  dual-way"
   ]
  },
  {
   "cell_type": "code",
   "execution_count": 31,
   "metadata": {},
   "outputs": [
    {
     "data": {
      "image/png": "[encoded data removed]",
      "text/plain": [
       "<Figure size 1440x1080 with 4 Axes>"
      ]
     },
     "metadata": {
      "needs_background": "light"
     },
     "output_type": "display_data"
    }
   ],
   "source": [
    "plt.figure(figsize=(20,15))\n",
    "plt.subplot(221)\n",
    "acc_data.Light_Conditions.value_counts().plot(kind = 'bar')\n",
    "plt.xticks( rotation = 0)\n",
    "plt.ylabel( 'Number_of_Accidents', fontsize=20)\n",
    "plt.xlabel( 'Light_Conditions', fontsize=15)\n",
    "plt.xticks(np.arange(5), ('Day+Light', 'Dark+L', 'Dark+NOL', 'Dark+Unk', 'Dark+NOL'), rotation = 0)\n",
    "plt.tick_params(labelsize=15)\n",
    "plt.subplot(222)\n",
    "acc_data.Weather_Conditions.value_counts().plot(kind = 'bar')\n",
    "plt.xticks( rotation = 0)\n",
    "plt.ylabel( 'Number_of_Accidents', fontsize=20)\n",
    "plt.xlabel( 'Weather_Conditions', fontsize=15)\n",
    "plt.xticks(np.arange(9), ('Good', 'Rain', 'Unk', 'Other', 'Rain+W', 'W', 'Fog', 'Snow', 'Snow+W'), rotation = 0)\n",
    "plt.tick_params(labelsize=15)\n",
    "plt.subplot(223)\n",
    "acc_data.Road_Surface_Conditions.value_counts().plot(kind = 'bar')\n",
    "plt.xticks( rotation = 0)\n",
    "plt.ylabel( 'Number_of_Accidents', fontsize=20)\n",
    "plt.xlabel( 'Road_Surface_Conditions', fontsize=15)\n",
    "plt.xticks(np.arange(5), ('Dry', 'Wet', 'Ice', 'Snow','Flood'), rotation = 0)\n",
    "plt.tick_params(labelsize=15)\n",
    "plt.subplot(224)\n",
    "acc_data.Special_Conditions_at_Site.value_counts().plot(kind = 'bar')\n",
    "plt.xticks( rotation = 0)\n",
    "plt.ylabel( 'Number_of_Accidents', fontsize=20)\n",
    "plt.xlabel( 'Special_Conditions_at_Site', fontsize=15)\n",
    "plt.xticks(np.arange(8), ('None', 'Ro_work', 'Mud', 'Oil', 'Road_bad', 's_out', 'Road_un', 's_def'), rotation = 0)\n",
    "plt.tick_params(labelsize=15)\n",
    "plt.savefig('data_viz/simple_stats_05.png')             \n",
    "\n",
    "\n",
    "\n",
    "\n"
   ]
  },
  {
   "cell_type": "raw",
   "metadata": {},
   "source": [
    "These variables need to be reagrouped in the most informative way"
   ]
  },
  {
   "cell_type": "code",
   "execution_count": 32,
   "metadata": {},
   "outputs": [
    {
     "data": {
      "image/png": "[encoded data removed]",
      "text/plain": [
       "<Figure size 720x504 with 1 Axes>"
      ]
     },
     "metadata": {
      "needs_background": "light"
     },
     "output_type": "display_data"
    }
   ],
   "source": [
    "plt.figure(figsize=(10,7))\n",
    "sns.countplot(acc_data['Urban_or_Rural_Area'], hue = acc_data.Class)\n",
    "\n",
    "plt.ylabel( 'Number_of_Accidents', fontsize=20)\n",
    "plt.xlabel( 'Urban_or_Rural_Area', fontsize=15)\n",
    "plt.xticks(np.arange(3), ('Urban', 'Rural', 'Other'), rotation = 0)\n",
    "plt.tick_params(labelsize=15)\n",
    "plt.savefig('data_viz/simple_stats_06.png')"
   ]
  },
  {
   "cell_type": "raw",
   "metadata": {},
   "source": [
    "Serious accidents in rural areas are more frequent than urban areas"
   ]
  },
  {
   "cell_type": "code",
   "execution_count": 33,
   "metadata": {},
   "outputs": [
    {
     "data": {
      "image/png": "[encoded data removed]",
      "text/plain": [
       "<Figure size 720x504 with 1 Axes>"
      ]
     },
     "metadata": {
      "needs_background": "light"
     },
     "output_type": "display_data"
    }
   ],
   "source": [
    "plt.figure(figsize=(10,7))\n",
    "sns.countplot(acc_data['Road_Type'], hue = acc_data.Urban_or_Rural_Area)\n",
    "plt.ylabel( 'Number_of_Accidents', fontsize=20)\n",
    "plt.xlabel( 'Type_of_Road', fontsize=15)\n",
    "plt.xticks(np.arange(6), ('Roundabout', 'One_way_St','Dual', 'Single',  'Slip_R', 'Unkn'), rotation = 0)\n",
    "\n",
    "plt.tick_params(labelsize=15)\n",
    "plt.savefig('data_viz/simple_stats_07.png')\n",
    "#single means that there´s no separation betwwen carriageways(6), dual (3), roundabout(1)\n"
   ]
  },
  {
   "cell_type": "raw",
   "metadata": {},
   "source": [
    "Accidents in dual-way are more serious than one-way"
   ]
  },
  {
   "cell_type": "code",
   "execution_count": null,
   "metadata": {},
   "outputs": [],
   "source": []
  },
  {
   "cell_type": "code",
   "execution_count": null,
   "metadata": {},
   "outputs": [],
   "source": []
  },
  {
   "cell_type": "code",
   "execution_count": null,
   "metadata": {},
   "outputs": [],
   "source": []
  },
  {
   "cell_type": "code",
   "execution_count": null,
   "metadata": {},
   "outputs": [],
   "source": []
  },
  {
   "cell_type": "code",
   "execution_count": null,
   "metadata": {},
   "outputs": [],
   "source": []
  },
  {
   "cell_type": "code",
   "execution_count": null,
   "metadata": {},
   "outputs": [],
   "source": []
  },
  {
   "cell_type": "code",
   "execution_count": 34,
   "metadata": {},
   "outputs": [],
   "source": [
    "#some numbers to reagrupate in levels afterwards"
   ]
  },
  {
   "cell_type": "code",
   "execution_count": 35,
   "metadata": {},
   "outputs": [
    {
     "data": {
      "text/plain": [
       "3    61455\n",
       "6    43762\n",
       "4    16627\n",
       "5     9372\n",
       "1     5007\n",
       "2      398\n",
       "Name: 1st_Road_Class, dtype: int64"
      ]
     },
     "execution_count": 35,
     "metadata": {},
     "output_type": "execute_result"
    }
   ],
   "source": [
    "acc_data['1st_Road_Class'].value_counts()"
   ]
  },
  {
   "cell_type": "code",
   "execution_count": 36,
   "metadata": {},
   "outputs": [
    {
     "data": {
      "text/plain": [
       "6.000    55315\n",
       "3.000    12986\n",
       "5.000     5256\n",
       "4.000     5141\n",
       "1.000      838\n",
       "2.000       96\n",
       "Name: 2nd_Road_Class, dtype: int64"
      ]
     },
     "execution_count": 36,
     "metadata": {},
     "output_type": "execute_result"
    }
   ],
   "source": [
    "#only in junction cases\n",
    "acc_data['2nd_Road_Class'].value_counts()"
   ]
  },
  {
   "cell_type": "code",
   "execution_count": 37,
   "metadata": {},
   "outputs": [
    {
     "data": {
      "text/plain": [
       "0.000    56401\n",
       "3.000    42755\n",
       "6.000    13193\n",
       "1.000    11740\n",
       "8.000     4268\n",
       "9.000     3584\n",
       "5.000     1950\n",
       "2.000     1700\n",
       "7.000      924\n",
       "Name: Junction_Detail, dtype: int64"
      ]
     },
     "execution_count": 37,
     "metadata": {},
     "output_type": "execute_result"
    }
   ],
   "source": [
    "#about junctions, divide in 00 and the rest\n",
    "acc_data['Junction_Detail'].value_counts()"
   ]
  },
  {
   "cell_type": "code",
   "execution_count": null,
   "metadata": {},
   "outputs": [],
   "source": []
  },
  {
   "cell_type": "code",
   "execution_count": null,
   "metadata": {},
   "outputs": [],
   "source": []
  },
  {
   "cell_type": "code",
   "execution_count": 38,
   "metadata": {},
   "outputs": [
    {
     "data": {
      "text/plain": [
       "0.000    135415\n",
       "2.000       693\n",
       "1.000       328\n",
       "Name: Pedestrian_Crossing-Human_Control, dtype: int64"
      ]
     },
     "execution_count": 38,
     "metadata": {},
     "output_type": "execute_result"
    }
   ],
   "source": [
    "#no controls near the pedestrian\n",
    "#this is not \n",
    "acc_data['Pedestrian_Crossing-Human_Control'].value_counts()"
   ]
  },
  {
   "cell_type": "code",
   "execution_count": 39,
   "metadata": {},
   "outputs": [
    {
     "data": {
      "text/plain": [
       "0.000    110456\n",
       "5.000     10166\n",
       "4.000      7632\n",
       "1.000      4244\n",
       "8.000      3212\n",
       "7.000       280\n",
       "Name: Pedestrian_Crossing-Physical_Facilities, dtype: int64"
      ]
     },
     "execution_count": 39,
     "metadata": {},
     "output_type": "execute_result"
    }
   ],
   "source": [
    "acc_data['Pedestrian_Crossing-Physical_Facilities'].value_counts()"
   ]
  },
  {
   "cell_type": "code",
   "execution_count": 40,
   "metadata": {},
   "outputs": [
    {
     "data": {
      "text/plain": [
       "135990"
      ]
     },
     "execution_count": 40,
     "metadata": {},
     "output_type": "execute_result"
    }
   ],
   "source": [
    "acc_data['Pedestrian_Crossing-Physical_Facilities'].count()"
   ]
  },
  {
   "cell_type": "raw",
   "metadata": {},
   "source": [
    "these have to be reagrouped into 0/1 variables, meaning if pedestrian have facilities or not"
   ]
  },
  {
   "cell_type": "code",
   "execution_count": 41,
   "metadata": {},
   "outputs": [
    {
     "data": {
      "text/plain": [
       "136621"
      ]
     },
     "execution_count": 41,
     "metadata": {},
     "output_type": "execute_result"
    }
   ],
   "source": [
    "#seems to be useless\n",
    "acc_data['Local_Authority_(Highway)'].count()"
   ]
  },
  {
   "cell_type": "code",
   "execution_count": 42,
   "metadata": {},
   "outputs": [
    {
     "data": {
      "text/plain": [
       "136621"
      ]
     },
     "execution_count": 42,
     "metadata": {},
     "output_type": "execute_result"
    }
   ],
   "source": [
    "acc_data['Local_Authority_(District)'].count()"
   ]
  },
  {
   "cell_type": "code",
   "execution_count": null,
   "metadata": {},
   "outputs": [],
   "source": []
  },
  {
   "cell_type": "code",
   "execution_count": 43,
   "metadata": {},
   "outputs": [
    {
     "data": {
      "text/plain": [
       "28645"
      ]
     },
     "execution_count": 43,
     "metadata": {},
     "output_type": "execute_result"
    }
   ],
   "source": [
    "#not useful for the analysis but hot-spots (places with more accidents) can be extracted from here\n",
    "acc_data.LSOA_of_Accident_Location.nunique()"
   ]
  },
  {
   "cell_type": "code",
   "execution_count": 44,
   "metadata": {},
   "outputs": [
    {
     "data": {
      "text/plain": [
       "Index(['Location_Easting_OSGR', 'Location_Northing_OSGR', 'Longitude',\n",
       "       'Latitude', 'Accident_Severity', 'Number_of_Vehicles',\n",
       "       'Number_of_Casualties', 'Date', 'Day_of_Week', 'Time',\n",
       "       'Local_Authority_(District)', 'Local_Authority_(Highway)',\n",
       "       '1st_Road_Class', '1st_Road_Number', 'Road_Type', 'Speed_limit',\n",
       "       'Junction_Detail', 'Junction_Control', '2nd_Road_Class',\n",
       "       '2nd_Road_Number', 'Pedestrian_Crossing-Human_Control',\n",
       "       'Pedestrian_Crossing-Physical_Facilities', 'Light_Conditions',\n",
       "       'Weather_Conditions', 'Road_Surface_Conditions',\n",
       "       'Special_Conditions_at_Site', 'Carriageway_Hazards',\n",
       "       'Urban_or_Rural_Area', 'LSOA_of_Accident_Location', 'Class',\n",
       "       'Date_month', 'Time_hour', 'weekdays'],\n",
       "      dtype='object')"
      ]
     },
     "execution_count": 44,
     "metadata": {},
     "output_type": "execute_result"
    }
   ],
   "source": [
    "accidents = acc_data.drop(['Police_Force',\n",
    "                           'Did_Police_Officer_Attend_Scene_of_Accident'], axis = 1)\n",
    "accidents.columns"
   ]
  },
  {
   "cell_type": "code",
   "execution_count": null,
   "metadata": {},
   "outputs": [],
   "source": []
  },
  {
   "cell_type": "markdown",
   "metadata": {},
   "source": [
    "# casualties data"
   ]
  },
  {
   "cell_type": "code",
   "execution_count": 459,
   "metadata": {},
   "outputs": [],
   "source": [
    "# casualties data"
   ]
  },
  {
   "cell_type": "code",
   "execution_count": 45,
   "metadata": {},
   "outputs": [
    {
     "data": {
      "text/html": [
       "<div>\n",
       "<style scoped>\n",
       "    .dataframe tbody tr th:only-of-type {\n",
       "        vertical-align: middle;\n",
       "    }\n",
       "\n",
       "    .dataframe tbody tr th {\n",
       "        vertical-align: top;\n",
       "    }\n",
       "\n",
       "    .dataframe thead th {\n",
       "        text-align: right;\n",
       "    }\n",
       "</style>\n",
       "<table border=\"1\" class=\"dataframe\">\n",
       "  <thead>\n",
       "    <tr style=\"text-align: right;\">\n",
       "      <th></th>\n",
       "      <th>Vehicle_Reference</th>\n",
       "      <th>Casualty_Reference</th>\n",
       "      <th>Casualty_Class</th>\n",
       "      <th>Sex_of_Casualty</th>\n",
       "      <th>Age_of_Casualty</th>\n",
       "      <th>Age_Band_of_Casualty</th>\n",
       "      <th>Casualty_Severity</th>\n",
       "      <th>Pedestrian_Location</th>\n",
       "      <th>Pedestrian_Movement</th>\n",
       "      <th>Car_Passenger</th>\n",
       "      <th>Bus_or_Coach_Passenger</th>\n",
       "      <th>Pedestrian_Road_Maintenance_Worker</th>\n",
       "      <th>Casualty_Type</th>\n",
       "      <th>Casualty_Home_Area_Type</th>\n",
       "      <th>Casualty_IMD_Decile</th>\n",
       "    </tr>\n",
       "    <tr>\n",
       "      <th>Accident_Index</th>\n",
       "      <th></th>\n",
       "      <th></th>\n",
       "      <th></th>\n",
       "      <th></th>\n",
       "      <th></th>\n",
       "      <th></th>\n",
       "      <th></th>\n",
       "      <th></th>\n",
       "      <th></th>\n",
       "      <th></th>\n",
       "      <th></th>\n",
       "      <th></th>\n",
       "      <th></th>\n",
       "      <th></th>\n",
       "      <th></th>\n",
       "    </tr>\n",
       "  </thead>\n",
       "  <tbody>\n",
       "    <tr>\n",
       "      <th>2016010000005</th>\n",
       "      <td>2</td>\n",
       "      <td>1</td>\n",
       "      <td>1</td>\n",
       "      <td>1</td>\n",
       "      <td>23</td>\n",
       "      <td>5</td>\n",
       "      <td>3</td>\n",
       "      <td>0</td>\n",
       "      <td>0</td>\n",
       "      <td>0</td>\n",
       "      <td>0</td>\n",
       "      <td>0</td>\n",
       "      <td>2</td>\n",
       "      <td>1</td>\n",
       "      <td>4</td>\n",
       "    </tr>\n",
       "    <tr>\n",
       "      <th>2016010000006</th>\n",
       "      <td>1</td>\n",
       "      <td>1</td>\n",
       "      <td>1</td>\n",
       "      <td>2</td>\n",
       "      <td>36</td>\n",
       "      <td>7</td>\n",
       "      <td>3</td>\n",
       "      <td>0</td>\n",
       "      <td>0</td>\n",
       "      <td>0</td>\n",
       "      <td>0</td>\n",
       "      <td>0</td>\n",
       "      <td>9</td>\n",
       "      <td>1</td>\n",
       "      <td>10</td>\n",
       "    </tr>\n",
       "    <tr>\n",
       "      <th>2016010000008</th>\n",
       "      <td>1</td>\n",
       "      <td>1</td>\n",
       "      <td>1</td>\n",
       "      <td>1</td>\n",
       "      <td>24</td>\n",
       "      <td>5</td>\n",
       "      <td>3</td>\n",
       "      <td>0</td>\n",
       "      <td>0</td>\n",
       "      <td>0</td>\n",
       "      <td>0</td>\n",
       "      <td>0</td>\n",
       "      <td>9</td>\n",
       "      <td>1</td>\n",
       "      <td>8</td>\n",
       "    </tr>\n",
       "    <tr>\n",
       "      <th>2016010000016</th>\n",
       "      <td>1</td>\n",
       "      <td>1</td>\n",
       "      <td>2</td>\n",
       "      <td>2</td>\n",
       "      <td>59</td>\n",
       "      <td>9</td>\n",
       "      <td>3</td>\n",
       "      <td>0</td>\n",
       "      <td>0</td>\n",
       "      <td>0</td>\n",
       "      <td>3</td>\n",
       "      <td>0</td>\n",
       "      <td>11</td>\n",
       "      <td>1</td>\n",
       "      <td>4</td>\n",
       "    </tr>\n",
       "    <tr>\n",
       "      <th>2016010000018</th>\n",
       "      <td>2</td>\n",
       "      <td>1</td>\n",
       "      <td>1</td>\n",
       "      <td>1</td>\n",
       "      <td>28</td>\n",
       "      <td>6</td>\n",
       "      <td>3</td>\n",
       "      <td>0</td>\n",
       "      <td>0</td>\n",
       "      <td>0</td>\n",
       "      <td>0</td>\n",
       "      <td>0</td>\n",
       "      <td>1</td>\n",
       "      <td>1</td>\n",
       "      <td>6</td>\n",
       "    </tr>\n",
       "  </tbody>\n",
       "</table>\n",
       "</div>"
      ],
      "text/plain": [
       "                Vehicle_Reference  Casualty_Reference  Casualty_Class  \\\n",
       "Accident_Index                                                          \n",
       "2016010000005                   2                   1               1   \n",
       "2016010000006                   1                   1               1   \n",
       "2016010000008                   1                   1               1   \n",
       "2016010000016                   1                   1               2   \n",
       "2016010000018                   2                   1               1   \n",
       "\n",
       "                Sex_of_Casualty  Age_of_Casualty  Age_Band_of_Casualty  \\\n",
       "Accident_Index                                                           \n",
       "2016010000005                 1               23                     5   \n",
       "2016010000006                 2               36                     7   \n",
       "2016010000008                 1               24                     5   \n",
       "2016010000016                 2               59                     9   \n",
       "2016010000018                 1               28                     6   \n",
       "\n",
       "                Casualty_Severity  Pedestrian_Location  Pedestrian_Movement  \\\n",
       "Accident_Index                                                                \n",
       "2016010000005                   3                    0                    0   \n",
       "2016010000006                   3                    0                    0   \n",
       "2016010000008                   3                    0                    0   \n",
       "2016010000016                   3                    0                    0   \n",
       "2016010000018                   3                    0                    0   \n",
       "\n",
       "                Car_Passenger  Bus_or_Coach_Passenger  \\\n",
       "Accident_Index                                          \n",
       "2016010000005               0                       0   \n",
       "2016010000006               0                       0   \n",
       "2016010000008               0                       0   \n",
       "2016010000016               0                       3   \n",
       "2016010000018               0                       0   \n",
       "\n",
       "                Pedestrian_Road_Maintenance_Worker  Casualty_Type  \\\n",
       "Accident_Index                                                      \n",
       "2016010000005                                    0              2   \n",
       "2016010000006                                    0              9   \n",
       "2016010000008                                    0              9   \n",
       "2016010000016                                    0             11   \n",
       "2016010000018                                    0              1   \n",
       "\n",
       "                Casualty_Home_Area_Type  Casualty_IMD_Decile  \n",
       "Accident_Index                                                \n",
       "2016010000005                         1                    4  \n",
       "2016010000006                         1                   10  \n",
       "2016010000008                         1                    8  \n",
       "2016010000016                         1                    4  \n",
       "2016010000018                         1                    6  "
      ]
     },
     "execution_count": 45,
     "metadata": {},
     "output_type": "execute_result"
    }
   ],
   "source": [
    "cas_data = pd.read_csv('data/Casualties2016.csv', index_col=0)\n",
    "cas_data.head()"
   ]
  },
  {
   "cell_type": "code",
   "execution_count": 46,
   "metadata": {},
   "outputs": [
    {
     "name": "stdout",
     "output_type": "stream",
     "text": [
      "casualties data shape is:  (181384, 15)\n"
     ]
    }
   ],
   "source": [
    "print('casualties data shape is: ', cas_data.shape)"
   ]
  },
  {
   "cell_type": "code",
   "execution_count": 47,
   "metadata": {},
   "outputs": [
    {
     "name": "stdout",
     "output_type": "stream",
     "text": [
      "<class 'pandas.core.frame.DataFrame'>\n",
      "Index: 181384 entries, 2016010000005 to 2016984133416\n",
      "Data columns (total 15 columns):\n",
      "Vehicle_Reference                     181384 non-null int64\n",
      "Casualty_Reference                    181384 non-null int64\n",
      "Casualty_Class                        181384 non-null int64\n",
      "Sex_of_Casualty                       181384 non-null int64\n",
      "Age_of_Casualty                       181384 non-null int64\n",
      "Age_Band_of_Casualty                  181384 non-null int64\n",
      "Casualty_Severity                     181384 non-null int64\n",
      "Pedestrian_Location                   181384 non-null int64\n",
      "Pedestrian_Movement                   181384 non-null int64\n",
      "Car_Passenger                         181384 non-null int64\n",
      "Bus_or_Coach_Passenger                181384 non-null int64\n",
      "Pedestrian_Road_Maintenance_Worker    181384 non-null int64\n",
      "Casualty_Type                         181384 non-null int64\n",
      "Casualty_Home_Area_Type               181384 non-null int64\n",
      "Casualty_IMD_Decile                   181384 non-null int64\n",
      "dtypes: int64(15)\n",
      "memory usage: 22.1+ MB\n"
     ]
    }
   ],
   "source": [
    "cas_data.info()"
   ]
  },
  {
   "cell_type": "code",
   "execution_count": 48,
   "metadata": {},
   "outputs": [
    {
     "data": {
      "text/plain": [
       "1.0"
      ]
     },
     "execution_count": 48,
     "metadata": {},
     "output_type": "execute_result"
    }
   ],
   "source": [
    "#replace -1 with nans\n",
    "cas_data = cas_data.replace(-1, np.nan)\n",
    "cas_data['Sex_of_Casualty'].min()"
   ]
  },
  {
   "cell_type": "code",
   "execution_count": 49,
   "metadata": {},
   "outputs": [
    {
     "data": {
      "text/html": [
       "<div>\n",
       "<style scoped>\n",
       "    .dataframe tbody tr th:only-of-type {\n",
       "        vertical-align: middle;\n",
       "    }\n",
       "\n",
       "    .dataframe tbody tr th {\n",
       "        vertical-align: top;\n",
       "    }\n",
       "\n",
       "    .dataframe thead th {\n",
       "        text-align: right;\n",
       "    }\n",
       "</style>\n",
       "<table border=\"1\" class=\"dataframe\">\n",
       "  <thead>\n",
       "    <tr style=\"text-align: right;\">\n",
       "      <th></th>\n",
       "      <th>Vehicle_Reference</th>\n",
       "      <th>Casualty_Reference</th>\n",
       "      <th>Casualty_Class</th>\n",
       "      <th>Sex_of_Casualty</th>\n",
       "      <th>Age_of_Casualty</th>\n",
       "      <th>Age_Band_of_Casualty</th>\n",
       "      <th>Casualty_Severity</th>\n",
       "      <th>Pedestrian_Location</th>\n",
       "      <th>Pedestrian_Movement</th>\n",
       "      <th>Car_Passenger</th>\n",
       "      <th>Bus_or_Coach_Passenger</th>\n",
       "      <th>Pedestrian_Road_Maintenance_Worker</th>\n",
       "      <th>Casualty_Type</th>\n",
       "      <th>Casualty_Home_Area_Type</th>\n",
       "      <th>Casualty_IMD_Decile</th>\n",
       "    </tr>\n",
       "  </thead>\n",
       "  <tbody>\n",
       "    <tr>\n",
       "      <th>count</th>\n",
       "      <td>181384.000</td>\n",
       "      <td>181384.000</td>\n",
       "      <td>181384.000</td>\n",
       "      <td>181332.000</td>\n",
       "      <td>178538.000</td>\n",
       "      <td>178538.000</td>\n",
       "      <td>181384.000</td>\n",
       "      <td>181379.000</td>\n",
       "      <td>181370.000</td>\n",
       "      <td>180909.000</td>\n",
       "      <td>181346.000</td>\n",
       "      <td>181228.000</td>\n",
       "      <td>181384.000</td>\n",
       "      <td>159787.000</td>\n",
       "      <td>143926.000</td>\n",
       "    </tr>\n",
       "    <tr>\n",
       "      <th>mean</th>\n",
       "      <td>1.491</td>\n",
       "      <td>1.414</td>\n",
       "      <td>1.483</td>\n",
       "      <td>1.407</td>\n",
       "      <td>36.928</td>\n",
       "      <td>6.389</td>\n",
       "      <td>2.847</td>\n",
       "      <td>0.681</td>\n",
       "      <td>0.501</td>\n",
       "      <td>0.258</td>\n",
       "      <td>0.075</td>\n",
       "      <td>0.071</td>\n",
       "      <td>7.318</td>\n",
       "      <td>1.308</td>\n",
       "      <td>5.060</td>\n",
       "    </tr>\n",
       "    <tr>\n",
       "      <th>std</th>\n",
       "      <td>0.615</td>\n",
       "      <td>1.109</td>\n",
       "      <td>0.714</td>\n",
       "      <td>0.491</td>\n",
       "      <td>18.822</td>\n",
       "      <td>2.228</td>\n",
       "      <td>0.386</td>\n",
       "      <td>1.981</td>\n",
       "      <td>1.716</td>\n",
       "      <td>0.575</td>\n",
       "      <td>0.521</td>\n",
       "      <td>0.369</td>\n",
       "      <td>7.822</td>\n",
       "      <td>0.658</td>\n",
       "      <td>2.809</td>\n",
       "    </tr>\n",
       "    <tr>\n",
       "      <th>min</th>\n",
       "      <td>1.000</td>\n",
       "      <td>1.000</td>\n",
       "      <td>1.000</td>\n",
       "      <td>1.000</td>\n",
       "      <td>0.000</td>\n",
       "      <td>1.000</td>\n",
       "      <td>1.000</td>\n",
       "      <td>0.000</td>\n",
       "      <td>0.000</td>\n",
       "      <td>0.000</td>\n",
       "      <td>0.000</td>\n",
       "      <td>0.000</td>\n",
       "      <td>0.000</td>\n",
       "      <td>1.000</td>\n",
       "      <td>1.000</td>\n",
       "    </tr>\n",
       "    <tr>\n",
       "      <th>25%</th>\n",
       "      <td>1.000</td>\n",
       "      <td>1.000</td>\n",
       "      <td>1.000</td>\n",
       "      <td>1.000</td>\n",
       "      <td>22.000</td>\n",
       "      <td>5.000</td>\n",
       "      <td>3.000</td>\n",
       "      <td>0.000</td>\n",
       "      <td>0.000</td>\n",
       "      <td>0.000</td>\n",
       "      <td>0.000</td>\n",
       "      <td>0.000</td>\n",
       "      <td>3.000</td>\n",
       "      <td>1.000</td>\n",
       "      <td>3.000</td>\n",
       "    </tr>\n",
       "    <tr>\n",
       "      <th>50%</th>\n",
       "      <td>1.000</td>\n",
       "      <td>1.000</td>\n",
       "      <td>1.000</td>\n",
       "      <td>1.000</td>\n",
       "      <td>33.000</td>\n",
       "      <td>6.000</td>\n",
       "      <td>3.000</td>\n",
       "      <td>0.000</td>\n",
       "      <td>0.000</td>\n",
       "      <td>0.000</td>\n",
       "      <td>0.000</td>\n",
       "      <td>0.000</td>\n",
       "      <td>9.000</td>\n",
       "      <td>1.000</td>\n",
       "      <td>5.000</td>\n",
       "    </tr>\n",
       "    <tr>\n",
       "      <th>75%</th>\n",
       "      <td>2.000</td>\n",
       "      <td>2.000</td>\n",
       "      <td>2.000</td>\n",
       "      <td>2.000</td>\n",
       "      <td>50.000</td>\n",
       "      <td>8.000</td>\n",
       "      <td>3.000</td>\n",
       "      <td>0.000</td>\n",
       "      <td>0.000</td>\n",
       "      <td>0.000</td>\n",
       "      <td>0.000</td>\n",
       "      <td>0.000</td>\n",
       "      <td>9.000</td>\n",
       "      <td>1.000</td>\n",
       "      <td>7.000</td>\n",
       "    </tr>\n",
       "    <tr>\n",
       "      <th>max</th>\n",
       "      <td>21.000</td>\n",
       "      <td>58.000</td>\n",
       "      <td>3.000</td>\n",
       "      <td>2.000</td>\n",
       "      <td>101.000</td>\n",
       "      <td>11.000</td>\n",
       "      <td>3.000</td>\n",
       "      <td>10.000</td>\n",
       "      <td>9.000</td>\n",
       "      <td>2.000</td>\n",
       "      <td>4.000</td>\n",
       "      <td>2.000</td>\n",
       "      <td>98.000</td>\n",
       "      <td>3.000</td>\n",
       "      <td>10.000</td>\n",
       "    </tr>\n",
       "  </tbody>\n",
       "</table>\n",
       "</div>"
      ],
      "text/plain": [
       "       Vehicle_Reference  Casualty_Reference  Casualty_Class  Sex_of_Casualty  \\\n",
       "count         181384.000          181384.000      181384.000       181332.000   \n",
       "mean               1.491               1.414           1.483            1.407   \n",
       "std                0.615               1.109           0.714            0.491   \n",
       "min                1.000               1.000           1.000            1.000   \n",
       "25%                1.000               1.000           1.000            1.000   \n",
       "50%                1.000               1.000           1.000            1.000   \n",
       "75%                2.000               2.000           2.000            2.000   \n",
       "max               21.000              58.000           3.000            2.000   \n",
       "\n",
       "       Age_of_Casualty  Age_Band_of_Casualty  Casualty_Severity  \\\n",
       "count       178538.000            178538.000         181384.000   \n",
       "mean            36.928                 6.389              2.847   \n",
       "std             18.822                 2.228              0.386   \n",
       "min              0.000                 1.000              1.000   \n",
       "25%             22.000                 5.000              3.000   \n",
       "50%             33.000                 6.000              3.000   \n",
       "75%             50.000                 8.000              3.000   \n",
       "max            101.000                11.000              3.000   \n",
       "\n",
       "       Pedestrian_Location  Pedestrian_Movement  Car_Passenger  \\\n",
       "count           181379.000           181370.000     180909.000   \n",
       "mean                 0.681                0.501          0.258   \n",
       "std                  1.981                1.716          0.575   \n",
       "min                  0.000                0.000          0.000   \n",
       "25%                  0.000                0.000          0.000   \n",
       "50%                  0.000                0.000          0.000   \n",
       "75%                  0.000                0.000          0.000   \n",
       "max                 10.000                9.000          2.000   \n",
       "\n",
       "       Bus_or_Coach_Passenger  Pedestrian_Road_Maintenance_Worker  \\\n",
       "count              181346.000                          181228.000   \n",
       "mean                    0.075                               0.071   \n",
       "std                     0.521                               0.369   \n",
       "min                     0.000                               0.000   \n",
       "25%                     0.000                               0.000   \n",
       "50%                     0.000                               0.000   \n",
       "75%                     0.000                               0.000   \n",
       "max                     4.000                               2.000   \n",
       "\n",
       "       Casualty_Type  Casualty_Home_Area_Type  Casualty_IMD_Decile  \n",
       "count     181384.000               159787.000           143926.000  \n",
       "mean           7.318                    1.308                5.060  \n",
       "std            7.822                    0.658                2.809  \n",
       "min            0.000                    1.000                1.000  \n",
       "25%            3.000                    1.000                3.000  \n",
       "50%            9.000                    1.000                5.000  \n",
       "75%            9.000                    1.000                7.000  \n",
       "max           98.000                    3.000               10.000  "
      ]
     },
     "execution_count": 49,
     "metadata": {},
     "output_type": "execute_result"
    }
   ],
   "source": [
    "cas_data.describe()"
   ]
  },
  {
   "cell_type": "raw",
   "metadata": {},
   "source": [
    "1. first two columns are references\n",
    "2. casualty class means driver (0.65), passenger(0.22) or pedestrian (0.13)\n",
    "3. Sex of casualty\n",
    "4. Age and age band are complementaries\n",
    "5. Casualty severity, same as before, accident severity\n",
    "6. pedestrian location, pedestrian movement, car passenger, bus or coach, pedestrian injured in road works, do not have to do with number of accidents (I will check)\n",
    "7. casualty type\n",
    "8. casualty home area type\n",
    "9. about level of life, IMD decile, interesting, nothing to do with the main question (a priori) but I will see if there is some relation"
   ]
  },
  {
   "cell_type": "code",
   "execution_count": 50,
   "metadata": {},
   "outputs": [
    {
     "name": "stdout",
     "output_type": "stream",
     "text": [
      "proportion of accidents involve pedestrian is : 0.130\n"
     ]
    }
   ],
   "source": [
    "#proportion of drivers, passengers and pedestrian\n",
    "total = cas_data.Casualty_Class.count()\n",
    "drivers = (cas_data.Casualty_Class == 1).sum()\n",
    "passengers = (cas_data.Casualty_Class == 2).sum()\n",
    "driv_prop = drivers/total\n",
    "pass_prop = passengers/total\n",
    "pede_prop = 1 - driv_prop -pass_prop\n",
    "print('proportion of accidents involve pedestrian is : %.3f' %pede_prop)"
   ]
  },
  {
   "cell_type": "code",
   "execution_count": 51,
   "metadata": {},
   "outputs": [
    {
     "data": {
      "image/png": "[encoded data removed]",
      "text/plain": [
       "<Figure size 720x504 with 1 Axes>"
      ]
     },
     "metadata": {
      "needs_background": "light"
     },
     "output_type": "display_data"
    }
   ],
   "source": [
    "#driver passenger pedestrian 1,2,3\n",
    "plt.figure(figsize=(10,7))\n",
    "cas_data['Casualty_Class'].value_counts().plot(kind = 'bar')\n",
    "plt.ylabel( 'Number_of_Accidents', fontsize=20)\n",
    "plt.xlabel( 'Casualty_Class', fontsize=15)\n",
    "plt.xticks(np.arange(3), ('Driver', 'Passenger','Pedestrian'), rotation = 0)\n",
    "\n",
    "plt.tick_params(labelsize=15)\n",
    "plt.savefig('data_viz/simple_stats_08.png')"
   ]
  },
  {
   "cell_type": "code",
   "execution_count": 52,
   "metadata": {},
   "outputs": [],
   "source": [
    "#I will consider two levels in the analysis, same as before\n",
    "cas_data['Class_Cas'] = cas_data['Casualty_Severity'].map(lambda x: 0 if x==3 else 1)"
   ]
  },
  {
   "cell_type": "code",
   "execution_count": 54,
   "metadata": {},
   "outputs": [
    {
     "data": {
      "image/png": "[encoded data removed]",
      "text/plain": [
       "<Figure size 720x504 with 1 Axes>"
      ]
     },
     "metadata": {
      "needs_background": "light"
     },
     "output_type": "display_data"
    }
   ],
   "source": [
    "plt.figure(figsize=(10,7))\n",
    "cas_data['Age_Band_of_Casualty'].value_counts().plot(kind= 'bar')\n",
    "plt.ylabel( 'Number_of_Accidents', fontsize=20)\n",
    "plt.xlabel( 'Age_Band_of_Casualty', fontsize=15)\n",
    "plt.xticks(np.arange(11), ('26-35','36-45','46-55','21-25','16-20','46-55','56-65','11-15',\n",
    "                                              'over_75', '6-10', '0-5'), rotation = 0)\n",
    "\n",
    "plt.tick_params(labelsize=15)\n",
    "plt.savefig('data_viz/simple_stats_09.png')\n",
    "\n",
    "plt.show()"
   ]
  },
  {
   "cell_type": "code",
   "execution_count": 55,
   "metadata": {},
   "outputs": [
    {
     "data": {
      "text/plain": [
       "6.000     36947\n",
       "7.000     27490\n",
       "8.000     25081\n",
       "5.000     23183\n",
       "4.000     19525\n",
       "9.000     14519\n",
       "10.000     8555\n",
       "3.000      7401\n",
       "11.000     7262\n",
       "2.000      5102\n",
       "1.000      3473\n",
       "Name: Age_Band_of_Casualty, dtype: int64"
      ]
     },
     "execution_count": 55,
     "metadata": {},
     "output_type": "execute_result"
    }
   ],
   "source": [
    "cas_data['Age_Band_of_Casualty'].value_counts()"
   ]
  },
  {
   "cell_type": "code",
   "execution_count": 56,
   "metadata": {},
   "outputs": [
    {
     "data": {
      "image/png": "[encoded data removed]",
      "text/plain": [
       "<Figure size 1440x1080 with 2 Axes>"
      ]
     },
     "metadata": {
      "needs_background": "light"
     },
     "output_type": "display_data"
    }
   ],
   "source": [
    "plt.figure(figsize=(20,15))\n",
    "\n",
    "\n",
    "plt.tick_params(labelsize=15)\n",
    "plt.subplot(221)\n",
    "sns.countplot(cas_data.Car_Passenger,hue = cas_data.Class_Cas)\n",
    "plt.ylabel( 'Number_of_Accidents', fontsize=20)\n",
    "plt.xlabel( 'Car_Passenger', fontsize=15)\n",
    "plt.xticks(np.arange(3), ('Not_a_Car_Passenger','Front_Seat','Rear_Seat'), rotation = 0)\n",
    "\n",
    "plt.tick_params(labelsize=15)\n",
    "plt.subplot(222)\n",
    "sns.countplot(cas_data.Bus_or_Coach_Passenger,hue = cas_data.Class_Cas)\n",
    "plt.ylabel( 'Number_of_Accidents', fontsize=20)\n",
    "plt.xlabel( 'Bus_or_Coach_Passenger', fontsize=15)\n",
    "plt.xticks(np.arange(5), ('Not_a_Bus_','Board','Alight','Stand_Pass','Seated'), rotation = 0)\n",
    "\n",
    "plt.tick_params(labelsize=15)\n",
    "plt.savefig('data_viz/simple_stats_10.png')"
   ]
  },
  {
   "cell_type": "raw",
   "metadata": {},
   "source": []
  },
  {
   "cell_type": "raw",
   "metadata": {},
   "source": [
    "Casualty type\n",
    "\n",
    "0\tPedestrian\n",
    "1\tPedal Cycle rider or pillion passenger\n",
    "2\tMotorcycle 50cc and under rider or passenger\n",
    "3\tMotorcycle over 50cc and up to 125cc rider or passenger\n",
    "4\tMotorcycle over 125cc and up to 500cc rider or passenger\n",
    "5\tMotorcycle over 500cc rider or passenger\n",
    "8\tTaxi/Private hire car occupant\n",
    "9\tCar occupant\n",
    "10\tMinibus (8 - 16 passenger seats) occupant\n",
    "11\tBus or coach occupant (17 or more pass seats)\n",
    "14\tOther motor vehicle occupant\n",
    "15\tOther non-motor vehicle occupant\n",
    "16\tHorse rider\n",
    "17\tAgricultural vehicle occupant\n",
    "18\tTram/Light rail occupant\n",
    "19\tGoods vehicle (3.5 tonnes mgw or under) occupant\n",
    "20\tGoods vehicle (over 3.5t. and under 7.5t.) occupant\n",
    "21\tGoods vehicle (7.5 tonnes mgw and over) occupant\n",
    "96\tMotorcycle over 125cc rider or passenger (old veh type 4)\n",
    "97\tMotorcycle - unknown cc rider or passenge\n",
    "98\tGoods vehicle (unknown weight) occupant\n",
    "99\tUnknown\n",
    "255\tOoR"
   ]
  },
  {
   "cell_type": "code",
   "execution_count": 57,
   "metadata": {},
   "outputs": [
    {
     "data": {
      "text/plain": [
       "9    0.584\n",
       "0    0.130\n",
       "1    0.102\n",
       "3    0.047\n",
       "5    0.036\n",
       "19   0.025\n",
       "11   0.023\n",
       "8    0.015\n",
       "4    0.012\n",
       "2    0.010\n",
       "21   0.004\n",
       "90   0.003\n",
       "20   0.002\n",
       "10   0.002\n",
       "97   0.001\n",
       "22   0.001\n",
       "98   0.001\n",
       "17   0.001\n",
       "16   0.001\n",
       "23   0.000\n",
       "18   0.000\n",
       "Name: Casualty_Type, dtype: float64"
      ]
     },
     "execution_count": 57,
     "metadata": {},
     "output_type": "execute_result"
    }
   ],
   "source": [
    "cas_data['Casualty_Type'] == 1\n",
    "cas_data['Casualty_Type'].value_counts()/cas_data['Casualty_Type'].count()"
   ]
  },
  {
   "cell_type": "raw",
   "metadata": {},
   "source": [
    "cars, pedestrians, motorcycles (125 and 500 cc), goods vehicles and bus or coach occupants"
   ]
  },
  {
   "cell_type": "code",
   "execution_count": 58,
   "metadata": {},
   "outputs": [
    {
     "data": {
      "image/png": "[encoded data removed]",
      "text/plain": [
       "<Figure size 1440x1080 with 1 Axes>"
      ]
     },
     "metadata": {
      "needs_background": "light"
     },
     "output_type": "display_data"
    }
   ],
   "source": [
    "plt.figure(figsize=(20,15))\n",
    "sns.countplot(cas_data.Casualty_Type,hue = cas_data.Class_Cas)\n",
    "plt.ylabel( 'Number_of_Accidents', fontsize=20)\n",
    "plt.xlabel( 'Casualty_Type', fontsize=15)\n",
    "plt.xticks(np.arange(21), ('Ped', 'Cycle', 'M<50','M>50cc', 'M>125' , 'M>500', 'Taxi' ,'Car', 'Minibus', 'Bus', 'Oth1',\n",
    "'Oth2', 'Horse', 'Agr', 'Rail','G<3.5', 'G>3.5','G>7.5', 'M>125','M', 'Unk','Oor'), rotation = 0)\n",
    "\n",
    "plt.tick_params(labelsize=15)\n",
    "plt.savefig('data_viz/simple_stats_11.png')"
   ]
  },
  {
   "cell_type": "raw",
   "metadata": {},
   "source": [
    "Accidens severity increases when pedestrian, cicles or motorcycles are involved, since our problem is the reduction of accidents and information in accidents table is related with pedestrian facilities I will not go deeper with pedal and motorbikes.  "
   ]
  },
  {
   "cell_type": "code",
   "execution_count": null,
   "metadata": {},
   "outputs": [],
   "source": []
  },
  {
   "cell_type": "raw",
   "metadata": {},
   "source": [
    "code\tlabel\n",
    "0\tPedestrian\n",
    "1\tPedal Cycle rider or pillion passenger\n",
    "2\tMotorcycle 50cc and under rider or passenger\n",
    "3\tMotorcycle over 50cc and up to 125cc rider or passenger\n",
    "4\tMotorcycle over 125cc and up to 500cc rider or passenger\n",
    "5\tMotorcycle over 500cc rider or passenger\n",
    "8\tTaxi/Private hire car occupant\n",
    "9\tCar occupant\n",
    "10\tMinibus (8 - 16 passenger seats) occupant\n",
    "11\tBus or coach occupant (17 or more pass seats)\n",
    "14\tOther motor vehicle occupant\n",
    "15\tOther non-motor vehicle occupant\n",
    "16\tHorse rider\n",
    "17\tAgricultural vehicle occupant\n",
    "18\tTram/Light rail occupant\n",
    "19\tGoods vehicle (3.5 tonnes mgw or under) occupant\n",
    "20\tGoods vehicle (over 3.5t. and under 7.5t.) occupant\n",
    "21\tGoods vehicle (7.5 tonnes mgw and over) occupant\n",
    "96\tMotorcycle over 125cc rider or passenger (old veh type 4)\n",
    "97\tMotorcycle - unknown cc rider or passenge\n",
    "98\tGoods vehicle (unknown weight) occupant\n",
    "99\tUnknown\n",
    "255\tOoR"
   ]
  },
  {
   "cell_type": "code",
   "execution_count": null,
   "metadata": {},
   "outputs": [],
   "source": []
  },
  {
   "cell_type": "code",
   "execution_count": 59,
   "metadata": {},
   "outputs": [
    {
     "data": {
      "image/png": "[encoded data removed]",
      "text/plain": [
       "<Figure size 720x504 with 1 Axes>"
      ]
     },
     "metadata": {
      "needs_background": "light"
     },
     "output_type": "display_data"
    }
   ],
   "source": [
    "plt.figure(figsize=(10,7))\n",
    "sns.countplot(cas_data['Casualty_Home_Area_Type'], hue = cas_data.Class_Cas)\n",
    "plt.ylabel( 'Number_of_Accidents', fontsize=20)\n",
    "plt.xlabel( 'Casualty_Home_Area_Type', fontsize=15)\n",
    "plt.xticks(np.arange(3), ('Urban', 'Rural', 'Unk'), rotation = 0)\n",
    "\n",
    "plt.tick_params(labelsize=15)\n",
    "plt.savefig('data_viz/simple_stats_12.png')"
   ]
  },
  {
   "cell_type": "code",
   "execution_count": 60,
   "metadata": {},
   "outputs": [
    {
     "data": {
      "image/png": "[encoded data removed]",
      "text/plain": [
       "<Figure size 720x504 with 1 Axes>"
      ]
     },
     "metadata": {
      "needs_background": "light"
     },
     "output_type": "display_data"
    }
   ],
   "source": [
    "#Index of Multiple Deprivation\n",
    "plt.figure(figsize=(10,7))\n",
    "sns.countplot(cas_data['Casualty_IMD_Decile'], hue = cas_data.Class_Cas)\n",
    "plt.ylabel( 'Number_of_Accidents', fontsize=20)\n",
    "plt.xlabel( 'Casualty_IMD_Decile', fontsize=15)\n",
    "plt.tick_params(labelsize=15)\n",
    "plt.savefig('data_viz/simple_stats_13.png')\n",
    "\n",
    "\n",
    "#something interesting is happening here (from a social point of view)"
   ]
  },
  {
   "cell_type": "code",
   "execution_count": 61,
   "metadata": {},
   "outputs": [
    {
     "data": {
      "image/png": "[encoded data removed]",
      "text/plain": [
       "<Figure size 720x504 with 1 Axes>"
      ]
     },
     "metadata": {
      "needs_background": "light"
     },
     "output_type": "display_data"
    }
   ],
   "source": [
    "\n",
    "plt.figure(figsize=(10,7))\n",
    "sns.countplot(cas_data.Casualty_Class, hue = cas_data.Class_Cas)\n",
    "plt.ylabel( 'Number_of_Accidents', fontsize=20)\n",
    "plt.xlabel( 'Casualty_Class', fontsize=15)\n",
    "plt.xticks(np.arange(3), ('Driver', 'Pass', 'Pedest'), rotation = 0)\n",
    "\n",
    "\n",
    "\n",
    "plt.tick_params(labelsize=15)\n",
    "plt.savefig('data_viz/simple_stats_14.png')\n"
   ]
  },
  {
   "cell_type": "code",
   "execution_count": 62,
   "metadata": {},
   "outputs": [
    {
     "data": {
      "text/plain": [
       "0   0.763\n",
       "1   0.237\n",
       "Name: Class_Cas, dtype: float64"
      ]
     },
     "execution_count": 62,
     "metadata": {},
     "output_type": "execute_result"
    }
   ],
   "source": [
    "#pedestrian conditions (0.23 vs 0.09 or 0.13)\n",
    "prop_dr = cas_data[cas_data.Casualty_Class == 1]['Class_Cas'].value_counts()/cas_data[cas_data.Casualty_Class == 1]['Class_Cas'].count()\n",
    "prop_pa = cas_data[cas_data.Casualty_Class == 2]['Class_Cas'].value_counts()/cas_data[cas_data.Casualty_Class == 2]['Class_Cas'].count()\n",
    "prop_pe = cas_data[cas_data.Casualty_Class == 3]['Class_Cas'].value_counts()/cas_data[cas_data.Casualty_Class == 3]['Class_Cas'].count()\n",
    "prop_pe"
   ]
  },
  {
   "cell_type": "code",
   "execution_count": null,
   "metadata": {},
   "outputs": [],
   "source": []
  },
  {
   "cell_type": "markdown",
   "metadata": {},
   "source": [
    "# makemodel data"
   ]
  },
  {
   "cell_type": "code",
   "execution_count": 63,
   "metadata": {},
   "outputs": [
    {
     "data": {
      "text/html": [
       "<div>\n",
       "<style scoped>\n",
       "    .dataframe tbody tr th:only-of-type {\n",
       "        vertical-align: middle;\n",
       "    }\n",
       "\n",
       "    .dataframe tbody tr th {\n",
       "        vertical-align: top;\n",
       "    }\n",
       "\n",
       "    .dataframe thead th {\n",
       "        text-align: right;\n",
       "    }\n",
       "</style>\n",
       "<table border=\"1\" class=\"dataframe\">\n",
       "  <thead>\n",
       "    <tr style=\"text-align: right;\">\n",
       "      <th></th>\n",
       "      <th>accyr</th>\n",
       "      <th>Vehicle_Reference</th>\n",
       "      <th>Vehicle_Type</th>\n",
       "      <th>Towing_and_Articulation</th>\n",
       "      <th>Vehicle_Manoeuvre</th>\n",
       "      <th>Vehicle_Location-Restricted_Lane</th>\n",
       "      <th>Junction_Location</th>\n",
       "      <th>Skidding_and_Overturning</th>\n",
       "      <th>Hit_Object_in_Carriageway</th>\n",
       "      <th>Vehicle_Leaving_Carriageway</th>\n",
       "      <th>...</th>\n",
       "      <th>Journey_Purpose_of_Driver</th>\n",
       "      <th>Sex_of_Driver</th>\n",
       "      <th>Age_Band_of_Driver</th>\n",
       "      <th>Engine_Capacity_(CC)</th>\n",
       "      <th>Propulsion_Code</th>\n",
       "      <th>Age_of_Vehicle</th>\n",
       "      <th>Driver_IMD_Decile</th>\n",
       "      <th>Driver_Home_Area_Type</th>\n",
       "      <th>make</th>\n",
       "      <th>model</th>\n",
       "    </tr>\n",
       "    <tr>\n",
       "      <th>Accident_Index</th>\n",
       "      <th></th>\n",
       "      <th></th>\n",
       "      <th></th>\n",
       "      <th></th>\n",
       "      <th></th>\n",
       "      <th></th>\n",
       "      <th></th>\n",
       "      <th></th>\n",
       "      <th></th>\n",
       "      <th></th>\n",
       "      <th></th>\n",
       "      <th></th>\n",
       "      <th></th>\n",
       "      <th></th>\n",
       "      <th></th>\n",
       "      <th></th>\n",
       "      <th></th>\n",
       "      <th></th>\n",
       "      <th></th>\n",
       "      <th></th>\n",
       "      <th></th>\n",
       "    </tr>\n",
       "  </thead>\n",
       "  <tbody>\n",
       "    <tr>\n",
       "      <th>2016010000005</th>\n",
       "      <td>2016</td>\n",
       "      <td>1</td>\n",
       "      <td>8</td>\n",
       "      <td>0</td>\n",
       "      <td>6</td>\n",
       "      <td>0</td>\n",
       "      <td>0</td>\n",
       "      <td>0</td>\n",
       "      <td>0</td>\n",
       "      <td>0</td>\n",
       "      <td>...</td>\n",
       "      <td>1</td>\n",
       "      <td>1</td>\n",
       "      <td>8</td>\n",
       "      <td>-1</td>\n",
       "      <td>-1</td>\n",
       "      <td>-1</td>\n",
       "      <td>3</td>\n",
       "      <td>1</td>\n",
       "      <td>NaN</td>\n",
       "      <td>NaN</td>\n",
       "    </tr>\n",
       "    <tr>\n",
       "      <th>2016010000005</th>\n",
       "      <td>2016</td>\n",
       "      <td>2</td>\n",
       "      <td>2</td>\n",
       "      <td>0</td>\n",
       "      <td>18</td>\n",
       "      <td>0</td>\n",
       "      <td>0</td>\n",
       "      <td>0</td>\n",
       "      <td>0</td>\n",
       "      <td>0</td>\n",
       "      <td>...</td>\n",
       "      <td>6</td>\n",
       "      <td>1</td>\n",
       "      <td>5</td>\n",
       "      <td>124</td>\n",
       "      <td>1</td>\n",
       "      <td>4</td>\n",
       "      <td>4</td>\n",
       "      <td>1</td>\n",
       "      <td>YAMAHA</td>\n",
       "      <td>HW 125 XENTER</td>\n",
       "    </tr>\n",
       "    <tr>\n",
       "      <th>2016010000006</th>\n",
       "      <td>2016</td>\n",
       "      <td>1</td>\n",
       "      <td>9</td>\n",
       "      <td>0</td>\n",
       "      <td>18</td>\n",
       "      <td>0</td>\n",
       "      <td>2</td>\n",
       "      <td>2</td>\n",
       "      <td>10</td>\n",
       "      <td>1</td>\n",
       "      <td>...</td>\n",
       "      <td>6</td>\n",
       "      <td>2</td>\n",
       "      <td>7</td>\n",
       "      <td>1461</td>\n",
       "      <td>2</td>\n",
       "      <td>1</td>\n",
       "      <td>10</td>\n",
       "      <td>1</td>\n",
       "      <td>MERCEDES</td>\n",
       "      <td>A180 BLUEEFFICIENCY SPORT CDI</td>\n",
       "    </tr>\n",
       "    <tr>\n",
       "      <th>2016010000008</th>\n",
       "      <td>2016</td>\n",
       "      <td>1</td>\n",
       "      <td>9</td>\n",
       "      <td>0</td>\n",
       "      <td>18</td>\n",
       "      <td>0</td>\n",
       "      <td>4</td>\n",
       "      <td>5</td>\n",
       "      <td>0</td>\n",
       "      <td>0</td>\n",
       "      <td>...</td>\n",
       "      <td>6</td>\n",
       "      <td>1</td>\n",
       "      <td>5</td>\n",
       "      <td>1390</td>\n",
       "      <td>1</td>\n",
       "      <td>5</td>\n",
       "      <td>8</td>\n",
       "      <td>1</td>\n",
       "      <td>VOLKSWAGEN</td>\n",
       "      <td>SCIROCCO TSI</td>\n",
       "    </tr>\n",
       "    <tr>\n",
       "      <th>2016010000016</th>\n",
       "      <td>2016</td>\n",
       "      <td>1</td>\n",
       "      <td>11</td>\n",
       "      <td>0</td>\n",
       "      <td>18</td>\n",
       "      <td>0</td>\n",
       "      <td>1</td>\n",
       "      <td>0</td>\n",
       "      <td>0</td>\n",
       "      <td>0</td>\n",
       "      <td>...</td>\n",
       "      <td>1</td>\n",
       "      <td>1</td>\n",
       "      <td>8</td>\n",
       "      <td>6692</td>\n",
       "      <td>2</td>\n",
       "      <td>7</td>\n",
       "      <td>9</td>\n",
       "      <td>1</td>\n",
       "      <td>OTHER BRITISH</td>\n",
       "      <td>Missing</td>\n",
       "    </tr>\n",
       "  </tbody>\n",
       "</table>\n",
       "<p>5 rows × 23 columns</p>\n",
       "</div>"
      ],
      "text/plain": [
       "                accyr  Vehicle_Reference  Vehicle_Type  \\\n",
       "Accident_Index                                           \n",
       "2016010000005    2016                  1             8   \n",
       "2016010000005    2016                  2             2   \n",
       "2016010000006    2016                  1             9   \n",
       "2016010000008    2016                  1             9   \n",
       "2016010000016    2016                  1            11   \n",
       "\n",
       "                Towing_and_Articulation  Vehicle_Manoeuvre  \\\n",
       "Accident_Index                                               \n",
       "2016010000005                         0                  6   \n",
       "2016010000005                         0                 18   \n",
       "2016010000006                         0                 18   \n",
       "2016010000008                         0                 18   \n",
       "2016010000016                         0                 18   \n",
       "\n",
       "                Vehicle_Location-Restricted_Lane  Junction_Location  \\\n",
       "Accident_Index                                                        \n",
       "2016010000005                                  0                  0   \n",
       "2016010000005                                  0                  0   \n",
       "2016010000006                                  0                  2   \n",
       "2016010000008                                  0                  4   \n",
       "2016010000016                                  0                  1   \n",
       "\n",
       "                Skidding_and_Overturning  Hit_Object_in_Carriageway  \\\n",
       "Accident_Index                                                        \n",
       "2016010000005                          0                          0   \n",
       "2016010000005                          0                          0   \n",
       "2016010000006                          2                         10   \n",
       "2016010000008                          5                          0   \n",
       "2016010000016                          0                          0   \n",
       "\n",
       "                Vehicle_Leaving_Carriageway              ...                \\\n",
       "Accident_Index                                           ...                 \n",
       "2016010000005                             0              ...                 \n",
       "2016010000005                             0              ...                 \n",
       "2016010000006                             1              ...                 \n",
       "2016010000008                             0              ...                 \n",
       "2016010000016                             0              ...                 \n",
       "\n",
       "                Journey_Purpose_of_Driver  Sex_of_Driver  Age_Band_of_Driver  \\\n",
       "Accident_Index                                                                 \n",
       "2016010000005                           1              1                   8   \n",
       "2016010000005                           6              1                   5   \n",
       "2016010000006                           6              2                   7   \n",
       "2016010000008                           6              1                   5   \n",
       "2016010000016                           1              1                   8   \n",
       "\n",
       "                Engine_Capacity_(CC)  Propulsion_Code  Age_of_Vehicle  \\\n",
       "Accident_Index                                                          \n",
       "2016010000005                     -1               -1              -1   \n",
       "2016010000005                    124                1               4   \n",
       "2016010000006                   1461                2               1   \n",
       "2016010000008                   1390                1               5   \n",
       "2016010000016                   6692                2               7   \n",
       "\n",
       "                Driver_IMD_Decile  Driver_Home_Area_Type           make  \\\n",
       "Accident_Index                                                            \n",
       "2016010000005                   3                      1            NaN   \n",
       "2016010000005                   4                      1         YAMAHA   \n",
       "2016010000006                  10                      1       MERCEDES   \n",
       "2016010000008                   8                      1     VOLKSWAGEN   \n",
       "2016010000016                   9                      1  OTHER BRITISH   \n",
       "\n",
       "                                        model  \n",
       "Accident_Index                                 \n",
       "2016010000005                             NaN  \n",
       "2016010000005                   HW 125 XENTER  \n",
       "2016010000006   A180 BLUEEFFICIENCY SPORT CDI  \n",
       "2016010000008                    SCIROCCO TSI  \n",
       "2016010000016                         Missing  \n",
       "\n",
       "[5 rows x 23 columns]"
      ]
     },
     "execution_count": 63,
     "metadata": {},
     "output_type": "execute_result"
    }
   ],
   "source": [
    "mak_data = pd.read_csv('data/MakeModel2016.csv', index_col=0)\n",
    "mak_data.head()"
   ]
  },
  {
   "cell_type": "code",
   "execution_count": 64,
   "metadata": {},
   "outputs": [
    {
     "name": "stdout",
     "output_type": "stream",
     "text": [
      "<class 'pandas.core.frame.DataFrame'>\n",
      "Index: 252500 entries, 2016010000005 to 2016984133416\n",
      "Data columns (total 23 columns):\n",
      "accyr                               252500 non-null int64\n",
      "Vehicle_Reference                   252500 non-null int64\n",
      "Vehicle_Type                        252500 non-null int64\n",
      "Towing_and_Articulation             252500 non-null int64\n",
      "Vehicle_Manoeuvre                   252500 non-null int64\n",
      "Vehicle_Location-Restricted_Lane    252500 non-null int64\n",
      "Junction_Location                   252500 non-null int64\n",
      "Skidding_and_Overturning            252500 non-null int64\n",
      "Hit_Object_in_Carriageway           252500 non-null int64\n",
      "Vehicle_Leaving_Carriageway         252500 non-null int64\n",
      "Hit_Object_off_Carriageway          252500 non-null int64\n",
      "1st_Point_of_Impact                 252500 non-null int64\n",
      "Was_Vehicle_Left_Hand_Drive         252500 non-null int64\n",
      "Journey_Purpose_of_Driver           252500 non-null int64\n",
      "Sex_of_Driver                       252500 non-null int64\n",
      "Age_Band_of_Driver                  252500 non-null int64\n",
      "Engine_Capacity_(CC)                252500 non-null int64\n",
      "Propulsion_Code                     252500 non-null int64\n",
      "Age_of_Vehicle                      252500 non-null int64\n",
      "Driver_IMD_Decile                   252500 non-null int64\n",
      "Driver_Home_Area_Type               252500 non-null int64\n",
      "make                                204775 non-null object\n",
      "model                               204775 non-null object\n",
      "dtypes: int64(21), object(2)\n",
      "memory usage: 46.2+ MB\n"
     ]
    }
   ],
   "source": [
    "mak_data.info()"
   ]
  },
  {
   "cell_type": "code",
   "execution_count": 66,
   "metadata": {},
   "outputs": [
    {
     "name": "stdout",
     "output_type": "stream",
     "text": [
      "make model shape is :  (252500, 23)\n"
     ]
    }
   ],
   "source": [
    "print('make model shape is : ' ,mak_data.shape)"
   ]
  },
  {
   "cell_type": "code",
   "execution_count": 67,
   "metadata": {},
   "outputs": [],
   "source": [
    "#replace -1 with nans\n",
    "mak_data = mak_data.replace(-1, np.nan)"
   ]
  },
  {
   "cell_type": "code",
   "execution_count": 68,
   "metadata": {},
   "outputs": [
    {
     "data": {
      "text/plain": [
       "0.0"
      ]
     },
     "execution_count": 68,
     "metadata": {},
     "output_type": "execute_result"
    }
   ],
   "source": [
    "#let us see vars\n",
    "mak_data.accyr.std()"
   ]
  },
  {
   "cell_type": "code",
   "execution_count": 69,
   "metadata": {},
   "outputs": [
    {
     "data": {
      "text/html": [
       "<div>\n",
       "<style scoped>\n",
       "    .dataframe tbody tr th:only-of-type {\n",
       "        vertical-align: middle;\n",
       "    }\n",
       "\n",
       "    .dataframe tbody tr th {\n",
       "        vertical-align: top;\n",
       "    }\n",
       "\n",
       "    .dataframe thead th {\n",
       "        text-align: right;\n",
       "    }\n",
       "</style>\n",
       "<table border=\"1\" class=\"dataframe\">\n",
       "  <thead>\n",
       "    <tr style=\"text-align: right;\">\n",
       "      <th></th>\n",
       "      <th>Vehicle_Reference</th>\n",
       "      <th>Vehicle_Type</th>\n",
       "      <th>Towing_and_Articulation</th>\n",
       "      <th>Vehicle_Manoeuvre</th>\n",
       "      <th>Vehicle_Location-Restricted_Lane</th>\n",
       "      <th>Junction_Location</th>\n",
       "      <th>Skidding_and_Overturning</th>\n",
       "      <th>Hit_Object_in_Carriageway</th>\n",
       "      <th>Vehicle_Leaving_Carriageway</th>\n",
       "      <th>Hit_Object_off_Carriageway</th>\n",
       "      <th>...</th>\n",
       "      <th>Journey_Purpose_of_Driver</th>\n",
       "      <th>Sex_of_Driver</th>\n",
       "      <th>Age_Band_of_Driver</th>\n",
       "      <th>Engine_Capacity_(CC)</th>\n",
       "      <th>Propulsion_Code</th>\n",
       "      <th>Age_of_Vehicle</th>\n",
       "      <th>Driver_IMD_Decile</th>\n",
       "      <th>Driver_Home_Area_Type</th>\n",
       "      <th>make</th>\n",
       "      <th>model</th>\n",
       "    </tr>\n",
       "    <tr>\n",
       "      <th>Accident_Index</th>\n",
       "      <th></th>\n",
       "      <th></th>\n",
       "      <th></th>\n",
       "      <th></th>\n",
       "      <th></th>\n",
       "      <th></th>\n",
       "      <th></th>\n",
       "      <th></th>\n",
       "      <th></th>\n",
       "      <th></th>\n",
       "      <th></th>\n",
       "      <th></th>\n",
       "      <th></th>\n",
       "      <th></th>\n",
       "      <th></th>\n",
       "      <th></th>\n",
       "      <th></th>\n",
       "      <th></th>\n",
       "      <th></th>\n",
       "      <th></th>\n",
       "      <th></th>\n",
       "    </tr>\n",
       "  </thead>\n",
       "  <tbody>\n",
       "    <tr>\n",
       "      <th>2016010000005</th>\n",
       "      <td>1</td>\n",
       "      <td>8.000</td>\n",
       "      <td>0.000</td>\n",
       "      <td>6.000</td>\n",
       "      <td>0.000</td>\n",
       "      <td>0.000</td>\n",
       "      <td>0.000</td>\n",
       "      <td>0.000</td>\n",
       "      <td>0.000</td>\n",
       "      <td>0.000</td>\n",
       "      <td>...</td>\n",
       "      <td>1.000</td>\n",
       "      <td>1.000</td>\n",
       "      <td>8.000</td>\n",
       "      <td>nan</td>\n",
       "      <td>nan</td>\n",
       "      <td>nan</td>\n",
       "      <td>3.000</td>\n",
       "      <td>1.000</td>\n",
       "      <td>NaN</td>\n",
       "      <td>NaN</td>\n",
       "    </tr>\n",
       "    <tr>\n",
       "      <th>2016010000005</th>\n",
       "      <td>2</td>\n",
       "      <td>2.000</td>\n",
       "      <td>0.000</td>\n",
       "      <td>18.000</td>\n",
       "      <td>0.000</td>\n",
       "      <td>0.000</td>\n",
       "      <td>0.000</td>\n",
       "      <td>0.000</td>\n",
       "      <td>0.000</td>\n",
       "      <td>0.000</td>\n",
       "      <td>...</td>\n",
       "      <td>6.000</td>\n",
       "      <td>1.000</td>\n",
       "      <td>5.000</td>\n",
       "      <td>124.000</td>\n",
       "      <td>1.000</td>\n",
       "      <td>4.000</td>\n",
       "      <td>4.000</td>\n",
       "      <td>1.000</td>\n",
       "      <td>YAMAHA</td>\n",
       "      <td>HW 125 XENTER</td>\n",
       "    </tr>\n",
       "    <tr>\n",
       "      <th>2016010000006</th>\n",
       "      <td>1</td>\n",
       "      <td>9.000</td>\n",
       "      <td>0.000</td>\n",
       "      <td>18.000</td>\n",
       "      <td>0.000</td>\n",
       "      <td>2.000</td>\n",
       "      <td>2.000</td>\n",
       "      <td>10.000</td>\n",
       "      <td>1.000</td>\n",
       "      <td>0.000</td>\n",
       "      <td>...</td>\n",
       "      <td>6.000</td>\n",
       "      <td>2.000</td>\n",
       "      <td>7.000</td>\n",
       "      <td>1461.000</td>\n",
       "      <td>2.000</td>\n",
       "      <td>1.000</td>\n",
       "      <td>10.000</td>\n",
       "      <td>1.000</td>\n",
       "      <td>MERCEDES</td>\n",
       "      <td>A180 BLUEEFFICIENCY SPORT CDI</td>\n",
       "    </tr>\n",
       "    <tr>\n",
       "      <th>2016010000008</th>\n",
       "      <td>1</td>\n",
       "      <td>9.000</td>\n",
       "      <td>0.000</td>\n",
       "      <td>18.000</td>\n",
       "      <td>0.000</td>\n",
       "      <td>4.000</td>\n",
       "      <td>5.000</td>\n",
       "      <td>0.000</td>\n",
       "      <td>0.000</td>\n",
       "      <td>0.000</td>\n",
       "      <td>...</td>\n",
       "      <td>6.000</td>\n",
       "      <td>1.000</td>\n",
       "      <td>5.000</td>\n",
       "      <td>1390.000</td>\n",
       "      <td>1.000</td>\n",
       "      <td>5.000</td>\n",
       "      <td>8.000</td>\n",
       "      <td>1.000</td>\n",
       "      <td>VOLKSWAGEN</td>\n",
       "      <td>SCIROCCO TSI</td>\n",
       "    </tr>\n",
       "    <tr>\n",
       "      <th>2016010000016</th>\n",
       "      <td>1</td>\n",
       "      <td>11.000</td>\n",
       "      <td>0.000</td>\n",
       "      <td>18.000</td>\n",
       "      <td>0.000</td>\n",
       "      <td>1.000</td>\n",
       "      <td>0.000</td>\n",
       "      <td>0.000</td>\n",
       "      <td>0.000</td>\n",
       "      <td>0.000</td>\n",
       "      <td>...</td>\n",
       "      <td>1.000</td>\n",
       "      <td>1.000</td>\n",
       "      <td>8.000</td>\n",
       "      <td>6692.000</td>\n",
       "      <td>2.000</td>\n",
       "      <td>7.000</td>\n",
       "      <td>9.000</td>\n",
       "      <td>1.000</td>\n",
       "      <td>OTHER BRITISH</td>\n",
       "      <td>Missing</td>\n",
       "    </tr>\n",
       "  </tbody>\n",
       "</table>\n",
       "<p>5 rows × 22 columns</p>\n",
       "</div>"
      ],
      "text/plain": [
       "                Vehicle_Reference  Vehicle_Type  Towing_and_Articulation  \\\n",
       "Accident_Index                                                             \n",
       "2016010000005                   1         8.000                    0.000   \n",
       "2016010000005                   2         2.000                    0.000   \n",
       "2016010000006                   1         9.000                    0.000   \n",
       "2016010000008                   1         9.000                    0.000   \n",
       "2016010000016                   1        11.000                    0.000   \n",
       "\n",
       "                Vehicle_Manoeuvre  Vehicle_Location-Restricted_Lane  \\\n",
       "Accident_Index                                                        \n",
       "2016010000005               6.000                             0.000   \n",
       "2016010000005              18.000                             0.000   \n",
       "2016010000006              18.000                             0.000   \n",
       "2016010000008              18.000                             0.000   \n",
       "2016010000016              18.000                             0.000   \n",
       "\n",
       "                Junction_Location  Skidding_and_Overturning  \\\n",
       "Accident_Index                                                \n",
       "2016010000005               0.000                     0.000   \n",
       "2016010000005               0.000                     0.000   \n",
       "2016010000006               2.000                     2.000   \n",
       "2016010000008               4.000                     5.000   \n",
       "2016010000016               1.000                     0.000   \n",
       "\n",
       "                Hit_Object_in_Carriageway  Vehicle_Leaving_Carriageway  \\\n",
       "Accident_Index                                                           \n",
       "2016010000005                       0.000                        0.000   \n",
       "2016010000005                       0.000                        0.000   \n",
       "2016010000006                      10.000                        1.000   \n",
       "2016010000008                       0.000                        0.000   \n",
       "2016010000016                       0.000                        0.000   \n",
       "\n",
       "                Hit_Object_off_Carriageway              ...                \\\n",
       "Accident_Index                                          ...                 \n",
       "2016010000005                        0.000              ...                 \n",
       "2016010000005                        0.000              ...                 \n",
       "2016010000006                        0.000              ...                 \n",
       "2016010000008                        0.000              ...                 \n",
       "2016010000016                        0.000              ...                 \n",
       "\n",
       "                Journey_Purpose_of_Driver  Sex_of_Driver  Age_Band_of_Driver  \\\n",
       "Accident_Index                                                                 \n",
       "2016010000005                       1.000          1.000               8.000   \n",
       "2016010000005                       6.000          1.000               5.000   \n",
       "2016010000006                       6.000          2.000               7.000   \n",
       "2016010000008                       6.000          1.000               5.000   \n",
       "2016010000016                       1.000          1.000               8.000   \n",
       "\n",
       "                Engine_Capacity_(CC)  Propulsion_Code  Age_of_Vehicle  \\\n",
       "Accident_Index                                                          \n",
       "2016010000005                    nan              nan             nan   \n",
       "2016010000005                124.000            1.000           4.000   \n",
       "2016010000006               1461.000            2.000           1.000   \n",
       "2016010000008               1390.000            1.000           5.000   \n",
       "2016010000016               6692.000            2.000           7.000   \n",
       "\n",
       "                Driver_IMD_Decile  Driver_Home_Area_Type           make  \\\n",
       "Accident_Index                                                            \n",
       "2016010000005               3.000                  1.000            NaN   \n",
       "2016010000005               4.000                  1.000         YAMAHA   \n",
       "2016010000006              10.000                  1.000       MERCEDES   \n",
       "2016010000008               8.000                  1.000     VOLKSWAGEN   \n",
       "2016010000016               9.000                  1.000  OTHER BRITISH   \n",
       "\n",
       "                                        model  \n",
       "Accident_Index                                 \n",
       "2016010000005                             NaN  \n",
       "2016010000005                   HW 125 XENTER  \n",
       "2016010000006   A180 BLUEEFFICIENCY SPORT CDI  \n",
       "2016010000008                    SCIROCCO TSI  \n",
       "2016010000016                         Missing  \n",
       "\n",
       "[5 rows x 22 columns]"
      ]
     },
     "execution_count": 69,
     "metadata": {},
     "output_type": "execute_result"
    }
   ],
   "source": [
    "mak_data = mak_data.drop(['accyr'], axis = 1)\n",
    "mak_data.head()"
   ]
  },
  {
   "cell_type": "code",
   "execution_count": null,
   "metadata": {},
   "outputs": [],
   "source": []
  },
  {
   "cell_type": "raw",
   "metadata": {},
   "source": []
  },
  {
   "cell_type": "code",
   "execution_count": 70,
   "metadata": {},
   "outputs": [
    {
     "data": {
      "text/plain": [
       "0.000    247665\n",
       "1.000      2607\n",
       "4.000       815\n",
       "5.000       327\n",
       "3.000       147\n",
       "2.000        53\n",
       "Name: Towing_and_Articulation, dtype: int64"
      ]
     },
     "execution_count": 70,
     "metadata": {},
     "output_type": "execute_result"
    }
   ],
   "source": [
    " mak_data['Towing_and_Articulation'].value_counts()"
   ]
  },
  {
   "cell_type": "code",
   "execution_count": 71,
   "metadata": {},
   "outputs": [
    {
     "data": {
      "text/plain": [
       "18.000    120830\n",
       "9.000      24700\n",
       "4.000      19387\n",
       "3.000      15477\n",
       "5.000      11502\n",
       "2.000      10056\n",
       "17.000      8711\n",
       "7.000       8592\n",
       "16.000      7481\n",
       "13.000      4978\n",
       "10.000      3812\n",
       "1.000       3547\n",
       "14.000      2957\n",
       "12.000      2421\n",
       "11.000      2241\n",
       "6.000       2022\n",
       "15.000      1659\n",
       "8.000       1185\n",
       "Name: Vehicle_Manoeuvre, dtype: int64"
      ]
     },
     "execution_count": 71,
     "metadata": {},
     "output_type": "execute_result"
    }
   ],
   "source": [
    "mak_data['Vehicle_Manoeuvre'].value_counts()"
   ]
  },
  {
   "cell_type": "code",
   "execution_count": 72,
   "metadata": {},
   "outputs": [
    {
     "data": {
      "image/png": "[encoded data removed]",
      "text/plain": [
       "<Figure size 720x504 with 1 Axes>"
      ]
     },
     "metadata": {
      "needs_background": "light"
     },
     "output_type": "display_data"
    }
   ],
   "source": [
    "#male female hit&run\n",
    "\n",
    "plt.figure(figsize=(10,7))\n",
    "mak_data['Sex_of_Driver'].value_counts().plot(kind = 'bar')\n",
    "plt.ylabel( 'Number_of_Accidents', fontsize=20)\n",
    "plt.xlabel( 'Sex_of_Driver', fontsize=15)\n",
    "plt.xticks(np.arange(3), ('Male', 'Female', 'Hit&Run'), rotation = 0)\n",
    "\n",
    "\n",
    "\n",
    "plt.tick_params(labelsize=15)\n",
    "plt.savefig('data_viz/simple_stats_15.png')\n"
   ]
  },
  {
   "cell_type": "code",
   "execution_count": 73,
   "metadata": {},
   "outputs": [
    {
     "data": {
      "image/png": "[encoded data removed]",
      "text/plain": [
       "<Figure size 720x504 with 1 Axes>"
      ]
     },
     "metadata": {
      "needs_background": "light"
     },
     "output_type": "display_data"
    }
   ],
   "source": [
    "#mak_data['Age_Band_of_Driver'].value_counts().plot(kind = 'barh')\n",
    "plt.figure(figsize=(10,7))\n",
    "mak_data['Age_Band_of_Driver'].value_counts().plot(kind = 'bar')\n",
    "plt.ylabel( 'Number_of_Accidents', fontsize=20)\n",
    "plt.xlabel( 'Age_Band_of_Driver', fontsize=15)\n",
    "plt.xticks(np.arange(11), ('26-35', '36-45', '46-55','21-25', '56-65' , '16-20', '66-75' ,'+75', '11-15', '6-10', \n",
    "                           '1-5'), rotation = 0)\n",
    "\n",
    "\n",
    "\n",
    "\n",
    "plt.tick_params(labelsize=15)\n",
    "plt.savefig('data_viz/simple_stats_16.png')"
   ]
  },
  {
   "cell_type": "raw",
   "metadata": {},
   "source": [
    "This is an interesting variable, I will check if older people has more serious accidents.\n",
    "\n",
    "\n",
    "\n",
    "\n",
    "code\tlabel\n",
    "0\tUnknown\n",
    "1\t1 - 5\n",
    "2\t6 - 10\n",
    "3\t11 - 15\n",
    "4\t16 - 20\n",
    "5\t21 - 25\n",
    "6\t26 - 35\n",
    "7\t36 - 45\n",
    "8\t46 - 55\n",
    "9\t56 - 65\n",
    "10\t66 - 75\n",
    "11\tOver 75"
   ]
  },
  {
   "cell_type": "code",
   "execution_count": 74,
   "metadata": {},
   "outputs": [
    {
     "data": {
      "text/plain": [
       "6.000    167606\n",
       "1.000     38028\n",
       "2.000     25886\n",
       "5.000     17577\n",
       "3.000      2545\n",
       "4.000       844\n",
       "Name: Journey_Purpose_of_Driver, dtype: int64"
      ]
     },
     "execution_count": 74,
     "metadata": {},
     "output_type": "execute_result"
    }
   ],
   "source": [
    "#not interesting for our purposes\n",
    "mak_data.Journey_Purpose_of_Driver.value_counts()"
   ]
  },
  {
   "cell_type": "raw",
   "metadata": {},
   "source": [
    "CODES\n",
    "1. Journey as part of work\n",
    "2. Commuting to/from work\n",
    "3. Taking pupil to/from school\n",
    "4. Pupil riding to/from school\n",
    "5. Other/Not known"
   ]
  },
  {
   "cell_type": "code",
   "execution_count": null,
   "metadata": {},
   "outputs": [],
   "source": []
  },
  {
   "cell_type": "code",
   "execution_count": 75,
   "metadata": {},
   "outputs": [],
   "source": [
    "#group here\n",
    "bins = [0,5,10,15,20,99]\n",
    "groups = ['0-5','5-10','10-15','15-20', '+20']\n",
    "mak_data['Vehicle_age_group'] = pd.cut(mak_data['Age_of_Vehicle'],bins,labels = groups)\n",
    "#mak_data['Vehicle_age_group'].value_counts().plot(kind = 'bar')"
   ]
  },
  {
   "cell_type": "code",
   "execution_count": 76,
   "metadata": {},
   "outputs": [
    {
     "data": {
      "image/png": "[encoded data removed]",
      "text/plain": [
       "<Figure size 720x504 with 1 Axes>"
      ]
     },
     "metadata": {
      "needs_background": "light"
     },
     "output_type": "display_data"
    }
   ],
   "source": [
    "plt.figure(figsize=(10,7))\n",
    "mak_data['Vehicle_age_group'].value_counts().plot(kind = 'bar')\n",
    "plt.ylabel( 'Number_of_Accidents', fontsize=20)\n",
    "plt.xlabel( 'Vehicle_Age_Group', fontsize=15)\n",
    "plt.xticks(np.arange(5), ('0-5', '5-10', '10-15','15-20','+20'), rotation = 0)\n",
    "\n",
    "\n",
    "\n",
    "\n",
    "plt.tick_params(labelsize=15)\n",
    "plt.savefig('data_viz/simple_stats_17.png')"
   ]
  },
  {
   "cell_type": "raw",
   "metadata": {},
   "source": [
    "Iinterestig variable, I will check if older cars are more involved in accidents."
   ]
  },
  {
   "cell_type": "code",
   "execution_count": 78,
   "metadata": {},
   "outputs": [
    {
     "data": {
      "image/png": "[encoded data removed]",
      "text/plain": [
       "<Figure size 1440x1080 with 1 Axes>"
      ]
     },
     "metadata": {
      "needs_background": "light"
     },
     "output_type": "display_data"
    }
   ],
   "source": [
    "plt.figure(figsize = (20,15))\n",
    "mak_data['make'].value_counts().head(25).plot(kind = 'barh')\n",
    "plt.xlabel( 'Number_of_Accidents', fontsize=20)\n",
    "plt.ylabel('Designer',fontsize=20, rotation = 0)\n",
    "plt.tick_params(labelsize=15)\n",
    "plt.savefig('data_viz/simple_stats_18.png')"
   ]
  },
  {
   "cell_type": "code",
   "execution_count": 79,
   "metadata": {},
   "outputs": [],
   "source": [
    "#too much info for our purposes\n",
    "mak_data = mak_data.drop(['model'], axis = 1)"
   ]
  },
  {
   "cell_type": "code",
   "execution_count": null,
   "metadata": {},
   "outputs": [],
   "source": []
  },
  {
   "cell_type": "code",
   "execution_count": 80,
   "metadata": {},
   "outputs": [],
   "source": [
    "#hypothesis: \n",
    "#1. there are more accidents and are more serious in one-way roads in rural areas more in  oneway,\n",
    "#2. pedestrian are the most damaged casualties and it is related with lack of facilities , \n",
    "#3. old cars and old people are more involved in accidents,\n",
    "#4.people with the smaller IMD decile are more involved in accidents"
   ]
  },
  {
   "cell_type": "code",
   "execution_count": 81,
   "metadata": {},
   "outputs": [],
   "source": [
    "#"
   ]
  },
  {
   "cell_type": "code",
   "execution_count": 83,
   "metadata": {},
   "outputs": [],
   "source": [
    "accidents.to_csv('data_acc.csv')\n",
    "cas_data.to_csv('data_cas.csv')\n",
    "mak_data.to_csv('data_mak.csv')"
   ]
  },
  {
   "cell_type": "code",
   "execution_count": null,
   "metadata": {},
   "outputs": [],
   "source": []
  }
 ],
 "metadata": {
  "kernelspec": {
   "display_name": "Python 3",
   "language": "python",
   "name": "python3"
  },
  "language_info": {
   "codemirror_mode": {
    "name": "ipython",
    "version": 3
   },
   "file_extension": ".py",
   "mimetype": "text/x-python",
   "name": "python",
   "nbconvert_exporter": "python",
   "pygments_lexer": "ipython3",
   "version": "3.6.6"
  }
 },
 "nbformat": 4,
 "nbformat_minor": 2
}
