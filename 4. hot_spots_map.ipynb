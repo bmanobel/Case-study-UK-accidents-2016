{
 "cells": [
  {
   "cell_type": "code",
   "execution_count": 1,
   "metadata": {},
   "outputs": [],
   "source": [
    "import pandas as pd\n",
    "import numpy as np"
   ]
  },
  {
   "cell_type": "raw",
   "metadata": {},
   "source": [
    "I will consider a hot-spot when police have reported more than 25 accidents in a LSOA"
   ]
  },
  {
   "cell_type": "code",
   "execution_count": 2,
   "metadata": {},
   "outputs": [
    {
     "data": {
      "text/html": [
       "<div>\n",
       "<style scoped>\n",
       "    .dataframe tbody tr th:only-of-type {\n",
       "        vertical-align: middle;\n",
       "    }\n",
       "\n",
       "    .dataframe tbody tr th {\n",
       "        vertical-align: top;\n",
       "    }\n",
       "\n",
       "    .dataframe thead th {\n",
       "        text-align: right;\n",
       "    }\n",
       "</style>\n",
       "<table border=\"1\" class=\"dataframe\">\n",
       "  <thead>\n",
       "    <tr style=\"text-align: right;\">\n",
       "      <th></th>\n",
       "      <th>Accident_Index</th>\n",
       "      <th>Age_Band_of_Driver</th>\n",
       "      <th>include_pedestrian</th>\n",
       "      <th>Location_Easting_OSGR</th>\n",
       "      <th>Location_Northing_OSGR</th>\n",
       "      <th>Longitude</th>\n",
       "      <th>Latitude</th>\n",
       "      <th>Police_Force</th>\n",
       "      <th>Day_of_Week</th>\n",
       "      <th>1st_Road_Class</th>\n",
       "      <th>...</th>\n",
       "      <th>Number_Casualties_Group</th>\n",
       "      <th>Junction_Group</th>\n",
       "      <th>Pedestrian_Control</th>\n",
       "      <th>Pedestrian_PhisFac</th>\n",
       "      <th>Active_Light</th>\n",
       "      <th>Weather</th>\n",
       "      <th>Road_Surf_Cond</th>\n",
       "      <th>Special_Conds</th>\n",
       "      <th>Carriageway_Haz</th>\n",
       "      <th>Commute_hours</th>\n",
       "    </tr>\n",
       "  </thead>\n",
       "  <tbody>\n",
       "    <tr>\n",
       "      <th>0</th>\n",
       "      <td>2016010000005</td>\n",
       "      <td>5.0</td>\n",
       "      <td>0</td>\n",
       "      <td>519310.0</td>\n",
       "      <td>188730.0</td>\n",
       "      <td>-0.279323</td>\n",
       "      <td>51.584754</td>\n",
       "      <td>1</td>\n",
       "      <td>3</td>\n",
       "      <td>3</td>\n",
       "      <td>...</td>\n",
       "      <td>1</td>\n",
       "      <td>1</td>\n",
       "      <td>1</td>\n",
       "      <td>1</td>\n",
       "      <td>0</td>\n",
       "      <td>1</td>\n",
       "      <td>1</td>\n",
       "      <td>1</td>\n",
       "      <td>1</td>\n",
       "      <td>0</td>\n",
       "    </tr>\n",
       "    <tr>\n",
       "      <th>1</th>\n",
       "      <td>2016010000006</td>\n",
       "      <td>7.0</td>\n",
       "      <td>0</td>\n",
       "      <td>551920.0</td>\n",
       "      <td>174560.0</td>\n",
       "      <td>0.184928</td>\n",
       "      <td>51.449595</td>\n",
       "      <td>1</td>\n",
       "      <td>3</td>\n",
       "      <td>3</td>\n",
       "      <td>...</td>\n",
       "      <td>1</td>\n",
       "      <td>3</td>\n",
       "      <td>1</td>\n",
       "      <td>1</td>\n",
       "      <td>1</td>\n",
       "      <td>1</td>\n",
       "      <td>1</td>\n",
       "      <td>1</td>\n",
       "      <td>1</td>\n",
       "      <td>0</td>\n",
       "    </tr>\n",
       "    <tr>\n",
       "      <th>2</th>\n",
       "      <td>2016010000008</td>\n",
       "      <td>5.0</td>\n",
       "      <td>0</td>\n",
       "      <td>505930.0</td>\n",
       "      <td>183850.0</td>\n",
       "      <td>-0.473837</td>\n",
       "      <td>51.543563</td>\n",
       "      <td>1</td>\n",
       "      <td>3</td>\n",
       "      <td>3</td>\n",
       "      <td>...</td>\n",
       "      <td>1</td>\n",
       "      <td>2</td>\n",
       "      <td>1</td>\n",
       "      <td>1</td>\n",
       "      <td>1</td>\n",
       "      <td>1</td>\n",
       "      <td>1</td>\n",
       "      <td>1</td>\n",
       "      <td>1</td>\n",
       "      <td>0</td>\n",
       "    </tr>\n",
       "    <tr>\n",
       "      <th>3</th>\n",
       "      <td>2016010000016</td>\n",
       "      <td>8.0</td>\n",
       "      <td>0</td>\n",
       "      <td>527770.0</td>\n",
       "      <td>168930.0</td>\n",
       "      <td>-0.164442</td>\n",
       "      <td>51.404958</td>\n",
       "      <td>1</td>\n",
       "      <td>3</td>\n",
       "      <td>3</td>\n",
       "      <td>...</td>\n",
       "      <td>1</td>\n",
       "      <td>3</td>\n",
       "      <td>1</td>\n",
       "      <td>1</td>\n",
       "      <td>1</td>\n",
       "      <td>1</td>\n",
       "      <td>1</td>\n",
       "      <td>1</td>\n",
       "      <td>1</td>\n",
       "      <td>1</td>\n",
       "    </tr>\n",
       "    <tr>\n",
       "      <th>4</th>\n",
       "      <td>2016010000019</td>\n",
       "      <td>6.0</td>\n",
       "      <td>0</td>\n",
       "      <td>530840.0</td>\n",
       "      <td>167100.0</td>\n",
       "      <td>-0.121004</td>\n",
       "      <td>51.387813</td>\n",
       "      <td>1</td>\n",
       "      <td>3</td>\n",
       "      <td>3</td>\n",
       "      <td>...</td>\n",
       "      <td>1</td>\n",
       "      <td>3</td>\n",
       "      <td>1</td>\n",
       "      <td>2</td>\n",
       "      <td>1</td>\n",
       "      <td>1</td>\n",
       "      <td>1</td>\n",
       "      <td>1</td>\n",
       "      <td>1</td>\n",
       "      <td>1</td>\n",
       "    </tr>\n",
       "  </tbody>\n",
       "</table>\n",
       "<p>5 rows × 34 columns</p>\n",
       "</div>"
      ],
      "text/plain": [
       "  Accident_Index  Age_Band_of_Driver  include_pedestrian  \\\n",
       "0  2016010000005                 5.0                   0   \n",
       "1  2016010000006                 7.0                   0   \n",
       "2  2016010000008                 5.0                   0   \n",
       "3  2016010000016                 8.0                   0   \n",
       "4  2016010000019                 6.0                   0   \n",
       "\n",
       "   Location_Easting_OSGR  Location_Northing_OSGR  Longitude   Latitude  \\\n",
       "0               519310.0                188730.0  -0.279323  51.584754   \n",
       "1               551920.0                174560.0   0.184928  51.449595   \n",
       "2               505930.0                183850.0  -0.473837  51.543563   \n",
       "3               527770.0                168930.0  -0.164442  51.404958   \n",
       "4               530840.0                167100.0  -0.121004  51.387813   \n",
       "\n",
       "   Police_Force  Day_of_Week  1st_Road_Class      ...       \\\n",
       "0             1            3               3      ...        \n",
       "1             1            3               3      ...        \n",
       "2             1            3               3      ...        \n",
       "3             1            3               3      ...        \n",
       "4             1            3               3      ...        \n",
       "\n",
       "   Number_Casualties_Group  Junction_Group  Pedestrian_Control  \\\n",
       "0                        1               1                   1   \n",
       "1                        1               3                   1   \n",
       "2                        1               2                   1   \n",
       "3                        1               3                   1   \n",
       "4                        1               3                   1   \n",
       "\n",
       "   Pedestrian_PhisFac  Active_Light  Weather  Road_Surf_Cond Special_Conds  \\\n",
       "0                   1             0        1               1             1   \n",
       "1                   1             1        1               1             1   \n",
       "2                   1             1        1               1             1   \n",
       "3                   1             1        1               1             1   \n",
       "4                   2             1        1               1             1   \n",
       "\n",
       "   Carriageway_Haz Commute_hours  \n",
       "0                1             0  \n",
       "1                1             0  \n",
       "2                1             0  \n",
       "3                1             1  \n",
       "4                1             1  \n",
       "\n",
       "[5 rows x 34 columns]"
      ]
     },
     "execution_count": 2,
     "metadata": {},
     "output_type": "execute_result"
    }
   ],
   "source": [
    "data_p = pd.read_csv('data_to_model.csv')\n",
    "data_p.head()\n"
   ]
  },
  {
   "cell_type": "code",
   "execution_count": 3,
   "metadata": {},
   "outputs": [
    {
     "data": {
      "text/plain": [
       "False"
      ]
     },
     "execution_count": 3,
     "metadata": {},
     "output_type": "execute_result"
    }
   ],
   "source": [
    "hot_spots = data_p.LSOA_of_Accident_Location.value_counts()>25\n",
    "\n",
    "hot_spots['E01023190']"
   ]
  },
  {
   "cell_type": "code",
   "execution_count": 4,
   "metadata": {},
   "outputs": [
    {
     "data": {
      "text/plain": [
       "'E01002667'"
      ]
     },
     "execution_count": 4,
     "metadata": {},
     "output_type": "execute_result"
    }
   ],
   "source": [
    "data_p['LSOA_of_Accident_Location'][9]"
   ]
  },
  {
   "cell_type": "code",
   "execution_count": 5,
   "metadata": {},
   "outputs": [
    {
     "data": {
      "text/plain": [
       "False    76059\n",
       "True      1644\n",
       "Name: hot, dtype: int64"
      ]
     },
     "execution_count": 5,
     "metadata": {},
     "output_type": "execute_result"
    }
   ],
   "source": [
    "data_p['hot']= data_p.LSOA_of_Accident_Location.map(lambda x: hot_spots[x])\n",
    "data_p['hot'].value_counts()"
   ]
  },
  {
   "cell_type": "code",
   "execution_count": 6,
   "metadata": {},
   "outputs": [],
   "source": [
    "data_p = data_p[data_p['hot'] == True]"
   ]
  },
  {
   "cell_type": "code",
   "execution_count": 7,
   "metadata": {},
   "outputs": [],
   "source": [
    "data_red = data_p[data_p['Class'] == 1]\n"
   ]
  },
  {
   "cell_type": "code",
   "execution_count": 8,
   "metadata": {},
   "outputs": [],
   "source": [
    "#hot_spot = data_p.LSOA_of_Accident_Location == 'E01016486'"
   ]
  },
  {
   "cell_type": "code",
   "execution_count": null,
   "metadata": {},
   "outputs": [],
   "source": []
  },
  {
   "cell_type": "code",
   "execution_count": 9,
   "metadata": {},
   "outputs": [],
   "source": [
    "import folium\n",
    "from folium import plugins"
   ]
  },
  {
   "cell_type": "code",
   "execution_count": 10,
   "metadata": {},
   "outputs": [],
   "source": [
    "lat = data_p.Longitude.tolist()\n",
    "lon = data_p.Latitude.tolist()\n",
    "name = data_p.Accident_Index.tolist()\n",
    "lat_red = data_red.Longitude.tolist()\n",
    "lon_red = data_red.Latitude.tolist()\n",
    "name_red = data_red.Accident_Index.tolist()"
   ]
  },
  {
   "cell_type": "code",
   "execution_count": 11,
   "metadata": {},
   "outputs": [],
   "source": [
    "# Make a data frame with dots to show on the map\n",
    "data = pd.DataFrame({\n",
    "'lat':lat,\n",
    "'lon':lon,\n",
    "'name':name\n",
    "})\n",
    "data_red = pd.DataFrame({\n",
    "'lat':lat_red,\n",
    "'lon':lon_red,\n",
    "'name':name_red\n",
    "})\n",
    " \n",
    "# Make an empty map\n",
    "m = folium.Map(location=[51.5074, 0.1278],\n",
    "                    zoom_start = 11 ,tiles=\"Stamen Terrain\")\n",
    " \n",
    "# I can add marker one by one on the map\n",
    "for i in range(0,len(data)):\n",
    "    folium.Marker([data.iloc[i]['lon'], data.iloc[i]['lat']],popup=data.iloc[i]['name'], icon=folium.Icon(color='blue')).add_to(m),  \n",
    "for i in range(0,len(data_red)):\n",
    "    folium.Marker([data_red.iloc[i]['lon'], data_red.iloc[i]['lat']],popup=data_red.iloc[i]['name'], icon=folium.Icon(color='red')).add_to(m),  \n",
    "\n",
    "\n",
    "# Save it as html\n",
    "m.save('hot_spots.html')\n",
    "\n"
   ]
  },
  {
   "cell_type": "code",
   "execution_count": null,
   "metadata": {},
   "outputs": [],
   "source": []
  },
  {
   "cell_type": "code",
   "execution_count": null,
   "metadata": {},
   "outputs": [],
   "source": []
  }
 ],
 "metadata": {
  "kernelspec": {
   "display_name": "Python 3",
   "language": "python",
   "name": "python3"
  },
  "language_info": {
   "codemirror_mode": {
    "name": "ipython",
    "version": 3
   },
   "file_extension": ".py",
   "mimetype": "text/x-python",
   "name": "python",
   "nbconvert_exporter": "python",
   "pygments_lexer": "ipython3",
   "version": "3.6.5"
  }
 },
 "nbformat": 4,
 "nbformat_minor": 2
}
