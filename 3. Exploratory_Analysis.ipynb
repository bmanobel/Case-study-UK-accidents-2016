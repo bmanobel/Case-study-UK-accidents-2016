{
 "cells": [
  {
   "cell_type": "code",
   "execution_count": 1,
   "metadata": {},
   "outputs": [],
   "source": [
    "import numpy as np\n",
    "import pandas as pd\n",
    "import matplotlib.pyplot as plt\n",
    "import seaborn as sns\n",
    "\n",
    "\n",
    "from sklearn.model_selection import train_test_split    \n",
    "from sklearn.metrics import accuracy_score,classification_report\n",
    "from sklearn.preprocessing import LabelEncoder\n",
    "from sklearn.ensemble import RandomForestClassifier\n",
    "import statsmodels.api as sm\n",
    "\n",
    "\n",
    "%matplotlib inline"
   ]
  },
  {
   "cell_type": "code",
   "execution_count": 2,
   "metadata": {},
   "outputs": [
    {
     "data": {
      "text/html": [
       "<div>\n",
       "<style scoped>\n",
       "    .dataframe tbody tr th:only-of-type {\n",
       "        vertical-align: middle;\n",
       "    }\n",
       "\n",
       "    .dataframe tbody tr th {\n",
       "        vertical-align: top;\n",
       "    }\n",
       "\n",
       "    .dataframe thead th {\n",
       "        text-align: right;\n",
       "    }\n",
       "</style>\n",
       "<table border=\"1\" class=\"dataframe\">\n",
       "  <thead>\n",
       "    <tr style=\"text-align: right;\">\n",
       "      <th></th>\n",
       "      <th>Accident_Index</th>\n",
       "      <th>Age_Band_of_Driver</th>\n",
       "      <th>include_pedestrian</th>\n",
       "      <th>Location_Easting_OSGR</th>\n",
       "      <th>Location_Northing_OSGR</th>\n",
       "      <th>Longitude</th>\n",
       "      <th>Latitude</th>\n",
       "      <th>Day_of_Week</th>\n",
       "      <th>1st_Road_Class</th>\n",
       "      <th>1st_Road_Number</th>\n",
       "      <th>...</th>\n",
       "      <th>Number_Casualties_Group</th>\n",
       "      <th>Junction_Group</th>\n",
       "      <th>Pedestrian_Control</th>\n",
       "      <th>Pedestrian_PhisFac</th>\n",
       "      <th>Active_Light</th>\n",
       "      <th>Weather</th>\n",
       "      <th>Road_Surf_Cond</th>\n",
       "      <th>Special_Conds</th>\n",
       "      <th>Carriageway_Haz</th>\n",
       "      <th>Commute_hours</th>\n",
       "    </tr>\n",
       "  </thead>\n",
       "  <tbody>\n",
       "    <tr>\n",
       "      <th>0</th>\n",
       "      <td>2016010000005</td>\n",
       "      <td>5.0</td>\n",
       "      <td>0</td>\n",
       "      <td>519310.0</td>\n",
       "      <td>188730.0</td>\n",
       "      <td>-0.279323</td>\n",
       "      <td>51.584754</td>\n",
       "      <td>3</td>\n",
       "      <td>3</td>\n",
       "      <td>4006</td>\n",
       "      <td>...</td>\n",
       "      <td>1</td>\n",
       "      <td>1</td>\n",
       "      <td>1</td>\n",
       "      <td>1</td>\n",
       "      <td>0</td>\n",
       "      <td>1</td>\n",
       "      <td>1</td>\n",
       "      <td>1</td>\n",
       "      <td>1</td>\n",
       "      <td>0</td>\n",
       "    </tr>\n",
       "    <tr>\n",
       "      <th>1</th>\n",
       "      <td>2016010000006</td>\n",
       "      <td>7.0</td>\n",
       "      <td>0</td>\n",
       "      <td>551920.0</td>\n",
       "      <td>174560.0</td>\n",
       "      <td>0.184928</td>\n",
       "      <td>51.449595</td>\n",
       "      <td>3</td>\n",
       "      <td>3</td>\n",
       "      <td>207</td>\n",
       "      <td>...</td>\n",
       "      <td>1</td>\n",
       "      <td>3</td>\n",
       "      <td>1</td>\n",
       "      <td>1</td>\n",
       "      <td>1</td>\n",
       "      <td>1</td>\n",
       "      <td>1</td>\n",
       "      <td>1</td>\n",
       "      <td>1</td>\n",
       "      <td>0</td>\n",
       "    </tr>\n",
       "    <tr>\n",
       "      <th>2</th>\n",
       "      <td>2016010000008</td>\n",
       "      <td>5.0</td>\n",
       "      <td>0</td>\n",
       "      <td>505930.0</td>\n",
       "      <td>183850.0</td>\n",
       "      <td>-0.473837</td>\n",
       "      <td>51.543563</td>\n",
       "      <td>3</td>\n",
       "      <td>3</td>\n",
       "      <td>4020</td>\n",
       "      <td>...</td>\n",
       "      <td>1</td>\n",
       "      <td>2</td>\n",
       "      <td>1</td>\n",
       "      <td>1</td>\n",
       "      <td>1</td>\n",
       "      <td>1</td>\n",
       "      <td>1</td>\n",
       "      <td>1</td>\n",
       "      <td>1</td>\n",
       "      <td>0</td>\n",
       "    </tr>\n",
       "    <tr>\n",
       "      <th>3</th>\n",
       "      <td>2016010000016</td>\n",
       "      <td>8.0</td>\n",
       "      <td>0</td>\n",
       "      <td>527770.0</td>\n",
       "      <td>168930.0</td>\n",
       "      <td>-0.164442</td>\n",
       "      <td>51.404958</td>\n",
       "      <td>3</td>\n",
       "      <td>3</td>\n",
       "      <td>217</td>\n",
       "      <td>...</td>\n",
       "      <td>1</td>\n",
       "      <td>3</td>\n",
       "      <td>1</td>\n",
       "      <td>1</td>\n",
       "      <td>1</td>\n",
       "      <td>1</td>\n",
       "      <td>1</td>\n",
       "      <td>1</td>\n",
       "      <td>1</td>\n",
       "      <td>1</td>\n",
       "    </tr>\n",
       "    <tr>\n",
       "      <th>4</th>\n",
       "      <td>2016010000019</td>\n",
       "      <td>6.0</td>\n",
       "      <td>0</td>\n",
       "      <td>530840.0</td>\n",
       "      <td>167100.0</td>\n",
       "      <td>-0.121004</td>\n",
       "      <td>51.387813</td>\n",
       "      <td>3</td>\n",
       "      <td>3</td>\n",
       "      <td>23</td>\n",
       "      <td>...</td>\n",
       "      <td>1</td>\n",
       "      <td>3</td>\n",
       "      <td>1</td>\n",
       "      <td>2</td>\n",
       "      <td>1</td>\n",
       "      <td>1</td>\n",
       "      <td>1</td>\n",
       "      <td>1</td>\n",
       "      <td>1</td>\n",
       "      <td>1</td>\n",
       "    </tr>\n",
       "  </tbody>\n",
       "</table>\n",
       "<p>5 rows × 32 columns</p>\n",
       "</div>"
      ],
      "text/plain": [
       "  Accident_Index  Age_Band_of_Driver  include_pedestrian  \\\n",
       "0  2016010000005                 5.0                   0   \n",
       "1  2016010000006                 7.0                   0   \n",
       "2  2016010000008                 5.0                   0   \n",
       "3  2016010000016                 8.0                   0   \n",
       "4  2016010000019                 6.0                   0   \n",
       "\n",
       "   Location_Easting_OSGR  Location_Northing_OSGR  Longitude   Latitude  \\\n",
       "0               519310.0                188730.0  -0.279323  51.584754   \n",
       "1               551920.0                174560.0   0.184928  51.449595   \n",
       "2               505930.0                183850.0  -0.473837  51.543563   \n",
       "3               527770.0                168930.0  -0.164442  51.404958   \n",
       "4               530840.0                167100.0  -0.121004  51.387813   \n",
       "\n",
       "   Day_of_Week  1st_Road_Class  1st_Road_Number      ...       \\\n",
       "0            3               3             4006      ...        \n",
       "1            3               3              207      ...        \n",
       "2            3               3             4020      ...        \n",
       "3            3               3              217      ...        \n",
       "4            3               3               23      ...        \n",
       "\n",
       "   Number_Casualties_Group  Junction_Group  Pedestrian_Control  \\\n",
       "0                        1               1                   1   \n",
       "1                        1               3                   1   \n",
       "2                        1               2                   1   \n",
       "3                        1               3                   1   \n",
       "4                        1               3                   1   \n",
       "\n",
       "   Pedestrian_PhisFac  Active_Light Weather  Road_Surf_Cond Special_Conds  \\\n",
       "0                   1             0       1               1             1   \n",
       "1                   1             1       1               1             1   \n",
       "2                   1             1       1               1             1   \n",
       "3                   1             1       1               1             1   \n",
       "4                   2             1       1               1             1   \n",
       "\n",
       "  Carriageway_Haz Commute_hours  \n",
       "0               1             0  \n",
       "1               1             0  \n",
       "2               1             0  \n",
       "3               1             1  \n",
       "4               1             1  \n",
       "\n",
       "[5 rows x 32 columns]"
      ]
     },
     "execution_count": 2,
     "metadata": {},
     "output_type": "execute_result"
    }
   ],
   "source": [
    "data = pd.read_csv('data_to_model.csv')\n",
    "data.head()"
   ]
  },
  {
   "cell_type": "raw",
   "metadata": {},
   "source": [
    "Lack of facilities is a reason for pedestrian accidents (81.2% of accidents involved pedestrians, only 2% of accidents involved pedestrian have Pedestrian Control, 32.8% have Physical Facilities"
   ]
  },
  {
   "cell_type": "code",
   "execution_count": 3,
   "metadata": {},
   "outputs": [
    {
     "data": {
      "text/plain": [
       "0    0.7263\n",
       "1    0.2737\n",
       "Name: Class, dtype: float64"
      ]
     },
     "execution_count": 3,
     "metadata": {},
     "output_type": "execute_result"
    }
   ],
   "source": [
    "#proportion of serious accidents\n",
    "data[data['include_pedestrian'] == 1]['Class'].value_counts()/data[data['include_pedestrian']==1].shape[0]"
   ]
  },
  {
   "cell_type": "code",
   "execution_count": 4,
   "metadata": {},
   "outputs": [
    {
     "data": {
      "text/plain": [
       "0.019118375433382864"
      ]
     },
     "execution_count": 4,
     "metadata": {},
     "output_type": "execute_result"
    }
   ],
   "source": [
    "#include pedestrian, facilities or not?\n",
    "include_pedestrian_t = (data[data['include_pedestrian']==1].Pedestrian_Control == 2).count()\n",
    "include_ped_control = (data[data['include_pedestrian']==1].Pedestrian_Control == 2).sum()\n",
    "\n",
    "proportion = include_ped_control/include_pedestrian_t\n",
    "proportion"
   ]
  },
  {
   "cell_type": "code",
   "execution_count": 5,
   "metadata": {},
   "outputs": [
    {
     "data": {
      "text/plain": [
       "0.3286775631500743"
      ]
     },
     "execution_count": 5,
     "metadata": {},
     "output_type": "execute_result"
    }
   ],
   "source": [
    "#include pedestrian, facilities or not?\n",
    "include_pedestrian_t = (data[data['include_pedestrian']==1].Pedestrian_PhisFac == 2).count()\n",
    "include_ped_control = (data[data['include_pedestrian']==1].Pedestrian_PhisFac == 2).sum()\n",
    "\n",
    "proportion = include_ped_control/include_pedestrian_t\n",
    "proportion"
   ]
  },
  {
   "cell_type": "code",
   "execution_count": 6,
   "metadata": {},
   "outputs": [
    {
     "data": {
      "text/plain": [
       "1    64115\n",
       "2    13588\n",
       "Name: Pedestrian_PhisFac, dtype: int64"
      ]
     },
     "execution_count": 6,
     "metadata": {},
     "output_type": "execute_result"
    }
   ],
   "source": [
    "data.Pedestrian_PhisFac.value_counts()"
   ]
  },
  {
   "cell_type": "code",
   "execution_count": 7,
   "metadata": {},
   "outputs": [
    {
     "data": {
      "text/plain": [
       "1    77089\n",
       "2      614\n",
       "Name: Pedestrian_Control, dtype: int64"
      ]
     },
     "execution_count": 7,
     "metadata": {},
     "output_type": "execute_result"
    }
   ],
   "source": [
    "data.Pedestrian_Control.value_counts()"
   ]
  },
  {
   "cell_type": "code",
   "execution_count": 8,
   "metadata": {},
   "outputs": [
    {
     "data": {
      "text/plain": [
       "1    46935\n",
       "2    30768\n",
       "Name: Urban_or_Rural_Area, dtype: int64"
      ]
     },
     "execution_count": 8,
     "metadata": {},
     "output_type": "execute_result"
    }
   ],
   "source": [
    "data.Urban_or_Rural_Area.value_counts()"
   ]
  },
  {
   "cell_type": "raw",
   "metadata": {},
   "source": [
    "Singleway roads in rural areas are the most dangerous ones: 28% of rural accidents are serious vs 13% in urban roads. Bad road surface conditions are a casuse in 34% in rural roads versus 26% in urban roads."
   ]
  },
  {
   "cell_type": "code",
   "execution_count": 9,
   "metadata": {},
   "outputs": [
    {
     "data": {
      "text/plain": [
       "0.2080733229329173"
      ]
     },
     "execution_count": 9,
     "metadata": {},
     "output_type": "execute_result"
    }
   ],
   "source": [
    "#Proportion between serious in rural and urban areas\n",
    "data[data['Urban_or_Rural_Area']==2]['Class'].sum()/data[data['Urban_or_Rural_Area']==2]['Class'].count()"
   ]
  },
  {
   "cell_type": "code",
   "execution_count": 10,
   "metadata": {},
   "outputs": [
    {
     "data": {
      "text/plain": [
       "0.1370832001704485"
      ]
     },
     "execution_count": 10,
     "metadata": {},
     "output_type": "execute_result"
    }
   ],
   "source": [
    "data[data['Urban_or_Rural_Area']==1]['Class'].sum()/data[data['Urban_or_Rural_Area']==1]['Class'].count()"
   ]
  },
  {
   "cell_type": "code",
   "execution_count": 11,
   "metadata": {},
   "outputs": [
    {
     "data": {
      "text/plain": [
       "1    55348\n",
       "0    22355\n",
       "Name: Road_Surf_Cond, dtype: int64"
      ]
     },
     "execution_count": 11,
     "metadata": {},
     "output_type": "execute_result"
    }
   ],
   "source": [
    "data.Road_Surf_Cond.value_counts()"
   ]
  },
  {
   "cell_type": "code",
   "execution_count": 12,
   "metadata": {},
   "outputs": [
    {
     "data": {
      "text/plain": [
       "0.6605239209568383"
      ]
     },
     "execution_count": 12,
     "metadata": {},
     "output_type": "execute_result"
    }
   ],
   "source": [
    "#maintenace rural and urban areas\n",
    "data[data['Urban_or_Rural_Area']==2]['Road_Surf_Cond'].sum()/data[data['Urban_or_Rural_Area']==2]['Road_Surf_Cond'].count()"
   ]
  },
  {
   "cell_type": "code",
   "execution_count": 13,
   "metadata": {},
   "outputs": [
    {
     "data": {
      "text/plain": [
       "0.7462448066474913"
      ]
     },
     "execution_count": 13,
     "metadata": {},
     "output_type": "execute_result"
    }
   ],
   "source": [
    "data[data['Urban_or_Rural_Area']==1]['Road_Surf_Cond'].sum()/data[data['Urban_or_Rural_Area']==1]['Road_Surf_Cond'].count()"
   ]
  },
  {
   "cell_type": "raw",
   "metadata": {},
   "source": [
    "Serious accidents are more frequent in older vehicles. Vehicles less than 15 year-old are involved in 16% of the serious accidents while the figure for older vehicles grows up to 24.4%.\n"
   ]
  },
  {
   "cell_type": "code",
   "execution_count": 14,
   "metadata": {},
   "outputs": [
    {
     "data": {
      "text/plain": [
       "0-5      24126\n",
       "5-10     24026\n",
       "10-15    22893\n",
       "+15       6658\n",
       "Name: Vehicle_Age_Group, dtype: int64"
      ]
     },
     "execution_count": 14,
     "metadata": {},
     "output_type": "execute_result"
    }
   ],
   "source": [
    "data.Vehicle_Age_Group.value_counts()"
   ]
  },
  {
   "cell_type": "code",
   "execution_count": 15,
   "metadata": {},
   "outputs": [
    {
     "data": {
      "text/plain": [
       "+15      0.244518\n",
       "0-5      0.155931\n",
       "10-15    0.167344\n",
       "5-10     0.150462\n",
       "Name: Vehicle_Age_Group, dtype: float64"
      ]
     },
     "execution_count": 15,
     "metadata": {},
     "output_type": "execute_result"
    }
   ],
   "source": [
    "data['Class']==1\n",
    "data[data['Class']==1].Vehicle_Age_Group.value_counts()/data.Vehicle_Age_Group.value_counts()"
   ]
  },
  {
   "cell_type": "raw",
   "metadata": {},
   "source": [
    "Serious accidents are more frequent with older drivers. Drivers in group 6 (26-35) are involved in serious accidents in 14% while the figure for groups 10 (56-65) and 11 (+75) grows to 22%."
   ]
  },
  {
   "cell_type": "code",
   "execution_count": 17,
   "metadata": {},
   "outputs": [
    {
     "data": {
      "text/plain": [
       "2.0     1.000000\n",
       "3.0     0.500000\n",
       "4.0     0.174596\n",
       "5.0     0.161930\n",
       "6.0     0.147577\n",
       "7.0     0.150732\n",
       "8.0     0.170127\n",
       "9.0     0.191205\n",
       "10.0    0.212993\n",
       "11.0    0.209893\n",
       "Name: Age_Band_of_Driver, dtype: float64"
      ]
     },
     "execution_count": 17,
     "metadata": {},
     "output_type": "execute_result"
    }
   ],
   "source": [
    "data['Class']==1\n",
    "data[data['Class']==1].Age_Band_of_Driver.value_counts()/data.Age_Band_of_Driver.value_counts()"
   ]
  },
  {
   "cell_type": "code",
   "execution_count": null,
   "metadata": {},
   "outputs": [],
   "source": []
  }
 ],
 "metadata": {
  "kernelspec": {
   "display_name": "Python 3",
   "language": "python",
   "name": "python3"
  },
  "language_info": {
   "codemirror_mode": {
    "name": "ipython",
    "version": 3
   },
   "file_extension": ".py",
   "mimetype": "text/x-python",
   "name": "python",
   "nbconvert_exporter": "python",
   "pygments_lexer": "ipython3",
   "version": "3.6.6"
  }
 },
 "nbformat": 4,
 "nbformat_minor": 2
}
