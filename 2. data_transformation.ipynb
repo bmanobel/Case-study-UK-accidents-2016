{
 "cells": [
  {
   "cell_type": "code",
   "execution_count": 1,
   "metadata": {},
   "outputs": [],
   "source": [
    "import pandas as pd\n",
    "import numpy as np\n",
    "import matplotlib.pyplot as plt\n",
    "\n",
    "\n",
    "\n",
    "# Definitions\n",
    "pd.set_option('display.float_format', lambda x: '%.3f' % x)\n",
    "\n",
    "njobs = -1\n",
    "randomState = 0\n",
    "\n",
    "\n",
    "%matplotlib inline"
   ]
  },
  {
   "cell_type": "code",
   "execution_count": 2,
   "metadata": {},
   "outputs": [],
   "source": [
    "#data from previous step\n",
    "data_acc = pd.read_csv('data_acc.csv', dtype={'LSOA_of_Accident_Location': str})\n",
    "data_cas = pd.read_csv('data_cas.csv')\n",
    "data_mak = pd.read_csv('data_mak.csv')"
   ]
  },
  {
   "cell_type": "code",
   "execution_count": 3,
   "metadata": {},
   "outputs": [
    {
     "data": {
      "text/plain": [
       "Index(['Accident_Index', 'Location_Easting_OSGR', 'Location_Northing_OSGR',\n",
       "       'Longitude', 'Latitude', 'Accident_Severity', 'Number_of_Vehicles',\n",
       "       'Number_of_Casualties', 'Date', 'Day_of_Week', 'Time',\n",
       "       'Local_Authority_(District)', 'Local_Authority_(Highway)',\n",
       "       '1st_Road_Class', '1st_Road_Number', 'Road_Type', 'Speed_limit',\n",
       "       'Junction_Detail', 'Junction_Control', '2nd_Road_Class',\n",
       "       '2nd_Road_Number', 'Pedestrian_Crossing-Human_Control',\n",
       "       'Pedestrian_Crossing-Physical_Facilities', 'Light_Conditions',\n",
       "       'Weather_Conditions', 'Road_Surface_Conditions',\n",
       "       'Special_Conditions_at_Site', 'Carriageway_Hazards',\n",
       "       'Urban_or_Rural_Area', 'LSOA_of_Accident_Location', 'Class',\n",
       "       'Date_month', 'Time_hour', 'weekdays'],\n",
       "      dtype='object')"
      ]
     },
     "execution_count": 3,
     "metadata": {},
     "output_type": "execute_result"
    }
   ],
   "source": [
    "data_acc.columns"
   ]
  },
  {
   "cell_type": "code",
   "execution_count": 4,
   "metadata": {},
   "outputs": [
    {
     "data": {
      "text/html": [
       "<div>\n",
       "<style scoped>\n",
       "    .dataframe tbody tr th:only-of-type {\n",
       "        vertical-align: middle;\n",
       "    }\n",
       "\n",
       "    .dataframe tbody tr th {\n",
       "        vertical-align: top;\n",
       "    }\n",
       "\n",
       "    .dataframe thead th {\n",
       "        text-align: right;\n",
       "    }\n",
       "</style>\n",
       "<table border=\"1\" class=\"dataframe\">\n",
       "  <thead>\n",
       "    <tr style=\"text-align: right;\">\n",
       "      <th></th>\n",
       "      <th>Accident_Index</th>\n",
       "      <th>Vehicle_Reference</th>\n",
       "      <th>Vehicle_Type</th>\n",
       "      <th>Towing_and_Articulation</th>\n",
       "      <th>Vehicle_Manoeuvre</th>\n",
       "      <th>Vehicle_Location-Restricted_Lane</th>\n",
       "      <th>Junction_Location</th>\n",
       "      <th>Skidding_and_Overturning</th>\n",
       "      <th>Hit_Object_in_Carriageway</th>\n",
       "      <th>Vehicle_Leaving_Carriageway</th>\n",
       "      <th>...</th>\n",
       "      <th>Journey_Purpose_of_Driver</th>\n",
       "      <th>Sex_of_Driver</th>\n",
       "      <th>Age_Band_of_Driver</th>\n",
       "      <th>Engine_Capacity_(CC)</th>\n",
       "      <th>Propulsion_Code</th>\n",
       "      <th>Age_of_Vehicle</th>\n",
       "      <th>Driver_IMD_Decile</th>\n",
       "      <th>Driver_Home_Area_Type</th>\n",
       "      <th>make</th>\n",
       "      <th>Vehicle_age_group</th>\n",
       "    </tr>\n",
       "  </thead>\n",
       "  <tbody>\n",
       "    <tr>\n",
       "      <th>0</th>\n",
       "      <td>2016010000005</td>\n",
       "      <td>1</td>\n",
       "      <td>8.000</td>\n",
       "      <td>0.000</td>\n",
       "      <td>6.000</td>\n",
       "      <td>0.000</td>\n",
       "      <td>0.000</td>\n",
       "      <td>0.000</td>\n",
       "      <td>0.000</td>\n",
       "      <td>0.000</td>\n",
       "      <td>...</td>\n",
       "      <td>1.000</td>\n",
       "      <td>1.000</td>\n",
       "      <td>8.000</td>\n",
       "      <td>nan</td>\n",
       "      <td>nan</td>\n",
       "      <td>nan</td>\n",
       "      <td>3.000</td>\n",
       "      <td>1.000</td>\n",
       "      <td>NaN</td>\n",
       "      <td>NaN</td>\n",
       "    </tr>\n",
       "    <tr>\n",
       "      <th>1</th>\n",
       "      <td>2016010000005</td>\n",
       "      <td>2</td>\n",
       "      <td>2.000</td>\n",
       "      <td>0.000</td>\n",
       "      <td>18.000</td>\n",
       "      <td>0.000</td>\n",
       "      <td>0.000</td>\n",
       "      <td>0.000</td>\n",
       "      <td>0.000</td>\n",
       "      <td>0.000</td>\n",
       "      <td>...</td>\n",
       "      <td>6.000</td>\n",
       "      <td>1.000</td>\n",
       "      <td>5.000</td>\n",
       "      <td>124.000</td>\n",
       "      <td>1.000</td>\n",
       "      <td>4.000</td>\n",
       "      <td>4.000</td>\n",
       "      <td>1.000</td>\n",
       "      <td>YAMAHA</td>\n",
       "      <td>0-5</td>\n",
       "    </tr>\n",
       "    <tr>\n",
       "      <th>2</th>\n",
       "      <td>2016010000006</td>\n",
       "      <td>1</td>\n",
       "      <td>9.000</td>\n",
       "      <td>0.000</td>\n",
       "      <td>18.000</td>\n",
       "      <td>0.000</td>\n",
       "      <td>2.000</td>\n",
       "      <td>2.000</td>\n",
       "      <td>10.000</td>\n",
       "      <td>1.000</td>\n",
       "      <td>...</td>\n",
       "      <td>6.000</td>\n",
       "      <td>2.000</td>\n",
       "      <td>7.000</td>\n",
       "      <td>1461.000</td>\n",
       "      <td>2.000</td>\n",
       "      <td>1.000</td>\n",
       "      <td>10.000</td>\n",
       "      <td>1.000</td>\n",
       "      <td>MERCEDES</td>\n",
       "      <td>0-5</td>\n",
       "    </tr>\n",
       "    <tr>\n",
       "      <th>3</th>\n",
       "      <td>2016010000008</td>\n",
       "      <td>1</td>\n",
       "      <td>9.000</td>\n",
       "      <td>0.000</td>\n",
       "      <td>18.000</td>\n",
       "      <td>0.000</td>\n",
       "      <td>4.000</td>\n",
       "      <td>5.000</td>\n",
       "      <td>0.000</td>\n",
       "      <td>0.000</td>\n",
       "      <td>...</td>\n",
       "      <td>6.000</td>\n",
       "      <td>1.000</td>\n",
       "      <td>5.000</td>\n",
       "      <td>1390.000</td>\n",
       "      <td>1.000</td>\n",
       "      <td>5.000</td>\n",
       "      <td>8.000</td>\n",
       "      <td>1.000</td>\n",
       "      <td>VOLKSWAGEN</td>\n",
       "      <td>0-5</td>\n",
       "    </tr>\n",
       "    <tr>\n",
       "      <th>4</th>\n",
       "      <td>2016010000016</td>\n",
       "      <td>1</td>\n",
       "      <td>11.000</td>\n",
       "      <td>0.000</td>\n",
       "      <td>18.000</td>\n",
       "      <td>0.000</td>\n",
       "      <td>1.000</td>\n",
       "      <td>0.000</td>\n",
       "      <td>0.000</td>\n",
       "      <td>0.000</td>\n",
       "      <td>...</td>\n",
       "      <td>1.000</td>\n",
       "      <td>1.000</td>\n",
       "      <td>8.000</td>\n",
       "      <td>6692.000</td>\n",
       "      <td>2.000</td>\n",
       "      <td>7.000</td>\n",
       "      <td>9.000</td>\n",
       "      <td>1.000</td>\n",
       "      <td>OTHER BRITISH</td>\n",
       "      <td>5-10</td>\n",
       "    </tr>\n",
       "  </tbody>\n",
       "</table>\n",
       "<p>5 rows × 23 columns</p>\n",
       "</div>"
      ],
      "text/plain": [
       "  Accident_Index  Vehicle_Reference  Vehicle_Type  Towing_and_Articulation  \\\n",
       "0  2016010000005                  1         8.000                    0.000   \n",
       "1  2016010000005                  2         2.000                    0.000   \n",
       "2  2016010000006                  1         9.000                    0.000   \n",
       "3  2016010000008                  1         9.000                    0.000   \n",
       "4  2016010000016                  1        11.000                    0.000   \n",
       "\n",
       "   Vehicle_Manoeuvre  Vehicle_Location-Restricted_Lane  Junction_Location  \\\n",
       "0              6.000                             0.000              0.000   \n",
       "1             18.000                             0.000              0.000   \n",
       "2             18.000                             0.000              2.000   \n",
       "3             18.000                             0.000              4.000   \n",
       "4             18.000                             0.000              1.000   \n",
       "\n",
       "   Skidding_and_Overturning  Hit_Object_in_Carriageway  \\\n",
       "0                     0.000                      0.000   \n",
       "1                     0.000                      0.000   \n",
       "2                     2.000                     10.000   \n",
       "3                     5.000                      0.000   \n",
       "4                     0.000                      0.000   \n",
       "\n",
       "   Vehicle_Leaving_Carriageway        ...          Journey_Purpose_of_Driver  \\\n",
       "0                        0.000        ...                              1.000   \n",
       "1                        0.000        ...                              6.000   \n",
       "2                        1.000        ...                              6.000   \n",
       "3                        0.000        ...                              6.000   \n",
       "4                        0.000        ...                              1.000   \n",
       "\n",
       "   Sex_of_Driver  Age_Band_of_Driver  Engine_Capacity_(CC)  Propulsion_Code  \\\n",
       "0          1.000               8.000                   nan              nan   \n",
       "1          1.000               5.000               124.000            1.000   \n",
       "2          2.000               7.000              1461.000            2.000   \n",
       "3          1.000               5.000              1390.000            1.000   \n",
       "4          1.000               8.000              6692.000            2.000   \n",
       "\n",
       "   Age_of_Vehicle  Driver_IMD_Decile  Driver_Home_Area_Type           make  \\\n",
       "0             nan              3.000                  1.000            NaN   \n",
       "1           4.000              4.000                  1.000         YAMAHA   \n",
       "2           1.000             10.000                  1.000       MERCEDES   \n",
       "3           5.000              8.000                  1.000     VOLKSWAGEN   \n",
       "4           7.000              9.000                  1.000  OTHER BRITISH   \n",
       "\n",
       "   Vehicle_age_group  \n",
       "0                NaN  \n",
       "1                0-5  \n",
       "2                0-5  \n",
       "3                0-5  \n",
       "4               5-10  \n",
       "\n",
       "[5 rows x 23 columns]"
      ]
     },
     "execution_count": 4,
     "metadata": {},
     "output_type": "execute_result"
    }
   ],
   "source": [
    "data_mak.head()"
   ]
  },
  {
   "cell_type": "code",
   "execution_count": 5,
   "metadata": {},
   "outputs": [
    {
     "data": {
      "text/html": [
       "<div>\n",
       "<style scoped>\n",
       "    .dataframe tbody tr th:only-of-type {\n",
       "        vertical-align: middle;\n",
       "    }\n",
       "\n",
       "    .dataframe tbody tr th {\n",
       "        vertical-align: top;\n",
       "    }\n",
       "\n",
       "    .dataframe thead th {\n",
       "        text-align: right;\n",
       "    }\n",
       "</style>\n",
       "<table border=\"1\" class=\"dataframe\">\n",
       "  <thead>\n",
       "    <tr style=\"text-align: right;\">\n",
       "      <th></th>\n",
       "      <th>Accident_Index</th>\n",
       "      <th>Vehicle_Reference</th>\n",
       "      <th>Casualty_Reference</th>\n",
       "      <th>Casualty_Class</th>\n",
       "      <th>Sex_of_Casualty</th>\n",
       "      <th>Age_of_Casualty</th>\n",
       "      <th>Age_Band_of_Casualty</th>\n",
       "      <th>Casualty_Severity</th>\n",
       "      <th>Pedestrian_Location</th>\n",
       "      <th>Pedestrian_Movement</th>\n",
       "      <th>Car_Passenger</th>\n",
       "      <th>Bus_or_Coach_Passenger</th>\n",
       "      <th>Pedestrian_Road_Maintenance_Worker</th>\n",
       "      <th>Casualty_Type</th>\n",
       "      <th>Casualty_Home_Area_Type</th>\n",
       "      <th>Casualty_IMD_Decile</th>\n",
       "      <th>Class_Cas</th>\n",
       "    </tr>\n",
       "  </thead>\n",
       "  <tbody>\n",
       "    <tr>\n",
       "      <th>0</th>\n",
       "      <td>2016010000005</td>\n",
       "      <td>2</td>\n",
       "      <td>1</td>\n",
       "      <td>1</td>\n",
       "      <td>1.000</td>\n",
       "      <td>23.000</td>\n",
       "      <td>5.000</td>\n",
       "      <td>3</td>\n",
       "      <td>0.000</td>\n",
       "      <td>0.000</td>\n",
       "      <td>0.000</td>\n",
       "      <td>0.000</td>\n",
       "      <td>0.000</td>\n",
       "      <td>2</td>\n",
       "      <td>1.000</td>\n",
       "      <td>4.000</td>\n",
       "      <td>0</td>\n",
       "    </tr>\n",
       "    <tr>\n",
       "      <th>1</th>\n",
       "      <td>2016010000006</td>\n",
       "      <td>1</td>\n",
       "      <td>1</td>\n",
       "      <td>1</td>\n",
       "      <td>2.000</td>\n",
       "      <td>36.000</td>\n",
       "      <td>7.000</td>\n",
       "      <td>3</td>\n",
       "      <td>0.000</td>\n",
       "      <td>0.000</td>\n",
       "      <td>0.000</td>\n",
       "      <td>0.000</td>\n",
       "      <td>0.000</td>\n",
       "      <td>9</td>\n",
       "      <td>1.000</td>\n",
       "      <td>10.000</td>\n",
       "      <td>0</td>\n",
       "    </tr>\n",
       "    <tr>\n",
       "      <th>2</th>\n",
       "      <td>2016010000008</td>\n",
       "      <td>1</td>\n",
       "      <td>1</td>\n",
       "      <td>1</td>\n",
       "      <td>1.000</td>\n",
       "      <td>24.000</td>\n",
       "      <td>5.000</td>\n",
       "      <td>3</td>\n",
       "      <td>0.000</td>\n",
       "      <td>0.000</td>\n",
       "      <td>0.000</td>\n",
       "      <td>0.000</td>\n",
       "      <td>0.000</td>\n",
       "      <td>9</td>\n",
       "      <td>1.000</td>\n",
       "      <td>8.000</td>\n",
       "      <td>0</td>\n",
       "    </tr>\n",
       "    <tr>\n",
       "      <th>3</th>\n",
       "      <td>2016010000016</td>\n",
       "      <td>1</td>\n",
       "      <td>1</td>\n",
       "      <td>2</td>\n",
       "      <td>2.000</td>\n",
       "      <td>59.000</td>\n",
       "      <td>9.000</td>\n",
       "      <td>3</td>\n",
       "      <td>0.000</td>\n",
       "      <td>0.000</td>\n",
       "      <td>0.000</td>\n",
       "      <td>3.000</td>\n",
       "      <td>0.000</td>\n",
       "      <td>11</td>\n",
       "      <td>1.000</td>\n",
       "      <td>4.000</td>\n",
       "      <td>0</td>\n",
       "    </tr>\n",
       "    <tr>\n",
       "      <th>4</th>\n",
       "      <td>2016010000018</td>\n",
       "      <td>2</td>\n",
       "      <td>1</td>\n",
       "      <td>1</td>\n",
       "      <td>1.000</td>\n",
       "      <td>28.000</td>\n",
       "      <td>6.000</td>\n",
       "      <td>3</td>\n",
       "      <td>0.000</td>\n",
       "      <td>0.000</td>\n",
       "      <td>0.000</td>\n",
       "      <td>0.000</td>\n",
       "      <td>0.000</td>\n",
       "      <td>1</td>\n",
       "      <td>1.000</td>\n",
       "      <td>6.000</td>\n",
       "      <td>0</td>\n",
       "    </tr>\n",
       "  </tbody>\n",
       "</table>\n",
       "</div>"
      ],
      "text/plain": [
       "  Accident_Index  Vehicle_Reference  Casualty_Reference  Casualty_Class  \\\n",
       "0  2016010000005                  2                   1               1   \n",
       "1  2016010000006                  1                   1               1   \n",
       "2  2016010000008                  1                   1               1   \n",
       "3  2016010000016                  1                   1               2   \n",
       "4  2016010000018                  2                   1               1   \n",
       "\n",
       "   Sex_of_Casualty  Age_of_Casualty  Age_Band_of_Casualty  Casualty_Severity  \\\n",
       "0            1.000           23.000                 5.000                  3   \n",
       "1            2.000           36.000                 7.000                  3   \n",
       "2            1.000           24.000                 5.000                  3   \n",
       "3            2.000           59.000                 9.000                  3   \n",
       "4            1.000           28.000                 6.000                  3   \n",
       "\n",
       "   Pedestrian_Location  Pedestrian_Movement  Car_Passenger  \\\n",
       "0                0.000                0.000          0.000   \n",
       "1                0.000                0.000          0.000   \n",
       "2                0.000                0.000          0.000   \n",
       "3                0.000                0.000          0.000   \n",
       "4                0.000                0.000          0.000   \n",
       "\n",
       "   Bus_or_Coach_Passenger  Pedestrian_Road_Maintenance_Worker  Casualty_Type  \\\n",
       "0                   0.000                               0.000              2   \n",
       "1                   0.000                               0.000              9   \n",
       "2                   0.000                               0.000              9   \n",
       "3                   3.000                               0.000             11   \n",
       "4                   0.000                               0.000              1   \n",
       "\n",
       "   Casualty_Home_Area_Type  Casualty_IMD_Decile  Class_Cas  \n",
       "0                    1.000                4.000          0  \n",
       "1                    1.000               10.000          0  \n",
       "2                    1.000                8.000          0  \n",
       "3                    1.000                4.000          0  \n",
       "4                    1.000                6.000          0  "
      ]
     },
     "execution_count": 5,
     "metadata": {},
     "output_type": "execute_result"
    }
   ],
   "source": [
    "data_cas.head()"
   ]
  },
  {
   "cell_type": "raw",
   "metadata": {},
   "source": [
    "let us merge makemodel with casualties (this one in the left) over Accident_Index and Vehicles_Reference"
   ]
  },
  {
   "cell_type": "code",
   "execution_count": 6,
   "metadata": {},
   "outputs": [],
   "source": [
    "#I will include a pedestrian factor, since pedestrian circunstances are related to my hypothesis.\n",
    "data_cas['include_pedestrian'] = data_cas['Casualty_Class'].map(lambda x: 1 if x==3 else 0)"
   ]
  },
  {
   "cell_type": "code",
   "execution_count": 7,
   "metadata": {},
   "outputs": [],
   "source": [
    "cas_mak = pd.merge(data_cas, data_mak, on= ['Accident_Index', 'Vehicle_Reference'], how = 'left')"
   ]
  },
  {
   "cell_type": "raw",
   "metadata": {},
   "source": [
    "now merge cas_mak in the left over Accident_Index"
   ]
  },
  {
   "cell_type": "code",
   "execution_count": 8,
   "metadata": {},
   "outputs": [],
   "source": [
    "data = pd.merge(cas_mak,data_acc, on = 'Accident_Index', how = 'left')"
   ]
  },
  {
   "cell_type": "code",
   "execution_count": 9,
   "metadata": {},
   "outputs": [
    {
     "data": {
      "text/plain": [
       "136621"
      ]
     },
     "execution_count": 9,
     "metadata": {},
     "output_type": "execute_result"
    }
   ],
   "source": [
    "unique_index = data['Accident_Index'].nunique()\n",
    "unique_index"
   ]
  },
  {
   "cell_type": "raw",
   "metadata": {},
   "source": [
    "1. I need only one case per accident, I need to groupby per accident_Index\n",
    "2. I want to test four hypotheses, oneway roads in rural areas, lack of pedestrian facilities,driver's age and  vehicle's age and IMD_decile : what varsiables are useful?\n",
    "\n",
    "\n",
    "\n",
    "next step will be getting rid of useless variables "
   ]
  },
  {
   "cell_type": "code",
   "execution_count": 10,
   "metadata": {},
   "outputs": [
    {
     "data": {
      "text/plain": [
       "Index(['Vehicle_Reference', 'Casualty_Reference', 'Casualty_Class',\n",
       "       'Sex_of_Casualty', 'Age_of_Casualty', 'Age_Band_of_Casualty',\n",
       "       'Casualty_Severity', 'Pedestrian_Location', 'Pedestrian_Movement',\n",
       "       'Car_Passenger', 'Bus_or_Coach_Passenger',\n",
       "       'Pedestrian_Road_Maintenance_Worker', 'Casualty_Type',\n",
       "       'Casualty_Home_Area_Type', 'Casualty_IMD_Decile', 'Class_Cas',\n",
       "       'include_pedestrian', 'Vehicle_Type', 'Towing_and_Articulation',\n",
       "       'Vehicle_Manoeuvre', 'Vehicle_Location-Restricted_Lane',\n",
       "       'Junction_Location', 'Skidding_and_Overturning',\n",
       "       'Hit_Object_in_Carriageway', 'Vehicle_Leaving_Carriageway',\n",
       "       'Hit_Object_off_Carriageway', '1st_Point_of_Impact',\n",
       "       'Was_Vehicle_Left_Hand_Drive', 'Journey_Purpose_of_Driver',\n",
       "       'Sex_of_Driver', 'Age_Band_of_Driver', 'Engine_Capacity_(CC)',\n",
       "       'Propulsion_Code', 'Age_of_Vehicle', 'Driver_IMD_Decile',\n",
       "       'Driver_Home_Area_Type', 'make', 'Vehicle_age_group',\n",
       "       'Location_Easting_OSGR', 'Location_Northing_OSGR', 'Longitude',\n",
       "       'Latitude', 'Accident_Severity', 'Number_of_Vehicles',\n",
       "       'Number_of_Casualties', 'Date', 'Day_of_Week', 'Time',\n",
       "       'Local_Authority_(District)', 'Local_Authority_(Highway)',\n",
       "       '1st_Road_Class', '1st_Road_Number', 'Road_Type', 'Speed_limit',\n",
       "       'Junction_Detail', 'Junction_Control', '2nd_Road_Class',\n",
       "       '2nd_Road_Number', 'Pedestrian_Crossing-Human_Control',\n",
       "       'Pedestrian_Crossing-Physical_Facilities', 'Light_Conditions',\n",
       "       'Weather_Conditions', 'Road_Surface_Conditions',\n",
       "       'Special_Conditions_at_Site', 'Carriageway_Hazards',\n",
       "       'Urban_or_Rural_Area', 'LSOA_of_Accident_Location', 'Class',\n",
       "       'Date_month', 'Time_hour', 'weekdays'],\n",
       "      dtype='object')"
      ]
     },
     "execution_count": 10,
     "metadata": {},
     "output_type": "execute_result"
    }
   ],
   "source": [
    "data = data.set_index('Accident_Index')\n",
    "\n",
    "data.columns"
   ]
  },
  {
   "cell_type": "code",
   "execution_count": 11,
   "metadata": {},
   "outputs": [],
   "source": [
    "data = data.drop(['Vehicle_Reference', 'Casualty_Reference', 'Sex_of_Casualty', 'Age_of_Casualty', \n",
    "                  'Age_Band_of_Casualty',\n",
    "                  'Casualty_Severity', 'Date', 'Car_Passenger', 'Bus_or_Coach_Passenger',\n",
    "                  'Pedestrian_Road_Maintenance_Worker',\n",
    "                 'Local_Authority_(District)', 'Local_Authority_(Highway)', \n",
    "                  'Accident_Severity', 'Towing_and_Articulation','Vehicle_Manoeuvre',\n",
    "                  'Vehicle_Location-Restricted_Lane',\n",
    "                  'Skidding_and_Overturning','Hit_Object_in_Carriageway','Vehicle_Leaving_Carriageway',\n",
    "                  'Hit_Object_off_Carriageway', '1st_Point_of_Impact', 'Was_Vehicle_Left_Hand_Drive',\n",
    "                  'Engine_Capacity_(CC)','Date','Propulsion_Code','Driver_Home_Area_Type', 'make',\n",
    "                  'Time', 'Local_Authority_(District)', 'Local_Authority_(Highway)', 'Date_month',\n",
    "                  'LSOA_of_Accident_Location',\n",
    "    \n",
    "                  'Casualty_Home_Area_Type'], axis = 1)"
   ]
  },
  {
   "cell_type": "raw",
   "metadata": {},
   "source": [
    "Vehicle_Reference and Casualty_Reference are now useless, Age_of_Casualty the same as Age_Band_of_Casualty, 'Date' is included in another way, Local_Authorities are identifiers, Casualty_Severity and Accident_Severity are both included in Class, Age_of_Vehicle is made in range mode. \n"
   ]
  },
  {
   "cell_type": "code",
   "execution_count": 12,
   "metadata": {},
   "outputs": [
    {
     "data": {
      "text/plain": [
       "(181384, 41)"
      ]
     },
     "execution_count": 12,
     "metadata": {},
     "output_type": "execute_result"
    }
   ],
   "source": [
    "data.shape"
   ]
  },
  {
   "cell_type": "raw",
   "metadata": {},
   "source": [
    "Driver_Home_Area and  Casualty home area are considered in urban or rural area, Propulsion code, make, and engine capacity don't give useful  information for our purposes.\n",
    "2ndRoad Class is an identifier"
   ]
  },
  {
   "cell_type": "raw",
   "metadata": {},
   "source": [
    "sex of casualty, age_band_of_casualty, car passenger, bus or coach passenger, pedestrian road maintenace worker, towing and articulation, vehicle maneouvre, vehicle location restricted line, junction location, skidding and overturning, 1st point of impact and hit circunstances are useless for our purposes"
   ]
  },
  {
   "cell_type": "raw",
   "metadata": {},
   "source": [
    "Casualty_Class now is included as being a pedestrian or not, the behavior of  pedestrian is not useful, junction location is related with kind of road and it is not informative \n",
    "Journey purpose, sex and Junction control are not useful \n",
    "Casualty type is not included because I am considering pedestrian circunstances as my first interest."
   ]
  },
  {
   "cell_type": "code",
   "execution_count": 13,
   "metadata": {},
   "outputs": [],
   "source": [
    "#get rid of something else\n",
    "data = data.drop(['Vehicle_Type','Casualty_Class', 'Pedestrian_Location', 'Pedestrian_Movement',\n",
    "                  'Casualty_Type',\n",
    "                  'Class_Cas', 'Junction_Location', 'Vehicle_age_group',\n",
    "                  'Journey_Purpose_of_Driver', 'Sex_of_Driver', 'Junction_Control'], axis = 1)\n"
   ]
  },
  {
   "cell_type": "code",
   "execution_count": 14,
   "metadata": {},
   "outputs": [
    {
     "data": {
      "text/plain": [
       "(181384, 30)"
      ]
     },
     "execution_count": 14,
     "metadata": {},
     "output_type": "execute_result"
    }
   ],
   "source": [
    "data.shape"
   ]
  },
  {
   "cell_type": "code",
   "execution_count": 15,
   "metadata": {},
   "outputs": [
    {
     "data": {
      "text/plain": [
       "Index(['Casualty_IMD_Decile', 'include_pedestrian', 'Age_Band_of_Driver',\n",
       "       'Age_of_Vehicle', 'Driver_IMD_Decile', 'Location_Easting_OSGR',\n",
       "       'Location_Northing_OSGR', 'Longitude', 'Latitude', 'Number_of_Vehicles',\n",
       "       'Number_of_Casualties', 'Day_of_Week', '1st_Road_Class',\n",
       "       '1st_Road_Number', 'Road_Type', 'Speed_limit', 'Junction_Detail',\n",
       "       '2nd_Road_Class', '2nd_Road_Number',\n",
       "       'Pedestrian_Crossing-Human_Control',\n",
       "       'Pedestrian_Crossing-Physical_Facilities', 'Light_Conditions',\n",
       "       'Weather_Conditions', 'Road_Surface_Conditions',\n",
       "       'Special_Conditions_at_Site', 'Carriageway_Hazards',\n",
       "       'Urban_or_Rural_Area', 'Class', 'Time_hour', 'weekdays'],\n",
       "      dtype='object')"
      ]
     },
     "execution_count": 15,
     "metadata": {},
     "output_type": "execute_result"
    }
   ],
   "source": [
    "data.columns"
   ]
  },
  {
   "cell_type": "raw",
   "metadata": {},
   "source": []
  },
  {
   "cell_type": "code",
   "execution_count": null,
   "metadata": {},
   "outputs": [],
   "source": []
  },
  {
   "cell_type": "code",
   "execution_count": null,
   "metadata": {},
   "outputs": [],
   "source": []
  },
  {
   "cell_type": "code",
   "execution_count": null,
   "metadata": {},
   "outputs": [],
   "source": []
  },
  {
   "cell_type": "code",
   "execution_count": null,
   "metadata": {},
   "outputs": [],
   "source": []
  },
  {
   "cell_type": "raw",
   "metadata": {},
   "source": [
    "I will join vehicles table with casualty, variables interesting for our purposes are IMD deciles, age band of drivers and cars and include pedestrian, artificial index, 1 if there is pedestrian, 0 if not\n",
    "Age of vehicle will be selected with max age, as well as include pedestrian"
   ]
  },
  {
   "cell_type": "code",
   "execution_count": 17,
   "metadata": {},
   "outputs": [],
   "source": [
    "wea = data.groupby('Accident_Index', as_index=True).agg({'Casualty_IMD_Decile' : 'mean', \n",
    "                                                   'Age_Band_of_Driver' : 'mean', 'Driver_IMD_Decile': 'mean',\n",
    "                                                  'Age_of_Vehicle' : 'max', 'include_pedestrian' : 'max'})\n"
   ]
  },
  {
   "cell_type": "raw",
   "metadata": {},
   "source": [
    "Some variables are useless for our purposes"
   ]
  },
  {
   "cell_type": "code",
   "execution_count": 18,
   "metadata": {},
   "outputs": [],
   "source": [
    "#merge with accidents table\n",
    "\n",
    "#data_acc = data_acc.set_index('Accident_Index')\n",
    "new_data_acc = data_acc.drop([ 'Junction_Control','Local_Authority_(District)', 'Local_Authority_(Highway)', \n",
    "                  'Accident_Severity','Date',\n",
    "                  'Time', 'Local_Authority_(District)', 'Local_Authority_(Highway)', 'Date_month',], axis = 1)"
   ]
  },
  {
   "cell_type": "code",
   "execution_count": 19,
   "metadata": {},
   "outputs": [
    {
     "data": {
      "text/plain": [
       "Index(['Accident_Index', 'Location_Easting_OSGR', 'Location_Northing_OSGR',\n",
       "       'Longitude', 'Latitude', 'Accident_Severity', 'Number_of_Vehicles',\n",
       "       'Number_of_Casualties', 'Date', 'Day_of_Week', 'Time',\n",
       "       'Local_Authority_(District)', 'Local_Authority_(Highway)',\n",
       "       '1st_Road_Class', '1st_Road_Number', 'Road_Type', 'Speed_limit',\n",
       "       'Junction_Detail', 'Junction_Control', '2nd_Road_Class',\n",
       "       '2nd_Road_Number', 'Pedestrian_Crossing-Human_Control',\n",
       "       'Pedestrian_Crossing-Physical_Facilities', 'Light_Conditions',\n",
       "       'Weather_Conditions', 'Road_Surface_Conditions',\n",
       "       'Special_Conditions_at_Site', 'Carriageway_Hazards',\n",
       "       'Urban_or_Rural_Area', 'LSOA_of_Accident_Location', 'Class',\n",
       "       'Date_month', 'Time_hour', 'weekdays'],\n",
       "      dtype='object')"
      ]
     },
     "execution_count": 19,
     "metadata": {},
     "output_type": "execute_result"
    }
   ],
   "source": [
    "data_acc.columns"
   ]
  },
  {
   "cell_type": "code",
   "execution_count": 20,
   "metadata": {},
   "outputs": [],
   "source": [
    "data = pd.merge(wea, new_data_acc, on='Accident_Index')"
   ]
  },
  {
   "cell_type": "code",
   "execution_count": 21,
   "metadata": {},
   "outputs": [],
   "source": [
    "data = data.set_index('Accident_Index')"
   ]
  },
  {
   "cell_type": "code",
   "execution_count": 22,
   "metadata": {},
   "outputs": [
    {
     "data": {
      "text/plain": [
       "Index(['Casualty_IMD_Decile', 'Age_Band_of_Driver', 'Driver_IMD_Decile',\n",
       "       'Age_of_Vehicle', 'include_pedestrian', 'Location_Easting_OSGR',\n",
       "       'Location_Northing_OSGR', 'Longitude', 'Latitude', 'Number_of_Vehicles',\n",
       "       'Number_of_Casualties', 'Day_of_Week', '1st_Road_Class',\n",
       "       '1st_Road_Number', 'Road_Type', 'Speed_limit', 'Junction_Detail',\n",
       "       '2nd_Road_Class', '2nd_Road_Number',\n",
       "       'Pedestrian_Crossing-Human_Control',\n",
       "       'Pedestrian_Crossing-Physical_Facilities', 'Light_Conditions',\n",
       "       'Weather_Conditions', 'Road_Surface_Conditions',\n",
       "       'Special_Conditions_at_Site', 'Carriageway_Hazards',\n",
       "       'Urban_or_Rural_Area', 'LSOA_of_Accident_Location', 'Class',\n",
       "       'Time_hour', 'weekdays'],\n",
       "      dtype='object')"
      ]
     },
     "execution_count": 22,
     "metadata": {},
     "output_type": "execute_result"
    }
   ],
   "source": [
    "data.columns"
   ]
  },
  {
   "cell_type": "code",
   "execution_count": 23,
   "metadata": {},
   "outputs": [
    {
     "data": {
      "text/plain": [
       "(136621, 31)"
      ]
     },
     "execution_count": 23,
     "metadata": {},
     "output_type": "execute_result"
    }
   ],
   "source": [
    "data.shape"
   ]
  },
  {
   "cell_type": "raw",
   "metadata": {},
   "source": [
    "each column must be transformed into a more informative one"
   ]
  },
  {
   "cell_type": "code",
   "execution_count": 24,
   "metadata": {},
   "outputs": [],
   "source": [
    "#into groups\n",
    "data['Casualty_IMD_Decile'] = np.round(data['Casualty_IMD_Decile'], 0)\n",
    "data['Age_Band_of_Driver'] = np.round(data['Age_Band_of_Driver'], 0)\n",
    "data['Driver_IMD_Decile'] = np.round(data['Driver_IMD_Decile'], 0)\n"
   ]
  },
  {
   "cell_type": "code",
   "execution_count": 25,
   "metadata": {},
   "outputs": [],
   "source": [
    "#group IMD, less levels will show  the trends in a better way\n",
    "bins = [0,3,6,8,10]\n",
    "groups = ['low','med_low','med_high','high']\n",
    "data['Casualty_IMD_Group'] = pd.cut(data['Casualty_IMD_Decile'],bins,labels = groups)\n",
    "data['Casualty_IMD_Group'].value_counts()\n",
    "data = data.drop(['Casualty_IMD_Decile'], axis = 1)"
   ]
  },
  {
   "cell_type": "code",
   "execution_count": 26,
   "metadata": {},
   "outputs": [],
   "source": [
    "#group here\n",
    "bins = [0,3,6,8,10]\n",
    "groups = ['low','med_low','med_high','high']\n",
    "data['Driver_IMD_Group'] = pd.cut(data['Driver_IMD_Decile'],bins,labels = groups)\n",
    "data['Driver_IMD_Group'].value_counts()\n",
    "data = data.drop(['Driver_IMD_Decile'], axis = 1)"
   ]
  },
  {
   "cell_type": "code",
   "execution_count": 27,
   "metadata": {},
   "outputs": [],
   "source": [
    "#group vehicle age\n",
    "bins = [0,5,10,15,99]\n",
    "groups = ['0-5','5-10','10-15','+15']\n",
    "data['Vehicle_Age_Group'] = pd.cut(data['Age_of_Vehicle'],bins,labels = groups)\n",
    "data['Vehicle_Age_Group'].value_counts()\n",
    "data = data.drop(['Age_of_Vehicle'], axis = 1)"
   ]
  },
  {
   "cell_type": "code",
   "execution_count": 28,
   "metadata": {},
   "outputs": [],
   "source": [
    "#group here\n",
    "bins = [0,1,2,3,99]\n",
    "groups = ['1','2','3','+4']\n",
    "data['Number_Vehicles_Group'] = pd.cut(data['Number_of_Vehicles'],bins,labels = groups)\n",
    "data['Number_Vehicles_Group'].value_counts()\n",
    "data = data.drop(['Number_of_Vehicles'], axis = 1)"
   ]
  },
  {
   "cell_type": "code",
   "execution_count": null,
   "metadata": {},
   "outputs": [],
   "source": []
  },
  {
   "cell_type": "code",
   "execution_count": 29,
   "metadata": {},
   "outputs": [],
   "source": [
    "#group here\n",
    "bins = [0,1,2,3,4,1000]\n",
    "groups = ['1','2','3','4','+4']\n",
    "data['Number_Casualties_Group'] = pd.cut(data['Number_of_Casualties'],bins,labels = groups)\n",
    "data['Number_Casualties_Group'].value_counts()\n",
    "data = data.drop(['Number_of_Casualties'], axis = 1)"
   ]
  },
  {
   "cell_type": "code",
   "execution_count": 30,
   "metadata": {},
   "outputs": [
    {
     "data": {
      "text/plain": [
       "0.000    56401\n",
       "3.000    42755\n",
       "6.000    13193\n",
       "1.000    11740\n",
       "8.000     4268\n",
       "9.000     3584\n",
       "5.000     1950\n",
       "2.000     1700\n",
       "7.000      924\n",
       "Name: Junction_Detail, dtype: int64"
      ]
     },
     "execution_count": 30,
     "metadata": {},
     "output_type": "execute_result"
    }
   ],
   "source": [
    "#group if junction, if roundabout or other\n",
    "data['Junction_Detail'].value_counts()"
   ]
  },
  {
   "cell_type": "code",
   "execution_count": 31,
   "metadata": {},
   "outputs": [],
   "source": [
    "data['Junction_Group'] = data['Junction_Detail'].map(lambda x: 1 if x==0  else  2 if x==1 or x==2  else 3 )\n",
    "data = data.drop(['Junction_Detail'], axis = 1)"
   ]
  },
  {
   "cell_type": "code",
   "execution_count": 32,
   "metadata": {},
   "outputs": [
    {
     "data": {
      "text/plain": [
       "1    135415\n",
       "2      1206\n",
       "Name: Pedestrian_Control, dtype: int64"
      ]
     },
     "execution_count": 32,
     "metadata": {},
     "output_type": "execute_result"
    }
   ],
   "source": [
    "#grpup if pedestrian have some facilities or not\n",
    "data['Pedestrian_Control'] = data['Pedestrian_Crossing-Human_Control'].map(lambda x: 1 if x==0  else  2)\n",
    "data = data.drop(['Pedestrian_Crossing-Human_Control'], axis = 1)\n",
    "data['Pedestrian_Control'].value_counts()"
   ]
  },
  {
   "cell_type": "code",
   "execution_count": 33,
   "metadata": {},
   "outputs": [],
   "source": [
    "#same as before\n",
    "data['Pedestrian_PhisFac'] = data['Pedestrian_Crossing-Physical_Facilities'].map(lambda x: 1 if x==0  else  2)\n",
    "data['Pedestrian_PhisFac'].value_counts()\n",
    "data = data.drop(['Pedestrian_Crossing-Physical_Facilities'], axis = 1)"
   ]
  },
  {
   "cell_type": "code",
   "execution_count": 34,
   "metadata": {},
   "outputs": [],
   "source": [
    "#I have grouped this considering avaiability of light\n",
    "data['Active_Light'] = data['Light_Conditions'].map(lambda x: 0 if x==5 or x==6 or x==7  else  1 )\n",
    "data = data.drop(['Light_Conditions'], axis = 1)\n"
   ]
  },
  {
   "cell_type": "code",
   "execution_count": 35,
   "metadata": {},
   "outputs": [
    {
     "data": {
      "text/plain": [
       "1    112241\n",
       "0     24380\n",
       "Name: Weather, dtype: int64"
      ]
     },
     "execution_count": 35,
     "metadata": {},
     "output_type": "execute_result"
    }
   ],
   "source": [
    "#good or bad\n",
    "data['Weather'] = data['Weather_Conditions'].map(lambda x: 1 if x==1  else  0 )\n",
    "data = data.drop(['Weather_Conditions'], axis = 1)\n",
    "data.Weather.value_counts()"
   ]
  },
  {
   "cell_type": "code",
   "execution_count": null,
   "metadata": {},
   "outputs": [],
   "source": []
  },
  {
   "cell_type": "code",
   "execution_count": 36,
   "metadata": {},
   "outputs": [],
   "source": [
    "#good or bad\n",
    "data['Road_Surf_Cond'] = data['Road_Surface_Conditions'].map(lambda x: 1 if x==1  else  0 )\n",
    "data = data.drop(['Road_Surface_Conditions'], axis = 1)\n"
   ]
  },
  {
   "cell_type": "code",
   "execution_count": 37,
   "metadata": {},
   "outputs": [
    {
     "data": {
      "text/plain": [
       "1    133269\n",
       "0      3352\n",
       "Name: Special_Conds, dtype: int64"
      ]
     },
     "execution_count": 37,
     "metadata": {},
     "output_type": "execute_result"
    }
   ],
   "source": [
    "#good or bad\n",
    "data['Special_Conds'] = data['Special_Conditions_at_Site'].map(lambda x: 1 if x==0  else  0 )\n",
    "data = data.drop(['Special_Conditions_at_Site'], axis = 1)\n",
    "\n",
    "data.Special_Conds.value_counts()"
   ]
  },
  {
   "cell_type": "code",
   "execution_count": 38,
   "metadata": {},
   "outputs": [],
   "source": [
    "#good or bad\n",
    "data['Carriageway_Haz'] = data['Carriageway_Hazards'].map(lambda x: 1 if x==0  else  0 )\n",
    "data = data.drop(['Carriageway_Hazards'], axis = 1)\n",
    "\n"
   ]
  },
  {
   "cell_type": "code",
   "execution_count": 39,
   "metadata": {},
   "outputs": [
    {
     "data": {
      "text/plain": [
       "1    88468\n",
       "2    48146\n",
       "3        7\n",
       "Name: Urban_or_Rural_Area, dtype: int64"
      ]
     },
     "execution_count": 39,
     "metadata": {},
     "output_type": "execute_result"
    }
   ],
   "source": [
    "data.Urban_or_Rural_Area.value_counts()"
   ]
  },
  {
   "cell_type": "code",
   "execution_count": 40,
   "metadata": {},
   "outputs": [
    {
     "data": {
      "text/plain": [
       "weekday    103779\n",
       "weekend     32842\n",
       "Name: weekdays, dtype: int64"
      ]
     },
     "execution_count": 40,
     "metadata": {},
     "output_type": "execute_result"
    }
   ],
   "source": [
    "data.weekdays.value_counts()"
   ]
  },
  {
   "cell_type": "code",
   "execution_count": 41,
   "metadata": {},
   "outputs": [],
   "source": [
    "#divide hour of the day in commute-non-commute \n",
    "\n",
    "\n",
    "data['Commute_hours'] = data['Time_hour'].map(lambda x: 1 if x in (7,9) or x in (15,17) else  0 )\n",
    "#data = data.drop(['Carriageway_Hazards'], axis = 1)\n",
    "data = data.drop(['Time_hour'], axis = 1)\n"
   ]
  },
  {
   "cell_type": "code",
   "execution_count": 42,
   "metadata": {},
   "outputs": [],
   "source": [
    "#when no junction it is nan, in road number is 0, I will fillna with 0\n",
    "data['2nd_Road_Class'] = data['2nd_Road_Class'].fillna(0)"
   ]
  },
  {
   "cell_type": "code",
   "execution_count": 43,
   "metadata": {},
   "outputs": [
    {
     "data": {
      "text/plain": [
       "(136621, 31)"
      ]
     },
     "execution_count": 43,
     "metadata": {},
     "output_type": "execute_result"
    }
   ],
   "source": [
    "data.shape"
   ]
  },
  {
   "cell_type": "code",
   "execution_count": 44,
   "metadata": {},
   "outputs": [
    {
     "data": {
      "text/plain": [
       "Age_Band_of_Driver            6670\n",
       "include_pedestrian               0\n",
       "Location_Easting_OSGR            7\n",
       "Location_Northing_OSGR           7\n",
       "Longitude                        7\n",
       "Latitude                         7\n",
       "Day_of_Week                      0\n",
       "1st_Road_Class                   0\n",
       "1st_Road_Number                  0\n",
       "Road_Type                        1\n",
       "Speed_limit                     37\n",
       "2nd_Road_Class                   0\n",
       "2nd_Road_Number                617\n",
       "Urban_or_Rural_Area              0\n",
       "LSOA_of_Accident_Location     8351\n",
       "Class                            0\n",
       "weekdays                         0\n",
       "Casualty_IMD_Group           25586\n",
       "Driver_IMD_Group             28030\n",
       "Vehicle_Age_Group            38062\n",
       "Number_Vehicles_Group            0\n",
       "Number_Casualties_Group          0\n",
       "Junction_Group                   0\n",
       "Pedestrian_Control               0\n",
       "Pedestrian_PhisFac               0\n",
       "Active_Light                     0\n",
       "Weather                          0\n",
       "Road_Surf_Cond                   0\n",
       "Special_Conds                    0\n",
       "Carriageway_Haz                  0\n",
       "Commute_hours                    0\n",
       "dtype: int64"
      ]
     },
     "execution_count": 44,
     "metadata": {},
     "output_type": "execute_result"
    }
   ],
   "source": [
    "data.isna().sum()"
   ]
  },
  {
   "cell_type": "raw",
   "metadata": {},
   "source": [
    "10% rule: Do not impute data if more than 10% of column are NaNs. (Introduces artifial relationships)\n",
    "Finally, I removed NaNs. Getting rid of them is the easiest solution but it has side effects, apart from lossing information we modify the distribution in classification problems, in this case, it means a proportion change between classes from 0.82 to 0.83."
   ]
  },
  {
   "cell_type": "code",
   "execution_count": 45,
   "metadata": {},
   "outputs": [
    {
     "data": {
      "text/plain": [
       "(77703, 31)"
      ]
     },
     "execution_count": 45,
     "metadata": {},
     "output_type": "execute_result"
    }
   ],
   "source": [
    "data = data.dropna()\n",
    "data.shape"
   ]
  },
  {
   "cell_type": "code",
   "execution_count": 46,
   "metadata": {},
   "outputs": [],
   "source": [
    "data.to_csv('data_to_model.csv')"
   ]
  },
  {
   "cell_type": "code",
   "execution_count": null,
   "metadata": {},
   "outputs": [],
   "source": []
  },
  {
   "cell_type": "code",
   "execution_count": 173,
   "metadata": {},
   "outputs": [
    {
     "data": {
      "text/plain": [
       "83.48068929127575"
      ]
     },
     "execution_count": 173,
     "metadata": {},
     "output_type": "execute_result"
    }
   ],
   "source": [
    "(data[data.Class == 0].count()[0]/data.shape[0])*100"
   ]
  },
  {
   "cell_type": "code",
   "execution_count": null,
   "metadata": {},
   "outputs": [],
   "source": []
  }
 ],
 "metadata": {
  "kernelspec": {
   "display_name": "Python 3",
   "language": "python",
   "name": "python3"
  },
  "language_info": {
   "codemirror_mode": {
    "name": "ipython",
    "version": 3
   },
   "file_extension": ".py",
   "mimetype": "text/x-python",
   "name": "python",
   "nbconvert_exporter": "python",
   "pygments_lexer": "ipython3",
   "version": "3.6.6"
  }
 },
 "nbformat": 4,
 "nbformat_minor": 2
}
